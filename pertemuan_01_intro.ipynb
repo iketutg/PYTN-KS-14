{
 "cells": [
  {
   "attachments": {},
   "cell_type": "markdown",
   "metadata": {},
   "source": [
    "# 01 Introduction to Python for Data Science \n"
   ]
  },
  {
   "attachments": {},
   "cell_type": "markdown",
   "metadata": {},
   "source": [
    "\n",
    "| title | Description | \n",
    "|:------|:------------|\n",
    "|Complexity Level | Beginner (Pemula)| \n",
    "|Prerequisite | Untuk mengambil program ini, pastikan kamu telah memahami kemampuan dasar komputer (web browsing, app installation, file navigating). Tidak diperlukan pengalaman pemrograman atau pengembangan aplikasi web apa pun sebelumnya. | \n",
    "| Program Description | Intro to Python for Data Science berisi semua hal dasar yang dibutuhkan untuk menjadi seorang Data Scientist. Program berbasis keterampilan ini ditujukan untuk learner, yang ingin belajar python dan ingin menerapkan statistik, machine learning, dan visualisasi informasi melalui toolkit python populer seperti pandas, matplotlib, scikit-learning, seaborn, dan banyak lagi untuk mendapatkan wawasan tentang data yang ada. Dan pada course yang terakhir learner akan belajar semua hal tentang Machine Learning yang akan mendukung kemampuan learner di bidang Data Science. Diharapkan setelah mengikuti Online Program ini learner akan menjadi seorang Data Scientist yang siap menghadapi dunia kerja di bidang Data Science. | \n",
    "| Program Objectives | ● Menggunakan fungsionalitas serta fitur dari Python yang digunakan untuk data science <br> ● Memahami Practical Statistics yang digunakan untuk data science <br> ● Query struktur DataFrame untuk cleaning and processing dataset <br> ● Membuat visualisasi basic hingga advance untuk representasi data <br> ● Membuat ML features yang memenuhi kebutuhan analisa data <br> ● Menggunakan scikit-learn untuk membuat dan evaluasi ML model <br> ● Mengimplementasikan Supervised dan Unsupervised Learning untuk memecahkan kasus nyata <br> ● Mampu melakukan deployment Model ML yang telah dibuat  |\n",
    "| Program Output and Portfolio type | Lulusan program ini diharapkan mampu melakukan EDA (Exploratory Data Analysis ) dengan Python dan mampu membuat Machine Learning Model untuk memecahkan kasus nyata. |\n",
    "\n",
    "\n",
    "link Markdown Cheatsheet <url>https://github.com/adam-p/markdown-here/wiki/Markdown-Cheatsheet#code </url>\n",
    "\n",
    "Minimum device requirements:  Processor Core i3 gen 6 / Ryzen gen 1 (recommended: Core i5 gen 6 / Ryzen gen 2), RAM minimum 4GB (recommended: 8GB) and at least 100GB storage available. Preferably using Unix or Linux as an Operating System, or Windows 10 with WSL2 Ubuntu 18.04/20.04 Kernel.\n",
    "\n",
    "\n",
    "Contents\n",
    "\n",
    "This section covers what you'll learn in this labs.\n",
    "\n",
    "1. Introduction: Basic Syntax, Data Type, and Variable\n",
    "    * Self Paced Learning: Memahami Jupyter Notebook\n",
    "2. Conditions, Control Flow & Looping\n",
    "3. Function, Basic Module, and Package\n",
    "4. Numpy\n",
    "5. Pandas Introduction\n",
    "6. Data Cleaning with Pandas\n",
    "7. Basic Visualization\n",
    "8. Advanced Visualization\n",
    "    * Assignment Python 1\n",
    "9. Descriptive Statistics\n",
    "10. Inferential Statistics\n",
    "    * Assignment Python 2\n",
    "12. Regression Models\n",
    "    * Self Paced Learning: Algoritma Machine Learning\n",
    "13. Classification 1\n",
    "14. Classification 2\n",
    "    * Assignment 3 Python\n",
    "15. Unsupervised\n",
    "16. Model Deployment\n",
    "    * Self Paced Learning: Mempelajari Machine Learning dengan Python\n",
    "17. Final Projects\n",
    "    * Final Project\n",
    "\n"
   ]
  },
  {
   "attachments": {},
   "cell_type": "markdown",
   "metadata": {},
   "source": [
    "- Anaconda (Juypter Notebook)\n",
    "- Visual Studio Code \n",
    "- Google Colab \n",
    "- Pycharm\n",
    "  \n",
    "- Git Scm\n",
    "- Register Github \n",
    "- Register Heroku (berbayar)"
   ]
  },
  {
   "attachments": {},
   "cell_type": "markdown",
   "metadata": {},
   "source": [
    "### Install Anaconda \n",
    "\n",
    "https://docs.anaconda.com/anaconda/install/ "
   ]
  },
  {
   "attachments": {},
   "cell_type": "markdown",
   "metadata": {},
   "source": [
    "### Install Visual Studio \n",
    "https://code.visualstudio.com/"
   ]
  },
  {
   "attachments": {},
   "cell_type": "markdown",
   "metadata": {},
   "source": [
    "##  Introduction to Python"
   ]
  },
  {
   "attachments": {},
   "cell_type": "markdown",
   "metadata": {},
   "source": [
    "Apa itu Python ? \n",
    "\n",
    "\"Python is **Powerfull**, easy to use , Object Oriented Programming language\" \n",
    "\n",
    "Powerfull : bisa berjalan di semua os dan sangat berguna.  \n",
    "\n",
    "Python sangat berguna : Scripts & Program (Automation, Tools) , Web Development ( django, flask , fastapi) , Data Science \n"
   ]
  },
  {
   "attachments": {},
   "cell_type": "markdown",
   "metadata": {},
   "source": [
    "FastAPI : \n",
    "https://fastapi.tiangolo.com/ \n",
    "\n",
    "Flask : \n",
    "https://flask.palletsprojects.com/en/2.0.x/\n",
    "\n",
    "Django :\n",
    "https://www.djangoproject.com/  \n",
    "\n",
    "Streamlit\n",
    "https://streamlit.io/"
   ]
  },
  {
   "attachments": {},
   "cell_type": "markdown",
   "metadata": {},
   "source": [
    "## Alur Pemrogramman"
   ]
  },
  {
   "attachments": {},
   "cell_type": "markdown",
   "metadata": {},
   "source": [
    "<img src=\"https://i.ibb.co/0MkZvWh/logika.png\" width=\"800\" align=\"center\">"
   ]
  },
  {
   "attachments": {},
   "cell_type": "markdown",
   "metadata": {},
   "source": [
    "## Intrepeter or Compiler ?  "
   ]
  },
  {
   "attachments": {},
   "cell_type": "markdown",
   "metadata": {},
   "source": [
    "<img src=\"https://i.ibb.co/9VXZG2F/Python-Execution-Model.png\" width=\"600\" align=\"center\">\n"
   ]
  },
  {
   "attachments": {},
   "cell_type": "markdown",
   "metadata": {},
   "source": [
    "<img src=\"https://i.ibb.co/PmKTKjX/python-compile.png\" width=\"600\" align=\"center\">\n"
   ]
  },
  {
   "attachments": {},
   "cell_type": "markdown",
   "metadata": {},
   "source": [
    "## Menjalankan Jupyter Notebook : \n",
    "\n",
    "1. Anaconda Navigator \n",
    "   - Install Juypter Notebook \n",
    "   - Open Juypter Notebook \n",
    "\n",
    "2. Juypter Notebook command prompt  \n",
    "    - Masuk ke terminal / command prompt \n",
    "    - jalankan printah command \"jupyter notebook\" \n",
    "\n",
    "\n",
    "3. Melalui Visual Studio Code Editor \n",
    "    - buat file new dengan extension ipynb contoh : latihan.ipynb \n",
    "    - maka akan mendeteksi untuk menginstall extension jupyter \n",
    "    - atau bisa langsung cari di marketplace pada visual studio code \n",
    "\n",
    "\n",
    "4. Melalui Google Colabs \n",
    "    - https://colabs.google.com \n"
   ]
  },
  {
   "attachments": {},
   "cell_type": "markdown",
   "metadata": {},
   "source": [
    "## Short Cut Jupyter  \n",
    "\n",
    "    While in command mode (press Esc to activate):\n",
    "\n",
    "Enter take you into edit mode\n",
    "* H show all shortcuts\n",
    "* Up select cell above\n",
    "* Down select cell below\n",
    "* Shift + Up extend selected cells above\n",
    "* Shift + Down extend selected cells below\n",
    "* A insert cell above\n",
    "* B insert cell below\n",
    "* X cut selected cells\n",
    "* C copy selected cells\n",
    "* V paste cells below\n",
    "* Shift + V paste cells above\n",
    "* D, D (press the key twice) delete selected cells\n",
    "* Z undo cell deletion\n",
    "* S Save and Checkpoint\n",
    "* Y change the cell type to Code\n",
    "* M change the cell type to Markdown\n",
    "* P open the command palette.\n",
    "* Shift + Space scroll notebook up\n",
    "* Space scroll notebook down\n",
    "* While in edit mode (pressEnter to activate)\n",
    "Esc take you into command mode\n",
    "Tab code completion or indent\n",
    "* Shift + Tab tooltip\n",
    "* Ctrl + ] indent\n",
    "* Ctrl + [ dedent\n",
    "* Ctrl + A select all\n",
    "* Ctrl + Z undo\n",
    "* Ctrl + Shift + Z or Ctrl + Y redo\n",
    "* Ctrl + Home go to cell start\n",
    "* Ctrl + End go to cell end\n",
    "* Ctrl + Left go one word left\n",
    "* Ctrl + Right go one word right\n",
    "* Ctrl + Shift + P open the command palette\n",
    "* Down move cursor down"
   ]
  },
  {
   "attachments": {},
   "cell_type": "markdown",
   "metadata": {},
   "source": [
    "_____\n"
   ]
  },
  {
   "attachments": {},
   "cell_type": "markdown",
   "metadata": {},
   "source": [
    "## Introduction, Data Types, and Variables"
   ]
  },
  {
   "attachments": {},
   "cell_type": "markdown",
   "metadata": {},
   "source": [
    "## Tipe Data Python \n",
    "- Integers \n",
    "- Floating \n",
    "- String \n",
    "- Boolean  "
   ]
  },
  {
   "attachments": {},
   "cell_type": "markdown",
   "metadata": {},
   "source": [
    "____"
   ]
  },
  {
   "attachments": {},
   "cell_type": "markdown",
   "metadata": {},
   "source": [
    "#### Integer"
   ]
  },
  {
   "cell_type": "code",
   "execution_count": 7,
   "metadata": {},
   "outputs": [
    {
     "name": "stdout",
     "output_type": "stream",
     "text": [
      "3\n",
      "2\n",
      "1111111111111111111111111111111111111111111112\n"
     ]
    }
   ],
   "source": [
    "print(1+2)\n",
    "print(1+1)\n",
    "print(1111111111111111111111111111111111111111111111+1)"
   ]
  },
  {
   "cell_type": "code",
   "execution_count": 10,
   "metadata": {},
   "outputs": [
    {
     "name": "stdout",
     "output_type": "stream",
     "text": [
      "10\n",
      "<class 'int'>\n"
     ]
    }
   ],
   "source": [
    "number = 10 \n",
    "print(number)\n",
    "print(type(number))"
   ]
  },
  {
   "attachments": {},
   "cell_type": "markdown",
   "metadata": {},
   "source": [
    "Floating Point"
   ]
  },
  {
   "attachments": {},
   "cell_type": "markdown",
   "metadata": {},
   "source": [
    "- ada digit decimal \n",
    "- karater E atau e "
   ]
  },
  {
   "cell_type": "code",
   "execution_count": 15,
   "metadata": {},
   "outputs": [
    {
     "name": "stdout",
     "output_type": "stream",
     "text": [
      "7\n",
      "<class 'int'>\n"
     ]
    }
   ],
   "source": [
    "fnumber = 7. \n",
    "print(fnumber)\n",
    "print(type(fnumber))"
   ]
  },
  {
   "cell_type": "code",
   "execution_count": 18,
   "metadata": {},
   "outputs": [
    {
     "name": "stdout",
     "output_type": "stream",
     "text": [
      "1233330.0\n",
      "<class 'float'>\n"
     ]
    }
   ],
   "source": [
    "fnumber2 = .123333e7 \n",
    "print(fnumber2)\n",
    "print(type(fnumber2))"
   ]
  },
  {
   "attachments": {},
   "cell_type": "markdown",
   "metadata": {},
   "source": [
    "String "
   ]
  },
  {
   "attachments": {},
   "cell_type": "markdown",
   "metadata": {},
   "source": [
    "- menggunakan kutip (satu (' ') atau dua (\" \"))"
   ]
  },
  {
   "cell_type": "code",
   "execution_count": 22,
   "metadata": {},
   "outputs": [
    {
     "name": "stdout",
     "output_type": "stream",
     "text": [
      "IKetut 1 gunawan\n",
      "<class 'str'>\n"
     ]
    }
   ],
   "source": [
    "nama = 'IKetut 1 gunawan'\n",
    "print(nama)\n",
    "print(type(nama))"
   ]
  },
  {
   "attachments": {},
   "cell_type": "markdown",
   "metadata": {},
   "source": [
    "Boolean"
   ]
  },
  {
   "attachments": {},
   "cell_type": "markdown",
   "metadata": {},
   "source": [
    "True dan False"
   ]
  },
  {
   "cell_type": "code",
   "execution_count": 23,
   "metadata": {},
   "outputs": [
    {
     "name": "stdout",
     "output_type": "stream",
     "text": [
      "True\n",
      "<class 'bool'>\n"
     ]
    }
   ],
   "source": [
    "ok = True\n",
    "print(ok)\n",
    "print(type(ok))"
   ]
  },
  {
   "cell_type": "code",
   "execution_count": 24,
   "metadata": {},
   "outputs": [
    {
     "name": "stdout",
     "output_type": "stream",
     "text": [
      "False\n",
      "<class 'bool'>\n"
     ]
    }
   ],
   "source": [
    "ok = False\n",
    "print(ok)\n",
    "print(type(ok))"
   ]
  },
  {
   "attachments": {},
   "cell_type": "markdown",
   "metadata": {},
   "source": [
    "#### Variable Assignment  "
   ]
  },
  {
   "cell_type": "code",
   "execution_count": 25,
   "metadata": {},
   "outputs": [],
   "source": [
    "a = b = c = d = e = f = g = h = i = j = 150 "
   ]
  },
  {
   "cell_type": "code",
   "execution_count": 27,
   "metadata": {},
   "outputs": [
    {
     "name": "stdout",
     "output_type": "stream",
     "text": [
      "150 150 150 150 150 150 150 150\n"
     ]
    }
   ],
   "source": [
    "print(a,b,c,d,e,f,g,h)"
   ]
  },
  {
   "attachments": {},
   "cell_type": "markdown",
   "metadata": {},
   "source": [
    "#### Aturan variable names \n",
    "- variable tidak di depan dengan menggunakan angka \n",
    "- variable depan bisa menggunakan huruf (besar / kecil )\n",
    "- variable depan menggunakan tanda / karakter garis bawah (_) \n",
    "  "
   ]
  },
  {
   "cell_type": "code",
   "execution_count": 28,
   "metadata": {},
   "outputs": [
    {
     "name": "stdout",
     "output_type": "stream",
     "text": [
      "Kosong\n"
     ]
    }
   ],
   "source": [
    "_ = \"Kosong\" \n",
    "print(_)"
   ]
  },
  {
   "cell_type": "code",
   "execution_count": 29,
   "metadata": {},
   "outputs": [
    {
     "name": "stdout",
     "output_type": "stream",
     "text": [
      "1\n"
     ]
    }
   ],
   "source": [
    "_1 = 1 \n",
    "print(_1)"
   ]
  },
  {
   "cell_type": "code",
   "execution_count": 30,
   "metadata": {},
   "outputs": [
    {
     "name": "stdout",
     "output_type": "stream",
     "text": [
      "IKetut\n"
     ]
    }
   ],
   "source": [
    "nama_depan = \"IKetut\"\n",
    "print (nama_depan)"
   ]
  },
  {
   "cell_type": "code",
   "execution_count": 31,
   "metadata": {},
   "outputs": [
    {
     "ename": "SyntaxError",
     "evalue": "invalid decimal literal (4143167534.py, line 1)",
     "output_type": "error",
     "traceback": [
      "\u001b[0;36m  Cell \u001b[0;32mIn[31], line 1\u001b[0;36m\u001b[0m\n\u001b[0;31m    1_angka = 10\u001b[0m\n\u001b[0m     ^\u001b[0m\n\u001b[0;31mSyntaxError\u001b[0m\u001b[0;31m:\u001b[0m invalid decimal literal\n"
     ]
    }
   ],
   "source": [
    "1_angka = 10 \n",
    "print(1_angka)"
   ]
  },
  {
   "attachments": {},
   "cell_type": "markdown",
   "metadata": {},
   "source": [
    "#### Standard penamaan suatu variable \n",
    "-  Snake Case  : first_name  \n",
    "-  Camel Case  : jumlahAnakLakiLaki \n",
    "-  Pascal case : FistName"
   ]
  },
  {
   "cell_type": "code",
   "execution_count": null,
   "metadata": {},
   "outputs": [],
   "source": []
  },
  {
   "attachments": {},
   "cell_type": "markdown",
   "metadata": {},
   "source": [
    "#### Operator dan Expresion \n"
   ]
  },
  {
   "attachments": {},
   "cell_type": "markdown",
   "metadata": {},
   "source": [
    "##### Basic Arithmetic operation \n",
    "\n",
    "\n",
    "| Operator | Description |\tSyntax |\n",
    "-----------|:-----------:|--------:|\n",
    "| +\t       |Addition: adds two operands |\tx + y |\n",
    "|–\t | Subtraction: subtracts two operands |\tx – y |\n",
    "|*\t| Multiplication: multiplies two operands |\tx * y | \n",
    "|/\t| Division (float): divides the first operand by the second |\tx / y |\n",
    "|//\t| Division (floor): divides the first operand by the second |\tx // y | \n",
    "|%\t| Modulus: returns the remainder when first operand is divided by the second | x % y |\n",
    "|**\t| Power : Returns first raised to power second |\tx ** y |"
   ]
  },
  {
   "cell_type": "code",
   "execution_count": 36,
   "metadata": {},
   "outputs": [
    {
     "name": "stdout",
     "output_type": "stream",
     "text": [
      "15\n",
      "5\n",
      "2.0\n",
      "2\n",
      "0\n",
      "100\n"
     ]
    }
   ],
   "source": [
    "x = 5 \n",
    "y = 10 \n",
    "\n",
    "print(x+y)\n",
    "print(y-x)\n",
    "\n",
    "print(y/x)\n",
    "print(y//x)\n",
    "print(y % x)\n",
    "print(y ** 2)"
   ]
  },
  {
   "cell_type": "code",
   "execution_count": null,
   "metadata": {},
   "outputs": [],
   "source": []
  },
  {
   "attachments": {},
   "cell_type": "markdown",
   "metadata": {},
   "source": [
    "#### Operator Penugasan\n",
    "|Operator |\tSimbol |\n",
    "|:--------|:-------|\n",
    "| Pengisian |\t= |\n",
    "| Penjumlahan |\t+= |\n",
    "| Pengurangan |\t-= |\n",
    "| Perkalian |\t*= |\n",
    "| Pembagian |\t/= |\n",
    "| Sisa Bagi |\t%= |\n",
    "| Pemangkatan |\t**= |"
   ]
  },
  {
   "cell_type": "code",
   "execution_count": 38,
   "metadata": {},
   "outputs": [
    {
     "name": "stdout",
     "output_type": "stream",
     "text": [
      "15\n",
      "15\n"
     ]
    }
   ],
   "source": [
    "x = 10 \n",
    "y = 5 \n",
    "\n",
    "print(x+y)\n",
    "y +=x    #  y = y + x \n",
    "print(y)"
   ]
  },
  {
   "attachments": {},
   "cell_type": "markdown",
   "metadata": {},
   "source": [
    "#### Comparison Operators \n",
    "\n",
    "- membandingkan dua nilai \n",
    "- dengan operator relasi\n",
    "  \n",
    "|Operator |\tSimbol |\n",
    "|:--------|:-------|\n",
    "|Lebih Besar|\t> |\n",
    "| Lebih Kecil |\t< |\n",
    "| Sama Dengan\t| == | \n",
    "| Tidak Sama dengan |\t!= |\n",
    "| Lebih Besar Sama dengan |\t>= |\n",
    "| Lebih Kecil Sama dengan |\t<= |"
   ]
  },
  {
   "cell_type": "code",
   "execution_count": 39,
   "metadata": {},
   "outputs": [
    {
     "name": "stdout",
     "output_type": "stream",
     "text": [
      "False\n"
     ]
    }
   ],
   "source": [
    "x = 20 \n",
    "y = 40 \n",
    "\n",
    "print(x == y)"
   ]
  },
  {
   "cell_type": "code",
   "execution_count": null,
   "metadata": {},
   "outputs": [],
   "source": []
  },
  {
   "attachments": {},
   "cell_type": "markdown",
   "metadata": {},
   "source": [
    "#### Operator Logika \n",
    "- operasi logika  ( AND , OR , NOT )\n",
    "\n",
    "|Nama |\tSimbol di Python |\n",
    "|:----|:----------|\n",
    "| Logika AND |\tand |\n",
    "| Logika OR\t| or |\n",
    "| Negasi/kebalikan |\tnot |\n",
    "\n",
    "Contoh : \"and\" \n",
    "\n",
    "|x   and  y | result | \n",
    "|----------:|-----:|\n",
    "|True and True | True |\n",
    "|True and False | False |\n",
    "|False and False | False   | \n",
    "\n",
    "Contoh : \"or\" \n",
    "\n",
    "|x   or  y | result | \n",
    "|----------:|-----:|\n",
    "|True or True | True |\n",
    "|True or False | True |\n",
    "|False or True | True |\n",
    "|False or False | False   | \n"
   ]
  },
  {
   "cell_type": "code",
   "execution_count": 40,
   "metadata": {},
   "outputs": [
    {
     "name": "stdout",
     "output_type": "stream",
     "text": [
      "False\n",
      "True\n"
     ]
    }
   ],
   "source": [
    "a = True\n",
    "b = False\n",
    "\n",
    "print(a and b) # false \n",
    "print(a or b) # false "
   ]
  },
  {
   "attachments": {},
   "cell_type": "markdown",
   "metadata": {},
   "source": [
    "##### String manipulation\n"
   ]
  },
  {
   "cell_type": "code",
   "execution_count": 43,
   "metadata": {},
   "outputs": [
    {
     "name": "stdout",
     "output_type": "stream",
     "text": [
      "Hai Hello Hola \n"
     ]
    }
   ],
   "source": [
    "# Operator \n",
    "\n",
    "s = \"Hai \"\n",
    "b = \"Hello \"\n",
    "c = \"Hola \"\n",
    "\n",
    "print(s + b + c)"
   ]
  },
  {
   "cell_type": "code",
   "execution_count": 47,
   "metadata": {},
   "outputs": [
    {
     "name": "stdout",
     "output_type": "stream",
     "text": [
      "ApakabarApakabarApakabarApakabarApakabarApakabarApakabarApakabarApakabarApakabar\n",
      "================================================================================\n",
      "True\n"
     ]
    }
   ],
   "source": [
    "hai = \"Apakabar\"\n",
    "print(hai * 10)\n",
    "\n",
    "print(\"=\"* 80)\n",
    "\n",
    "print(hai in 'Apakabar Jakart?')"
   ]
  },
  {
   "cell_type": "code",
   "execution_count": null,
   "metadata": {},
   "outputs": [],
   "source": [
    "'halo apa kabar ?' "
   ]
  },
  {
   "cell_type": "code",
   "execution_count": 52,
   "metadata": {},
   "outputs": [
    {
     "name": "stdout",
     "output_type": "stream",
     "text": [
      "google\n",
      "GOOGLE\n",
      "gOOGLE\n",
      "Hadapi dengan senyuman\n",
      "Hadapi Dengan Senyuman\n"
     ]
    }
   ],
   "source": [
    "# Case Conversion \n",
    "\n",
    "x = \"Google\"\n",
    "\n",
    "#lower \n",
    "print(x.lower())\n",
    "#Uper\n",
    "print(x.upper())\n",
    "# swapcase \n",
    "print(x.swapcase())\n",
    "\n",
    "y = \"hadapi dengan senyuman\"\n",
    "\n",
    "print(y.capitalize())\n",
    "\n",
    "print(y.title())\n",
    "\n"
   ]
  },
  {
   "attachments": {},
   "cell_type": "markdown",
   "metadata": {},
   "source": [
    "#### Container "
   ]
  },
  {
   "attachments": {},
   "cell_type": "markdown",
   "metadata": {},
   "source": [
    "<img src=\"images/01_container.png\" width=\"600\" align=\"center\">"
   ]
  },
  {
   "cell_type": "code",
   "execution_count": 58,
   "metadata": {},
   "outputs": [],
   "source": [
    "names = [\"Bowo\",\"Joko\",\"Budi\"]\n",
    "phone_book ={ \"Ketut\":\"08121312121111\", \"Gunawan\": \"08121212121121\"}"
   ]
  },
  {
   "cell_type": "code",
   "execution_count": null,
   "metadata": {},
   "outputs": [],
   "source": []
  },
  {
   "attachments": {},
   "cell_type": "markdown",
   "metadata": {},
   "source": [
    "<img src=\"images/03_container.png\" width=\"600\" align=\"center\">"
   ]
  },
  {
   "attachments": {},
   "cell_type": "markdown",
   "metadata": {},
   "source": [
    "<img src=\"images/05_container.png\" width=\"800\" align=\"center\">"
   ]
  },
  {
   "attachments": {},
   "cell_type": "markdown",
   "metadata": {},
   "source": [
    "#### Python List \n",
    "\n",
    "- menggunakan tanda kurung siku\n",
    "\n",
    "Karakteristik penting dari List Python adalah sebagai berikut:\n",
    "\n",
    "\n",
    "* Lists di siapkan.\n",
    "* Lists dapat berisi objek sembarang.\n",
    "* Elemen Lists dapat diakses dengan indeks.\n",
    "* List dapat masukan ke kedalaman yang bebas.\n",
    "* List bisa berubah.\n",
    "* List bersifat dinamis."
   ]
  },
  {
   "cell_type": "code",
   "execution_count": 59,
   "metadata": {},
   "outputs": [
    {
     "name": "stdout",
     "output_type": "stream",
     "text": [
      "['budi', 'Joko', 'Jono', 'Jeky']\n",
      "<class 'list'>\n"
     ]
    }
   ],
   "source": [
    "names= ['budi','Joko','Jono','Jeky']\n",
    "print(names)\n",
    "print(type(names))"
   ]
  },
  {
   "cell_type": "code",
   "execution_count": 61,
   "metadata": {},
   "outputs": [
    {
     "name": "stdout",
     "output_type": "stream",
     "text": [
      "['Budi', 'Joko', 100, 50.5, True]\n",
      "<class 'list'>\n"
     ]
    }
   ],
   "source": [
    "variabel_sembarang = ['Budi','Joko',100, 50.5, True]\n",
    "print(variabel_sembarang)\n",
    "print(type(variabel_sembarang))"
   ]
  },
  {
   "cell_type": "code",
   "execution_count": 62,
   "metadata": {},
   "outputs": [
    {
     "data": {
      "text/plain": [
       "'Budi'"
      ]
     },
     "execution_count": 62,
     "metadata": {},
     "output_type": "execute_result"
    }
   ],
   "source": [
    "variabel_sembarang[0]"
   ]
  },
  {
   "attachments": {},
   "cell_type": "markdown",
   "metadata": {},
   "source": [
    "![alt text](https://i.ibb.co/2dwyz0n/list.png \"List Element\")\n"
   ]
  },
  {
   "cell_type": "code",
   "execution_count": 64,
   "metadata": {},
   "outputs": [
    {
     "name": "stdout",
     "output_type": "stream",
     "text": [
      "corge\n",
      "corge\n"
     ]
    },
    {
     "ename": "IndexError",
     "evalue": "list index out of range",
     "output_type": "error",
     "traceback": [
      "\u001b[0;31m---------------------------------------------------------------------------\u001b[0m",
      "\u001b[0;31mIndexError\u001b[0m                                Traceback (most recent call last)",
      "Cell \u001b[0;32mIn[64], line 5\u001b[0m\n\u001b[1;32m      2\u001b[0m \u001b[39mprint\u001b[39m(data_list[\u001b[39m5\u001b[39m])\n\u001b[1;32m      3\u001b[0m \u001b[39mprint\u001b[39m(data_list[\u001b[39m-\u001b[39m\u001b[39m1\u001b[39m])\n\u001b[0;32m----> 5\u001b[0m \u001b[39mprint\u001b[39m(data_list[\u001b[39m6\u001b[39;49m])\n",
      "\u001b[0;31mIndexError\u001b[0m: list index out of range"
     ]
    }
   ],
   "source": [
    "data_list = ['foo','bar','baz','qux','quux', 'corge']\n",
    "print(data_list[5])\n",
    "print(data_list[-1])\n",
    "\n",
    "print(data_list[6])"
   ]
  },
  {
   "attachments": {},
   "cell_type": "markdown",
   "metadata": {},
   "source": [
    "![alt text](https://i.ibb.co/HBpJ63P/list2.png \"List Element\")"
   ]
  },
  {
   "cell_type": "code",
   "execution_count": 67,
   "metadata": {},
   "outputs": [
    {
     "name": "stdout",
     "output_type": "stream",
     "text": [
      "['foo', 'bar', 'baz', 'qux']\n",
      "['foo', 'bar', 'baz', 'qux']\n",
      "['foo', 'bar', 'baz', 'qux', 'quux', 'corge']\n"
     ]
    }
   ],
   "source": [
    "data_list = ['foo','bar','baz','qux','quux', 'corge']\n",
    "print(data_list[0:4])\n",
    "\n",
    "\n",
    "print(data_list[:4])\n",
    "\n",
    "print(data_list[0:]) # 0 sampai akhir "
   ]
  },
  {
   "cell_type": "code",
   "execution_count": 69,
   "metadata": {},
   "outputs": [
    {
     "name": "stdout",
     "output_type": "stream",
     "text": [
      "False\n",
      "True\n"
     ]
    }
   ],
   "source": [
    "buah = ['apel','mangga','pepaya','jambu']\n",
    "\n",
    "print('jeruk' in buah) \n",
    "\n",
    "print('apel' in buah)"
   ]
  },
  {
   "cell_type": "code",
   "execution_count": 70,
   "metadata": {},
   "outputs": [
    {
     "name": "stdout",
     "output_type": "stream",
     "text": [
      "['apel', 'mangga', 'pepaya', 'jambu', 'Durian']\n"
     ]
    }
   ],
   "source": [
    "buah.append(\"Durian\")\n",
    "print(buah)"
   ]
  },
  {
   "cell_type": "code",
   "execution_count": 71,
   "metadata": {},
   "outputs": [
    {
     "name": "stdout",
     "output_type": "stream",
     "text": [
      "['apel', 'mangga', 'jambu', 'Durian']\n"
     ]
    }
   ],
   "source": [
    "buah.remove('pepaya')\n",
    "print(buah)"
   ]
  },
  {
   "cell_type": "code",
   "execution_count": null,
   "metadata": {},
   "outputs": [],
   "source": []
  },
  {
   "cell_type": "code",
   "execution_count": 74,
   "metadata": {},
   "outputs": [
    {
     "ename": "ValueError",
     "evalue": "list.remove(x): x not in list",
     "output_type": "error",
     "traceback": [
      "\u001b[0;31m---------------------------------------------------------------------------\u001b[0m",
      "\u001b[0;31mValueError\u001b[0m                                Traceback (most recent call last)",
      "Cell \u001b[0;32mIn[74], line 1\u001b[0m\n\u001b[0;32m----> 1\u001b[0m buah\u001b[39m.\u001b[39;49mremove(\u001b[39m'\u001b[39;49m\u001b[39mmanggis\u001b[39;49m\u001b[39m'\u001b[39;49m)\n",
      "\u001b[0;31mValueError\u001b[0m: list.remove(x): x not in list"
     ]
    }
   ],
   "source": [
    "buah.remove('manggis')\n"
   ]
  },
  {
   "cell_type": "code",
   "execution_count": 73,
   "metadata": {},
   "outputs": [
    {
     "name": "stdout",
     "output_type": "stream",
     "text": [
      "jambu telah di delete\n"
     ]
    }
   ],
   "source": [
    "buah_delete = buah.pop(2)\n",
    "print(f\"{buah_delete} telah di delete\")"
   ]
  },
  {
   "cell_type": "code",
   "execution_count": 75,
   "metadata": {},
   "outputs": [],
   "source": [
    "buah.insert(2,\"Manggis\")"
   ]
  },
  {
   "cell_type": "code",
   "execution_count": 76,
   "metadata": {},
   "outputs": [
    {
     "name": "stdout",
     "output_type": "stream",
     "text": [
      "['apel', 'mangga', 'Manggis', 'Durian']\n"
     ]
    }
   ],
   "source": [
    "print(buah)"
   ]
  },
  {
   "cell_type": "code",
   "execution_count": 78,
   "metadata": {},
   "outputs": [
    {
     "name": "stdout",
     "output_type": "stream",
     "text": [
      "['Durian', 'Manggis', 'apel', 'mangga']\n"
     ]
    }
   ],
   "source": [
    "buah.sort()\n",
    "print(buah)\n"
   ]
  },
  {
   "cell_type": "code",
   "execution_count": 82,
   "metadata": {},
   "outputs": [
    {
     "data": {
      "text/plain": [
       "['Durian', 'apel', 'mangga']"
      ]
     },
     "execution_count": 82,
     "metadata": {},
     "output_type": "execute_result"
    }
   ],
   "source": [
    "buah"
   ]
  },
  {
   "cell_type": "code",
   "execution_count": 83,
   "metadata": {},
   "outputs": [],
   "source": [
    "#buah.remove('Manggis')\n",
    "\n",
    "buah.remove('Durian')\n",
    "\n"
   ]
  },
  {
   "cell_type": "code",
   "execution_count": 85,
   "metadata": {},
   "outputs": [],
   "source": [
    "buah.append('durian')"
   ]
  },
  {
   "cell_type": "code",
   "execution_count": 86,
   "metadata": {},
   "outputs": [],
   "source": [
    "buah.append('mangis')"
   ]
  },
  {
   "cell_type": "code",
   "execution_count": 87,
   "metadata": {},
   "outputs": [],
   "source": [
    "buah.append('rambutan')"
   ]
  },
  {
   "cell_type": "code",
   "execution_count": 88,
   "metadata": {},
   "outputs": [
    {
     "data": {
      "text/plain": [
       "['apel', 'mangga', 'durian', 'mangis', 'rambutan']"
      ]
     },
     "execution_count": 88,
     "metadata": {},
     "output_type": "execute_result"
    }
   ],
   "source": [
    "buah"
   ]
  },
  {
   "cell_type": "code",
   "execution_count": 90,
   "metadata": {},
   "outputs": [
    {
     "name": "stdout",
     "output_type": "stream",
     "text": [
      "['apel', 'durian', 'mangga', 'mangis', 'rambutan']\n"
     ]
    }
   ],
   "source": [
    "buah.sort()\n",
    "\n",
    "print(buah)"
   ]
  },
  {
   "attachments": {},
   "cell_type": "markdown",
   "metadata": {},
   "source": [
    "#### Python Tuples \n",
    "menggunakan kurung tupup '()' \n",
    "tidak bisa di rubah "
   ]
  },
  {
   "cell_type": "code",
   "execution_count": 91,
   "metadata": {},
   "outputs": [
    {
     "name": "stdout",
     "output_type": "stream",
     "text": [
      "('apel', 'durian', 'mangga', 'mangis', 'rambutan')\n",
      "<class 'tuple'>\n"
     ]
    }
   ],
   "source": [
    "buah_tuple = ('apel', 'durian', 'mangga', 'mangis', 'rambutan')\n",
    "print(buah_tuple)\n",
    "print(type(buah_tuple))"
   ]
  },
  {
   "cell_type": "code",
   "execution_count": 93,
   "metadata": {},
   "outputs": [
    {
     "data": {
      "text/plain": [
       "'durian'"
      ]
     },
     "execution_count": 93,
     "metadata": {},
     "output_type": "execute_result"
    }
   ],
   "source": [
    "buah_tuple[1]"
   ]
  },
  {
   "cell_type": "code",
   "execution_count": 95,
   "metadata": {},
   "outputs": [],
   "source": [
    "x1 = x2 = x3 =('satu','dua','tiga')"
   ]
  },
  {
   "cell_type": "code",
   "execution_count": 96,
   "metadata": {},
   "outputs": [
    {
     "name": "stdout",
     "output_type": "stream",
     "text": [
      "('satu', 'dua', 'tiga') ('satu', 'dua', 'tiga') ('satu', 'dua', 'tiga')\n"
     ]
    }
   ],
   "source": [
    "print(x1, x2, x3)"
   ]
  },
  {
   "cell_type": "code",
   "execution_count": 97,
   "metadata": {},
   "outputs": [
    {
     "name": "stdout",
     "output_type": "stream",
     "text": [
      "(1, 2, 3, 'RUN!!!!')\n",
      "<class 'tuple'>\n"
     ]
    }
   ],
   "source": [
    "countdown = 1,2,3, \"RUN!!!!\" \n",
    "print(countdown)\n",
    "print(type(countdown))"
   ]
  },
  {
   "attachments": {},
   "cell_type": "markdown",
   "metadata": {},
   "source": [
    "### Python dictionary \n",
    "-  {} \n",
    "-  isi  bisa berupa list \n",
    "-  isi bisa berupa object  \n",
    "-  bisa berubah dan dinamis \n",
    "-  Key dan Value ( dapat diakses menggunakan key)\n",
    "-  Key string \n",
    "-  key dan value di pisahkan menggunakan titik dua ':'"
   ]
  },
  {
   "attachments": {},
   "cell_type": "markdown",
   "metadata": {},
   "source": [
    "<img src=\"https://i.ibb.co/zRsctx8/mlb.png\" width=\"400\" align=\"center\">"
   ]
  },
  {
   "cell_type": "code",
   "execution_count": 99,
   "metadata": {},
   "outputs": [],
   "source": [
    "MLB_team = {\n",
    "    'Colorado':'Rockies',\n",
    "    'Boston':'Red Sox',\n",
    "    'Minnesota':'Twins',\n",
    "    'Milwauke':'Brewers',\n",
    "    'Seatle':'Mariners',\n",
    "}"
   ]
  },
  {
   "cell_type": "code",
   "execution_count": 100,
   "metadata": {},
   "outputs": [
    {
     "name": "stdout",
     "output_type": "stream",
     "text": [
      "{'Colorado': 'Rockies', 'Boston': 'Red Sox', 'Minnesota': 'Twins', 'Milwauke': 'Brewers', 'Seatle': 'Mariners'}\n",
      "<class 'dict'>\n"
     ]
    }
   ],
   "source": [
    "print(MLB_team)\n",
    "print(type(MLB_team))"
   ]
  },
  {
   "cell_type": "code",
   "execution_count": 102,
   "metadata": {},
   "outputs": [
    {
     "name": "stdout",
     "output_type": "stream",
     "text": [
      "Red Sox\n"
     ]
    },
    {
     "ename": "KeyError",
     "evalue": "'Boston '",
     "output_type": "error",
     "traceback": [
      "\u001b[0;31m---------------------------------------------------------------------------\u001b[0m",
      "\u001b[0;31mKeyError\u001b[0m                                  Traceback (most recent call last)",
      "Cell \u001b[0;32mIn[102], line 3\u001b[0m\n\u001b[1;32m      1\u001b[0m \u001b[39mprint\u001b[39m(MLB_team[\u001b[39m'\u001b[39m\u001b[39mBoston\u001b[39m\u001b[39m'\u001b[39m])\n\u001b[0;32m----> 3\u001b[0m \u001b[39mprint\u001b[39m(MLB_team[\u001b[39m'\u001b[39;49m\u001b[39mBoston \u001b[39;49m\u001b[39m'\u001b[39;49m])\n",
      "\u001b[0;31mKeyError\u001b[0m: 'Boston '"
     ]
    }
   ],
   "source": [
    "print(MLB_team['Boston'])\n",
    "\n",
    "print(MLB_team['Boston '])\n"
   ]
  },
  {
   "cell_type": "code",
   "execution_count": 103,
   "metadata": {},
   "outputs": [
    {
     "data": {
      "text/plain": [
       "dict"
      ]
     },
     "execution_count": 103,
     "metadata": {},
     "output_type": "execute_result"
    }
   ],
   "source": [
    "person = {}\n",
    "type(person)"
   ]
  },
  {
   "cell_type": "code",
   "execution_count": 105,
   "metadata": {},
   "outputs": [],
   "source": [
    "person['fname'] = \"IKetut\"\n",
    "person['lname'] = \"Gunawan\"\n",
    "person['age'] = 45 \n",
    "person['pets'] = ['cats','ant']\n",
    "person['skill'] = {\"programming\":['Java','Golang','Python','Solidity'],\n",
    "                   \"database\":{\"nosql\":['MonggoDb','Neo4J'],\"rdbms\":['Mysql','PostgreSQL','Oracle']}}"
   ]
  },
  {
   "cell_type": "code",
   "execution_count": 106,
   "metadata": {},
   "outputs": [
    {
     "name": "stdout",
     "output_type": "stream",
     "text": [
      "{'fname': 'IKetut', 'lname': 'Gunawan', 'age': 45, 'pets': ['cats', 'ant'], 'skill': {'programming': ['Java', 'Golang', 'Python', 'Solidity'], 'database': {'nosql': ['MonggoDb', 'Neo4J'], 'rdbms': ['Mysql', 'PostgreSQL', 'Oracle']}}}\n"
     ]
    }
   ],
   "source": [
    "print(person)"
   ]
  },
  {
   "cell_type": "code",
   "execution_count": 108,
   "metadata": {},
   "outputs": [
    {
     "name": "stdout",
     "output_type": "stream",
     "text": [
      "{\n",
      "    \"fname\": \"IKetut\",\n",
      "    \"lname\": \"Gunawan\",\n",
      "    \"age\": 45,\n",
      "    \"pets\": [\n",
      "        \"cats\",\n",
      "        \"ant\"\n",
      "    ],\n",
      "    \"skill\": {\n",
      "        \"programming\": [\n",
      "            \"Java\",\n",
      "            \"Golang\",\n",
      "            \"Python\",\n",
      "            \"Solidity\"\n",
      "        ],\n",
      "        \"database\": {\n",
      "            \"nosql\": [\n",
      "                \"MonggoDb\",\n",
      "                \"Neo4J\"\n",
      "            ],\n",
      "            \"rdbms\": [\n",
      "                \"Mysql\",\n",
      "                \"PostgreSQL\",\n",
      "                \"Oracle\"\n",
      "            ]\n",
      "        }\n",
      "    }\n",
      "}\n"
     ]
    }
   ],
   "source": [
    "import json \n",
    "print(json.dumps(person, sort_keys=False, indent=4))"
   ]
  },
  {
   "attachments": {},
   "cell_type": "markdown",
   "metadata": {},
   "source": [
    "### Set"
   ]
  },
  {
   "cell_type": "code",
   "execution_count": 109,
   "metadata": {},
   "outputs": [
    {
     "name": "stdout",
     "output_type": "stream",
     "text": [
      "{'r', 'p', 'o', 'H', 'b', 'l', 'e', 'a', 'k'}\n",
      "<class 'set'>\n"
     ]
    }
   ],
   "source": [
    "varx = set(\"Helloapakabar\")\n",
    "print(varx)\n",
    "print(type(varx))"
   ]
  },
  {
   "cell_type": "code",
   "execution_count": 110,
   "metadata": {},
   "outputs": [
    {
     "data": {
      "text/plain": [
       "{1, 2, 3, 4}"
      ]
     },
     "execution_count": 110,
     "metadata": {},
     "output_type": "execute_result"
    }
   ],
   "source": [
    "set([1,2,3,4])"
   ]
  },
  {
   "cell_type": "code",
   "execution_count": 114,
   "metadata": {},
   "outputs": [
    {
     "name": "stdout",
     "output_type": "stream",
     "text": [
      "<class 'set'>\n",
      "{'Paul', 'Ringo', 'John', 'Gorge'}\n",
      "{'Paul', 'Ringo', 'Ketut', 'Gorge'}\n",
      "{'Paul', 'Ringo', 'Ketut', 'Gorge'}\n"
     ]
    }
   ],
   "source": [
    "beatles = {\"John\",\"Paul\",\"Ringo\",\"Gorge\"}\n",
    "print(type(beatles))\n",
    "print(beatles)\n",
    "\n",
    "beatles.remove(\"John\")\n",
    "beatles.add(\"Ketut\")\n",
    "print(beatles)\n",
    "\n",
    "beatles.add(\"Paul\")\n",
    "print(beatles)"
   ]
  },
  {
   "cell_type": "code",
   "execution_count": 115,
   "metadata": {},
   "outputs": [
    {
     "name": "stdout",
     "output_type": "stream",
     "text": [
      "{'Paul', 'Ringo', 'Ketut', 'Kurt', 'Cris', 'Dave', 'Gorge'}\n"
     ]
    }
   ],
   "source": [
    "nirvana = {\"Kurt\",\"Cris\",\"Dave\"}\n",
    "\n",
    "new_band = beatles | nirvana \n",
    "print(new_band)"
   ]
  },
  {
   "cell_type": "code",
   "execution_count": 116,
   "metadata": {},
   "outputs": [
    {
     "name": "stdout",
     "output_type": "stream",
     "text": [
      "{'E', 'C', 'A'}\n"
     ]
    }
   ],
   "source": [
    "word1 = {'A','B','C','D','E','F'}\n",
    "word2 = {'C','E','A','X','Y','Z'}\n",
    "print(word1 & word2)"
   ]
  },
  {
   "cell_type": "markdown",
   "metadata": {},
   "source": []
  }
 ],
 "metadata": {
  "kernelspec": {
   "display_name": "Python 3",
   "language": "python",
   "name": "python3"
  },
  "language_info": {
   "codemirror_mode": {
    "name": "ipython",
    "version": 3
   },
   "file_extension": ".py",
   "mimetype": "text/x-python",
   "name": "python",
   "nbconvert_exporter": "python",
   "pygments_lexer": "ipython3",
   "version": "3.8.9"
  },
  "orig_nbformat": 4,
  "vscode": {
   "interpreter": {
    "hash": "69011eff3314b354f42a2ba40b1ddc2bfa3dd9877deb2573d0d9019d6ff40d2a"
   }
  }
 },
 "nbformat": 4,
 "nbformat_minor": 2
}
