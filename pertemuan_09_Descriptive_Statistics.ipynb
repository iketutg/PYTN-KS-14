{
  "cells": [
    {
      "cell_type": "markdown",
      "metadata": {
        "id": "QKiko2NLu6_k"
      },
      "source": [
        "# Hacktiv8-PTP Python For Data Science // S.9 // Descriptive Statistics"
      ]
    },
    {
      "cell_type": "markdown",
      "metadata": {
        "id": "XecNVj5MvH6Z"
      },
      "source": [
        "-------"
      ]
    },
    {
      "cell_type": "markdown",
      "metadata": {
        "id": "7nM0TT3dvLx1"
      },
      "source": [
        "# Introduction "
      ]
    },
    {
      "cell_type": "markdown",
      "metadata": {
        "id": "zFE1eVV2vQn-"
      },
      "source": [
        "## What is Descriptive Statistics ?"
      ]
    },
    {
      "cell_type": "markdown",
      "metadata": {
        "id": "HBogwjUwvhMR"
      },
      "source": [
        "Descriptive statistics/Statistik deskriptif melibatkan meringkas/summarizing dan mengatur data sehingga dapat dengan mudah dipahami. Statistik deskriptif, tidak seperti statistik inferensial, berupaya mendeskripsikan data, tetapi tidak mencoba membuat kesimpulan dari sampel ke seluruh populasi. \n",
        "\n",
        "Di sini, kita biasanya mendeskripsikan data dalam sampel. Secara umum berarti bahwa statistik deskriptif, tidak seperti statistik inferensial, tidak dikembangkan berdasarkan teori probabilitas.\n",
        "\n",
        "Descriptive Statistical Analysis membantu kita memahami data dan merupakan bagian yang sangat penting dari Machine Learning. Ini karena Machine Learning adalah tentang membuat prediksi. Di sisi lain, statistik adalah tentang menarik kesimpulan dari data, yang merupakan langkah awal yang diperlukan. Dalam sesi ini kita akan belajar tentang konsep statistik deskriptif yang paling penting. Descriptive statistics akan membantu kita lebih memahami apa yang coba diceritakan oleh data kita, yang akan menghasilkan model dan pemahaman machine learning yang lebih baik secara keseluruhan."
      ]
    },
    {
      "cell_type": "markdown",
      "metadata": {
        "id": "o1VvnyCxsUWH"
      },
      "source": [
        "# Pengertian Statistika Deskriptif\n"
      ]
    },
    {
      "cell_type": "markdown",
      "metadata": {
        "id": "-TEsxwFXsSMF"
      },
      "source": [
        "Statistik deskriptif adalah tentang menggambarkan dan meringkas data. Ini menggunakan dua pendekatan utama:\n",
        "\n",
        "1. Pendekatan kuantitatif menggambarkan dan meringkas data secara numerik.\n",
        "2. Pendekatan visual menggambarkan data dengan grafik, plot, histogram, dan grafik lainnya.\n",
        "\n",
        "Anda dapat menerapkan statistik deskriptif ke satu atau banyak kumpulan data atau variabel . \n",
        "\n",
        "* Saat Anda mendeskripsikan dan meringkas satu variabel, Anda melakukan ***analisis univariat*** . \n",
        "\n",
        "* Saat Anda menelusuri hubungan statistik di antara sepasang variabel, Anda melakukan ***analisis bivariat*** . \n",
        "\n",
        "* Demikian pula, ***analisis multivariat*** berkaitan dengan beberapa variabel sekaligus.\n"
      ]
    },
    {
      "cell_type": "markdown",
      "metadata": {
        "id": "-pu3WvbSsS4l"
      },
      "source": [
        "Apa itu Analisis Univariat?\n",
        "\n",
        "Analisis univariat adalah bentuk analisis data yang paling sederhana. “Uni” berarti “satu”, jadi dengan kata lain data Anda hanya memiliki satu variabel. Itu tidak berurusan dengan penyebab atau hubungan (tidak seperti regresi ) dan tujuan utamanya adalah untuk menggambarkan; Dibutuhkan data, merangkum data itu dan menemukan pola dalam data."
      ]
    },
    {
      "cell_type": "markdown",
      "metadata": {
        "id": "bQ87X9yHtNgZ"
      },
      "source": [
        "## Jenis Tindakan"
      ]
    },
    {
      "cell_type": "markdown",
      "metadata": {
        "id": "pRYJIG47tPdY"
      },
      "source": [
        "jenis ukuran berikut dalam statistik deskriptif:\n",
        "\n",
        "* **Tendensi sentral** memberitahu Anda tentang pusat-pusat data. Ukuran yang berguna termasuk mean, median, dan modus.\n",
        "* **Variabilitas** memberitahu Anda tentang penyebaran data. Langkah-langkah yang berguna termasuk varians dan standar deviasi.\n",
        "* **Korelasi** atau variabilitas bersama memberi tahu Anda tentang hubungan antara sepasang variabel dalam kumpulan data. Ukuran yang berguna termasuk kovarians dan koefisien korelasi .\n",
        "\n",
        "bagaimana kita akan memahami dan menghitung ukuran ini dengan Python."
      ]
    },
    {
      "cell_type": "markdown",
      "metadata": {
        "id": "9dQMOfn8vYiX"
      },
      "source": [
        "## Types of Descriptive Statistics ? \n",
        "\n",
        "Statistik deskriptif dipecah menjadi dua kategori. Measures of central tendency dan measures of variability (spread)."
      ]
    },
    {
      "cell_type": "markdown",
      "metadata": {
        "id": "gZaFeQqgwCxr"
      },
      "source": [
        "## Population and Samples"
      ]
    },
    {
      "cell_type": "markdown",
      "metadata": {
        "id": "gj5fQDyJohRv"
      },
      "source": [
        "\n",
        "\n",
        "<img src=\"https://i.ibb.co/pKk0k8x/populasi-sample.png\" width=\"500\" align=\"center\">\n"
      ]
    },
    {
      "cell_type": "markdown",
      "metadata": {
        "id": "UzTusGBxwCt3"
      },
      "source": [
        "Dalam statistik, populasi adalah sekumpulan dari semua elemen atau item yang kita minati. Populasi seringkali sangat banyak, sehingga tidak sesuai untuk collecting dan analyzing data. Itulah mengapa statisticians biasanya mencoba membuat beberapa kesimpulan tentang suatu populasi dengan memilih dan memeriksa subkumpulan perwakilan dari populasi tersebut.\n",
        "\n",
        "Bagian dari populasi ini disebut sampel. Idealnya, sampel harus mempertahankan fitur statistik esensial dari populasi hingga tingkat yang memuaskan. Dengan begitu, kita akan dapat menggunakan sampel untuk menarik kesimpulan tentang populasi."
      ]
    },
    {
      "cell_type": "markdown",
      "metadata": {
        "id": "eePovAw_wCq0"
      },
      "source": [
        "## Outliers"
      ]
    },
    {
      "attachments": {},
      "cell_type": "markdown",
      "metadata": {
        "id": "srXfrNTjwCnC"
      },
      "source": [
        "Outlier/Pencilan adalah titik data yang berbeda secara signifikan dari sebagian besar data yang diambil dari sampel atau populasi.   Ada banyak kemungkinan penyebab pencilan, tetapi berikut ini beberapa yang bisa membantu kita:\n",
        "\n",
        "* **Natural variation** in data\n",
        "* **Change** in the behavior of the observed system, contoh : Peningkatan pemakaian Internet (Karena WFH). \n",
        "* **Errors** in data collection\n",
        "\n",
        "Kesalahan pengumpulan data adalah penyebab utama pencilan. Misalnya, keterbatasan instrumen atau prosedur pengukuran dapat berarti bahwa data yang benar tidak dapat diperoleh. Kesalahan lainnya dapat disebabkan oleh kesalahan perhitungan, kontaminasi data, kesalahan manusia, dan lainnya.\n",
        "\n",
        "Tidak ada definisi matematis yang tepat tentang pencilan. Kita harus mengandalkan pengalaman, pengetahuan tentang subjek yang diminati, dan common sense untuk menentukan apakah titik data adalah pencilan dan cara menanganinya.\n",
        "\n"
      ]
    },
    {
      "cell_type": "markdown",
      "metadata": {
        "id": "26-L4baNrYbv"
      },
      "source": [
        "\n",
        "\n",
        "<img src=\"https://i.ibb.co/XygdS6T/outlier.jpg\" width=\"600\" align=\"center\">\n",
        "\n",
        "\n",
        "<img src=\"https://i.ibb.co/w4gH6Lp/outlier2.jpg\" width=\"600\" align=\"center\">\n",
        "\n"
      ]
    },
    {
      "cell_type": "markdown",
      "metadata": {
        "id": "aGPi8k_kvjNi"
      },
      "source": [
        "# Memilih library Statistik Python\n"
      ]
    },
    {
      "cell_type": "markdown",
      "metadata": {
        "id": "6g4hfIOhwCkG"
      },
      "source": [
        "Ada banyak library statistik Python di luar sana untuk Anda gunakan, tetapi dalam tutorial ini, Anda akan belajar tentang beberapa yang paling populer dan banyak digunakan:\n",
        "\n",
        "* Python’s statistics  adalah library Python bawaan untuk statistik deskriptif. Anda dapat menggunakannya jika kumpulan data Anda tidak terlalu besar atau jika Anda tidak dapat mengandalkan pengimporan pustaka lain.\n",
        "\n",
        "* NumPy adalah perpustakaan pihak ketiga untuk komputasi numerik, dioptimalkan untuk bekerja dengan array satu dan multi-dimensi. Tipe utamanya adalah tipe array yang disebutndarray. Pustaka ini berisi banyak rutinitas untuk analisis statistik.\n",
        "\n",
        "* SciPy adalah perpustakaan pihak ketiga untuk komputasi ilmiah berdasarkan NumPy. Ini menawarkan fungsionalitas tambahan dibandingkan dengan NumPy, termasuk scipy.stats untuk analisis statistik.\n",
        "\n",
        "* Pandas adalah perpustakaan pihak ketiga untuk komputasi numerik berdasarkan NumPy. Ini unggul dalam menangani data satu dimensi (1D) berlabel denganSeriesobjek dandatadua dimensi (2D) denganDataFrameobjek.\n",
        "\n",
        "* Matplotlib adalah perpustakaan pihak ketiga untuk visualisasi data. Ini bekerja dengan baik dalam kombinasi dengan NumPy, SciPy, dan Pandas.\n",
        "\n",
        "Perhatikan bahwa, dalam banyak kasus, Series dan DataFrameobjek dapat digunakan sebagai pengganti array NumPy. \n",
        "\n",
        "Seringkali, Anda mungkin hanya meneruskannya ke fungsi statistik NumPy atau SciPy . Selain itu, Anda bisa mendapatkan data yang tidak berlabel dari a Series atau DataFrame sebagai np.ndarray objek dengan memanggil .value satau .to_numpy()."
      ]
    },
    {
      "attachments": {},
      "cell_type": "markdown",
      "metadata": {
        "id": "KISpKQUEwCZa"
      },
      "source": [
        "# Measure of Central Tendency\n",
        "Central tendency mengacu pada gagasan bahwa ada satu bilangan yang paling baik untuk meringkas seluruh rangkaian pengukuran, sebuah bilangan yang dalam beberapa hal merupakan “central” dari himpunan tersebut.\n",
        "\n",
        "Measure of Central Tendency atau ukuran pusat data adalah metode statistik yang digunakan untuk : \n",
        "\n",
        "- mengukur nilai pusat atau tengah dari suatu dataset. \n",
        "\n",
        "Tujuannya adalah untuk menunjukkan nilai yang paling *representatif* atau tipikal dalam dataset. \n",
        "\n",
        "\n",
        "Ada tiga jenis ukuran pusat data yang paling umum digunakan, yaitu mean, median, dan mode.\n",
        "\n",
        "* Mean \n",
        "* Median \n",
        "* Mode"
      ]
    },
    {
      "attachments": {},
      "cell_type": "markdown",
      "metadata": {},
      "source": [
        "\n"
      ]
    },
    {
      "attachments": {},
      "cell_type": "markdown",
      "metadata": {
        "id": "ITaUyqunwCWN"
      },
      "source": [
        "\n",
        "## Mean / Average\n",
        "\n",
        "Rata-rata adalah jumlah dari semua nilai dalam dataset yang kemudian dibagi dengan jumlah total data. \n",
        "Atau central tendency dari data, angka diantara seluruh data tersebar. \n",
        "\n",
        "Metode ini digunakan untuk data interval dan rasio, yang mana nilai numerik diukur dengan skala interval atau rasio. \n",
        "\n",
        "Mean hanyalah rata-rata dan dianggap sebagai ukuran tendensi sentral yang paling andal untuk membuat asumsi tentang suatu populasi dari satu sampel\n",
        "\n",
        "Mean adalah ukuran pusat yang paling sensitif terhadap outlier atau nilai ekstrim.\n",
        "\n",
        "Mari kita hitung mean dari kumpulan data yang memiliki 8 bilangan bulat.\n",
        "\n"
      ]
    },
    {
      "cell_type": "markdown",
      "metadata": {
        "id": "wNwFEpOUWQGO"
      },
      "source": [
        "\n",
        "<img src=\"https://i.ibb.co/smXc7sm/mean.png\" width=\"400\" align=\"center\">"
      ]
    },
    {
      "cell_type": "markdown",
      "metadata": {
        "id": "OI97ZZt4woUg"
      },
      "source": [
        "Jika kita berbicara tentang populasi, maka lambang Mean yang biasa digunakan adalah **μ** \n",
        "\n",
        "sedangkan pada sampel adalah **x̄**."
      ]
    },
    {
      "attachments": {},
      "cell_type": "markdown",
      "metadata": {
        "id": "LDeNTr8Lwo21"
      },
      "source": [
        "- Contohnya, jika kita memiliki dataset berisi penghasilan bulanan beberapa karyawan di suatu perusahaan, kita dapat menghitung rata-rata dari semua penghasilan mereka untuk menentukan penghasilan rata-rata di perusahaan tersebut.\n",
        "\n"
      ]
    },
    {
      "attachments": {},
      "cell_type": "markdown",
      "metadata": {
        "id": "i2CXXqGQwCTh"
      },
      "source": [
        "## Median\n",
        "\n",
        "Median adalah nilai tengah dalam dataset ketika data diurutkan dari nilai yang terkecil hingga terbesar. \n",
        "\n",
        "Metode ini digunakan untuk data ordinal, interval, dan rasio. \n",
        "\n",
        "Median lebih tahan terhadap pengaruh nilai ekstrim (outliers) dan skewed data dibandingkan dengan mean. \n",
        "\n",
        "Sebuah contoh: Bayangkan Kalian memiliki kumpulan data hadiah perumahan yang sebagian besar berkisar antara 100.000 hingga 300.000 tetapi berisi beberapa rumah yang bernilai lebih dari 3 juta Dolar. Rumah-rumah mahal ini akan sangat berpengaruh karena itu adalah jumlah dari semua nilai, dibagi dengan jumlah nilai. Median tidak akan terlalu terpengaruh oleh pencilan ini karena hanya nilai \"tengah\" dari semua titik data. Oleh karena itu, median adalah statistik yang jauh lebih cocok untuk melaporkan data kita.\n",
        "\n",
        "Median adalah nilai tengah, jika jumlah nilai ganjil\n",
        "\n",
        "Median adalah rata-rata dari 2 nilai tengah, jika jumlah nilai genap.\n",
        "\n"
      ]
    },
    {
      "cell_type": "markdown",
      "metadata": {
        "id": "FPDWc4ovwCO9"
      },
      "source": [
        "12 + 24 + 41 + 51 + 67 + 67 + 85 + 99 = 59 "
      ]
    },
    {
      "cell_type": "code",
      "execution_count": 8,
      "metadata": {},
      "outputs": [
        {
          "name": "stdout",
          "output_type": "stream",
          "text": [
            "55.75\n"
          ]
        },
        {
          "data": {
            "text/plain": [
              "16"
            ]
          },
          "execution_count": 8,
          "metadata": {},
          "output_type": "execute_result"
        }
      ],
      "source": [
        "sum = 12 + 24 + 41 + 51 + 67 + 67 + 85 + 99\n",
        "print(sum/8) \n"
      ]
    },
    {
      "cell_type": "markdown",
      "metadata": {
        "id": "q0rpyfOwwCIO"
      },
      "source": [
        "Mediannya adalah 59 yang akan membagi kumpulan angka menjadi dua bagian yang sama. Karena ada bilangan genap dalam himpunan, jawabannya adalah rata-rata dari bilangan tengah 51 dan 67."
      ]
    },
    {
      "cell_type": "markdown",
      "metadata": {
        "id": "H7hUnVG0wB-b"
      },
      "source": [
        "2 , 4, 6 , 8, 10"
      ]
    },
    {
      "cell_type": "markdown",
      "metadata": {
        "id": "5Qvv0nqkvc8y"
      },
      "source": [
        "Mean dari 5 angka diatas adalah 6 dan mediannya 6 "
      ]
    },
    {
      "cell_type": "markdown",
      "metadata": {
        "id": "8k36WIISMNiu"
      },
      "source": [
        "Adapun sifat dari nilai median antara lain:\n",
        "\n",
        "Tidak dipengaruhi oleh nilai ekstrim. Kondisi dimana nilai ekstrim ditemukan maka penggunaan median sebagai penunjuk lokasi pusat data lebih representative.\n",
        "\n",
        "Dapat digunakan untuk data yang bersifat ordinal. Data ordinal merupakan data yang menunjukkan adanya level. Pada data ordinal nilai rata-rata tidak dapat digunakan untuk menggambarkan pemusatan data karena cenerung akan menghasilkan nilai kontinyu (bukan diskrit) yang menyulitkan untuk dilakukan interpretasi.\n"
      ]
    },
    {
      "attachments": {},
      "cell_type": "markdown",
      "metadata": {},
      "source": [
        "- Contohnya, jika kita memiliki dataset berisi jumlah gaji karyawan di sebuah perusahaan, kita dapat menentukan median dari data tersebut untuk mendapatkan gambaran tentang gaji yang paling umum diterima oleh karyawan.\n",
        "\n"
      ]
    },
    {
      "attachments": {},
      "cell_type": "markdown",
      "metadata": {
        "id": "lUBMb-02wBpk"
      },
      "source": [
        "## Mode\n",
        "\n",
        "Mode adalah nilai yang paling sering muncul dalam dataset. \n",
        "\n",
        "Metode ini digunakan untuk data nominal atau kategorikal. \n",
        "\n",
        "Mode dapat digunakan untuk mengidentifikasi nilai yang paling umum dalam dataset.\n",
        "\n",
        "\n",
        "Ada kemungkinan set data memiliki lebih dari satu mode. Mode juga merupakan satu-satunya ukuran tendensi sentral yang dapat digunakan untuk variabel kategori karena kita tidak dapat menghitungnya, misalnya rata-rata untuk variabel \"gender\" atau \"warna\". Kita cukup melaporkan variabel kategori sebagai angka dan persentase.\n",
        "\n"
      ]
    },
    {
      "cell_type": "markdown",
      "metadata": {
        "id": "duyqKiauW1cJ"
      },
      "source": [
        "12 , 24, 41, 51, 67, 67, 85 , 99"
      ]
    },
    {
      "cell_type": "markdown",
      "metadata": {
        "id": "Hskl0h7FW15F"
      },
      "source": [
        "Dalam kumpulan data ini, mode-nya adalah 67 karena memiliki frekuensi lebih dari nilai lainnya, yaitu dua kali.\n",
        "\n",
        "Tetapi mungkin ada kumpulan data di mana tidak ada mode sama sekali karena semua nilai muncul dalam jumlah yang sama. Jika dua nilai muncul pada waktu yang sama dan lebih dari nilai lainnya maka kumpulan datanya adalah bimodal. Jika tiga nilai muncul pada waktu yang sama dan lebih dari nilai lainnya maka kumpulan datanya adalah trimodal dan untuk n mode, kumpulan data tersebut adalah multimodal."
      ]
    },
    {
      "attachments": {},
      "cell_type": "markdown",
      "metadata": {},
      "source": [
        "- Contohnya, jika kita memiliki dataset berisi jenis mobil yang dibeli oleh pelanggan, kita dapat menghitung modusnya untuk mengetahui jenis mobil yang paling sering dibeli.\n",
        "\n"
      ]
    },
    {
      "attachments": {},
      "cell_type": "markdown",
      "metadata": {},
      "source": [
        "Setiap jenis ukuran pusat data memiliki keuntungan dan kekurangan tersendiri tergantung pada jenis data yang digunakan dan tujuan analisis. Oleh karena itu, pemilihan ukuran pusat data yang tepat akan membantu kita memahami dan menggambarkan dataset dengan lebih akurat."
      ]
    },
    {
      "attachments": {},
      "cell_type": "markdown",
      "metadata": {},
      "source": [
        "_____"
      ]
    },
    {
      "attachments": {},
      "cell_type": "markdown",
      "metadata": {},
      "source": [
        "# Measure of Spread / Dispersion / Variation"
      ]
    },
    {
      "attachments": {},
      "cell_type": "markdown",
      "metadata": {
        "id": "LaML7CRzW7Ay"
      },
      "source": [
        "Measure of Spread atau ukuran penyebaran data adalah metode statistik yang digunakan untuk mengukur seberapa jauh atau tersebar nilai-nilai dalam dataset.\n",
        "\n",
        "Measure of Spread mengacu pada gagasan variabilitas dalam data kita. \n",
        "\n",
        "*Tujuannya adalah untuk memberikan gambaran tentang seberapa bervariasi data tersebut.*\n",
        "\n",
        "Measure of Spread juga digunakan untuk mengukur seberapa \"bagus\" mean merepresentasikan kumpulan data (How far away data from the center). Atau memberi tahu kita tentang seberapa luas kumpulan data \n",
        "\n",
        "Beberapa ukuran dasar spread yang digunakan dalam statistik. Yang paling umum adalah : \n",
        "\n",
        "1. Standard Deviation \n",
        "2. Variance \n",
        "3. Range \n",
        "4. Quatil \n",
        "\n"
      ]
    },
    {
      "attachments": {},
      "cell_type": "markdown",
      "metadata": {},
      "source": [
        "Setiap jenis ukuran penyebaran data memiliki keuntungan dan kekurangan tersendiri tergantung pada jenis data yang digunakan dan tujuan analisis. Oleh karena itu, pemilihan ukuran penyebaran data yang tepat akan membantu kita memahami dan menggambarkan dataset dengan lebih akurat."
      ]
    },
    {
      "attachments": {},
      "cell_type": "markdown",
      "metadata": {},
      "source": [
        "## Range\n",
        "Range adalah selisih antara nilai maksimum dan nilai minimum dalam dataset. \n",
        "\n",
        "Metode ini digunakan untuk data interval atau rasio. Range memberikan gambaran tentang selisih maksimum dan minimum dalam data.\n",
        "\n",
        "Contohnya, jika kita memiliki dataset berisi ketinggian beberapa bangunan di sebuah kota, kita dapat menghitung range untuk mengetahui selisih ketinggian tertinggi dan terendah."
      ]
    },
    {
      "attachments": {},
      "cell_type": "markdown",
      "metadata": {},
      "source": [
        "12, 24, 51, 67, 67, 85, 99"
      ]
    },
    {
      "attachments": {},
      "cell_type": "markdown",
      "metadata": {},
      "source": [
        "\n",
        "Range adalah 99–12 = 87\n",
        "\n",
        "Kelemahan dalam range ini hanya meryertakan dua nilai saja dalam proses pengukuran\n"
      ]
    },
    {
      "attachments": {},
      "cell_type": "markdown",
      "metadata": {
        "id": "gFW6tOtQW7iF"
      },
      "source": [
        "## Standard deviation\n",
        "\n",
        "\n",
        "Standard deviation adalah akar kuadrat dari variance, yaitu pengukuran seberapa jauh nilai-nilai dalam dataset dari rata-rata, dengan menghitung selisih kuadrat antara setiap nilai dengan rata-rata, lalu menjumlahkannya dan membaginya dengan jumlah total data, kemudian mengambil akar kuadrat dari hasilnya. Metode ini digunakan untuk data interval atau rasio. Standard deviation memberikan gambaran tentang seberapa jauh nilai-nilai dalam dataset dari nilai rata-rata dalam satuan standar deviasi.\n",
        "\n",
        "- Contohnya, jika kita memiliki dataset berisi ketinggian beberapa gunung di suatu wilayah, kita dapat menghitung standard deviation untuk mengetahui seberapa jauh ketinggian gunung-gunung tersebut dari ketinggian rata-rata dalam satuan standar deviasi.\n",
        "\n",
        "\n",
        "- Standard deviation/Simpangan baku adalah pengukuran jarak rata-rata antara setiap besaran dan mean. Artinya, bagaimana data disebarkan/seberapa tersebar data dari mean. Standar deviasi yang rendah menunjukkan bahwa titik data cenderung mendekati rata-rata kumpulan data, sedangkan Standar deviasi yang tinggi menunjukkan bahwa titik data tersebar di nilai yang lebih luas.\n",
        "\n",
        "- Ada situasi ketika kita harus memilih antara sample atau population Standard Deviation.\n",
        "\n",
        "Ketika kita diminta untuk menemukan SD dari beberapa bagian populasi, segmen populasi; kita menggunakan sample Standard Deviation."
      ]
    },
    {
      "cell_type": "markdown",
      "metadata": {
        "id": "InohP9h7W857"
      },
      "source": [
        "<img src=\"https://i.ibb.co/gmmhFxS/SDPopulasi1.png\" width=\"400\" align=\"center\">\n"
      ]
    },
    {
      "cell_type": "markdown",
      "metadata": {
        "id": "1hcQgs0-W9gb"
      },
      "source": [
        "Dimana x̅ adalah mean dari sample.\n",
        "\n",
        "Tetapi ketika kita harus menangani keseluruhan populasi, maka kita menggunakanpopulation Standard Deviation."
      ]
    },
    {
      "cell_type": "markdown",
      "metadata": {
        "id": "z1AZRocUW9ld"
      },
      "source": [
        "<img src=\"https://i.ibb.co/L5Fx5L9/SDSample.png\" width=\"400\" align=\"center\">\n",
        "\n",
        "\n"
      ]
    },
    {
      "cell_type": "markdown",
      "metadata": {
        "id": "qrVItmWPW9rB"
      },
      "source": [
        "Dimana µ adalah mean dari populasi.\n",
        "\n",
        "Meskipun sampel adalah bagian dari populasi, rumus SD mereka seharusnya sama, padahal sebenarnya tidak.\n",
        "\n",
        "Seperti yang kita ketahui, dalam statistik deskriptif, kita biasanya berurusan dengan data yang tersedia dalam sampel, bukan dalam populasi. Jadi jika kita menggunakan kumpulan data sebelumnya kita gunakan dalam mean, dan mengganti nilai dalam rumus sampel,"
      ]
    },
    {
      "attachments": {},
      "cell_type": "markdown",
      "metadata": {
        "id": "Zy00zGv_W9uS"
      },
      "source": [
        "<img src=\"https://i.ibb.co/x8ShJ0n/meanpopulasi.png\" width=\"800\" align=\"center\">\n",
        "\n",
        "\n",
        "Dan jawabannya adalah 29.62.\n",
        "\n"
      ]
    },
    {
      "cell_type": "markdown",
      "metadata": {
        "id": "FwEJJmvAW9yv"
      },
      "source": [
        "\n",
        "\n",
        "## Mean Deviation / Mean Absolute Deviation\n",
        "Mean Absolute Deviation adalah rata-rata perbedaan absolut antara setiap nilai dalam satu set nilai, dan rata-rata semua nilai dari set itu.\n",
        "\n",
        "Jadi jika kita menggunakan kumpulan data sebelumnya, dan mengganti nilainya,"
      ]
    },
    {
      "cell_type": "markdown",
      "metadata": {
        "id": "U-PdSFP_W94p"
      },
      "source": [
        "<img src=\"https://i.ibb.co/JzQ8Xy7/Mean-Dev-Bagi-Mean-Abs.png\" width=\"700\" align=\"center\">\n",
        "\n",
        "Dan jawabannya adalah 23.75.\n"
      ]
    },
    {
      "attachments": {},
      "cell_type": "markdown",
      "metadata": {
        "id": "HdJyTyBWW99p"
      },
      "source": [
        "\n",
        "## Variance\n",
        "Variance /Varians adalah kuadrat jarak rata-rata antara setiap kuantitas dan mean. Variance adalah kuadrat dari standar deviasi. Varians dihitung dengan mencari selisih antara setiap titik data dan mean, mengkuadratkannya, menjumlahkannya, dan kemudian mengambil rata-rata dari angka-angka itu."
      ]
    },
    {
      "attachments": {},
      "cell_type": "markdown",
      "metadata": {},
      "source": [
        "Contohnya, jika kita memiliki dataset berisi nilai-nilai ujian beberapa siswa, kita dapat menghitung variance untuk mengetahui seberapa bervariasi nilai-nilai ujian tersebut dari nilai rata-rata."
      ]
    },
    {
      "cell_type": "markdown",
      "metadata": {
        "id": "KdnqNVfKW-Bk"
      },
      "source": [
        "**Variance** = ( S.D.)2\n",
        "\n",
        "Dan jawabannya adalah 877.34.\n"
      ]
    },
    {
      "cell_type": "markdown",
      "metadata": {
        "id": "B2EQ1KGe224D"
      },
      "source": [
        "## Percentile\n",
        "Percentile/Persentil adalah cara untuk merepresentasikan posisi suatu nilai dalam kumpulan data. Untuk menghitung persentil, nilai dalam kumpulan data harus selalu dalam urutan ascending/menaik."
      ]
    },
    {
      "cell_type": "markdown",
      "metadata": {
        "id": "cWSljM0aW-VW"
      },
      "source": [
        "12, 24, 51, 67, 67, 85, 99"
      ]
    },
    {
      "cell_type": "markdown",
      "metadata": {
        "id": "2q9o8f41W-aT"
      },
      "source": [
        "Median-nya adalah 59 (mean dari 51 dan 67) memiliki 4 nilai yang lebih kecil dari dirinya sendiri. Dapat juga dikatakan sebagai: Dalam kumpulan data, 59 adalah persentil ke-50 karena 50% dari total suku kurang dari 59. Secara umum, jika k adalah persentil ke-n, itu menyiratkan bahwa n% dari total suku kurang dari k.\n",
        "\n",
        "# Quartiles\n",
        "Dalam statistik dan probabilitas, quartiles adalah nilai yang membagi data kita menjadi beberapa quarters jika data diurutkan dalam urutan ascending/menaik."
      ]
    },
    {
      "cell_type": "markdown",
      "metadata": {
        "id": "MpccZAjoW-eL"
      },
      "source": [
        "<img src=\"https://i.ibb.co/QvM3LBj/Quartile.gif\" width=\"700\" align=\"center\">\n"
      ]
    },
    {
      "cell_type": "markdown",
      "metadata": {
        "id": "iWjWM9vLYOeh"
      },
      "source": [
        "Ada tiga nilai kuartil. \n",
        "\n",
        "Nilai kuartil pertama berada pada 25 persentil. \n",
        "\n",
        "Kuartil kedua adalah 50 persentil \n",
        "\n",
        "dan kuartil ketiga adalah 75 persentil. \n",
        "\n",
        "Kuartil kedua (Q2) adalah median dari keseluruhan data. \n",
        "\n",
        "Kuartil pertama (Q1) adalah median dari separuh data atas. \n",
        "\n",
        "Dan Kuartil Ketiga (Q3) adalah median dari separuh data bagian bawah.\n",
        "\n",
        "**12,24,41,51,67,67,85,99,115**"
      ]
    },
    {
      "cell_type": "markdown",
      "metadata": {
        "id": "oNMMosCzYOkO"
      },
      "source": [
        "Jadi,\n",
        "\n",
        "* Q2 = 67: adalah 50 percentile of the whole data dan median.\n",
        "* Q1 = 41: adalah 25 percentile of the data.\n",
        "* Q3 = 85: adalah 75 percentile of the date.\n",
        "* Interquartile range (IQR) = Q3 - Q1 = 85 - 41 = 44\n",
        "\n"
      ]
    },
    {
      "attachments": {},
      "cell_type": "markdown",
      "metadata": {
        "id": "i_2inP5d4srj"
      },
      "source": [
        "## Skewness\n",
        "\n",
        "Skewness adalah pengukuran seberapa tidak simetris distribusi data yang diukur. \n",
        "\n",
        "- Distribusi data yang simetris (normal) memiliki skewness sebesar nol. ekor di kedua sisi kurva adalah sama persis yang tepat satu sama lain\n",
        "   \n",
        "- sedangkan distribusi data yang cenderung memiliki ekor panjang ke kiri (nilai-nilai yang rendah) memiliki skewness negatif. \n",
        "  \n",
        "- dan distribusi data yang cenderung memiliki ekor panjang ke kanan (nilai-nilai yang tinggi) memiliki skewness positif. \n",
        "  \n",
        "Skewness dapat diukur dengan menggunakan koefisien skewness.\n",
        "\n",
        "\n",
        "Skewness adalah ukuran asimetri distribusi probabilitas dari real-valued random variable tentang meannya. Nilai kemiringan bisa positif atau negatif, atau undefined.\n",
        "\n",
        "Dalam distribusi normal sempurna, ekor di kedua sisi kurva adalah sama persis yang tepat satu sama lain.\n",
        "\n",
        "Ketika distribusi miring ke kiri, ekor di sisi kiri kurva lebih panjang daripada ekor di sisi kanan, dan mean lebih kecil dari mode. Situasi ini juga disebut negative skewness/kemiringan negatif.\n",
        "\n",
        "Jika distribusi miring ke kanan, ekor di sisi kanan kurva lebih panjang daripada ekor di sisi kiri, dan mean lebih besar daripada mode. Situasi ini juga disebut positive skewness/kemiringan positif.\n"
      ]
    },
    {
      "cell_type": "markdown",
      "metadata": {
        "id": "CrJnBorvYgkV"
      },
      "source": [
        "<img src=\"https://i.ibb.co/FHxhq5H/skweness.jpg\" width=\"700\" align=\"center\">\n"
      ]
    },
    {
      "cell_type": "markdown",
      "metadata": {
        "id": "xRkaOtyqYOpo"
      },
      "source": [
        "How to calculate the skewness coefficient?\n",
        "\n",
        "Untuk menghitung skewness coefficient sample, ada dua metode:\n",
        "\n",
        "Pearson First Coefficient of Skewness (Mode skewness)\n"
      ]
    },
    {
      "cell_type": "markdown",
      "metadata": {
        "id": "4ooaqGsJYOvA"
      },
      "source": [
        " \n",
        "**Mean - Mode / Standard Deviation**\n",
        "\n"
      ]
    },
    {
      "cell_type": "markdown",
      "metadata": {
        "id": "Jo4ACrRMYO04"
      },
      "source": [
        "Pearson Second Coefficient of Skewness (Median skewness)\n"
      ]
    },
    {
      "cell_type": "markdown",
      "metadata": {
        "id": "QdA8eKQoYO5k"
      },
      "source": [
        "**3 * (Mean - Median) / Standard Deviation**"
      ]
    },
    {
      "attachments": {},
      "cell_type": "markdown",
      "metadata": {},
      "source": [
        "Contoh lainnya, jika kita memiliki dataset berisi harga rumah di suatu daerah, dan mengukur skewnessnya, maka kita dapat mengetahui apakah distribusi harga rumah tersebut simetris atau tidak. \n",
        "\n",
        "- Jika koefisien skewnessnya positif, dapat disimpulkan bahwa harga rumah di daerah tersebut cenderung lebih tinggi dan lebih banyak rumah yang dijual dengan harga yang mahal. \n",
        "\n",
        "- sedangkan jika koefisien skewnessnya negatif, dapat disimpulkan bahwa harga rumah di daerah tersebut cenderung lebih rendah dan lebih banyak rumah yang dijual dengan harga yang murah."
      ]
    },
    {
      "cell_type": "markdown",
      "metadata": {
        "id": "TX9__KpqYreO"
      },
      "source": [
        "# Interpretations\n",
        "\n",
        "Arah kemiringan akan diberi tanda. Nol berarti tidak ada kemiringan sama sekali.\n",
        "Nilai negatif berarti distribusinya negatively skewed. Nilai positif berarti distribusinya positively skewed.\n",
        "Coefficient membandingkan distribusi sampel dengan distribusi normal. Semakin besar nilainya, semakin besar perbedaan distribusi dari distribusi normal.\n",
        "Contoh masalah: Gunakan Pearson’s Coefficient 1 dan 2 untuk menemukan skewness data dengan karakteristik berikut:\n",
        "\n",
        "* Mean = 50.\n",
        "* Median = 56.\n",
        "* Mode = 60.\n",
        "* Standard deviation = 8.5.\n",
        "\n",
        "```\n",
        "Mean - Mode / SD \n",
        " 50  - 60 / 8.9 \n",
        "\n",
        "=  1.17 \n",
        "```\n"
      ]
    },
    {
      "cell_type": "code",
      "execution_count": 9,
      "metadata": {
        "colab": {
          "base_uri": "https://localhost:8080/"
        },
        "id": "swqQCcFCt5qv",
        "outputId": "beb05d10-1f81-4317-bccf-827bbf66558d"
      },
      "outputs": [
        {
          "name": "stdout",
          "output_type": "stream",
          "text": [
            "-1.1764705882352942\n",
            "-2.1176470588235294\n"
          ]
        }
      ],
      "source": [
        "mean = 50 \n",
        "median = 56 \n",
        "mode = 60 \n",
        "sd = 8.5 \n",
        "p1stc =  (mean - mode ) / sd \n",
        "#Pearson First Coefficient of Skewness\n",
        "print(p1stc)\n",
        "\n",
        "#Pearson Second Coefficient of Skewness\n",
        "p2stc = 3 * (mean - median) / sd \n",
        "print(p2stc)\n"
      ]
    },
    {
      "cell_type": "markdown",
      "metadata": {
        "id": "MX7yvO35t6e1"
      },
      "source": [
        "\n",
        "Pearson’s First Coefficient of Skewness: -1.17.\n",
        "\n",
        "Pearson’s Second Coefficient of Skewness: -2.117.\n",
        "\n",
        "Catatan: Pearson’s first coefficient of skewness menggunakan mode. Oleh karena itu, jika frekuensi nilai sangat rendah maka tidak akan memberikan ukuran yang stabil dari tendensi sentral. Misalnya, mode di kedua kumpulan data ini adalah 9:\n",
        "\n",
        "1, 2, 3, 4, 4, 5, 6, 7, 8, 9.\n",
        "\n",
        "Di kumpulan data pertama, mode hanya muncul dua kali. Jadi, bukan ide yang baik untuk menggunakan Pearson’s First Coefficient of Skewness. Tapi di set kedua,\n",
        "\n",
        "1, 2, 3, 4, 4, 4, 4, 4, 4, 4, 4, 5, 6, 7, 8, 9, 10, 12, 12, 13.\n",
        "\n",
        "mode 4 muncul 8 kali. Oleh karena itu, Pearson’s Second Coefficient of Skewness kemungkinan akan memberi kita hasil yang masuk reasonable .\n"
      ]
    },
    {
      "cell_type": "markdown",
      "metadata": {
        "id": "cJBM9cWn54BX"
      },
      "source": [
        "## Kurtosis\n",
        "Kurtosis adalah ukuran apakah data bersifat heavy-tailed (banyak outlier) atau light-tailed (kurang outlier) relatif terhadap distribusi normal."
      ]
    },
    {
      "cell_type": "markdown",
      "metadata": {
        "id": "35qTBgCtYriD"
      },
      "source": [
        "<img src=\"https://i.ibb.co/MZDZ2Ck/kurtosis.jpg\" width=\"500\" align=\"center\">\n",
        "\n"
      ]
    },
    {
      "cell_type": "markdown",
      "metadata": {
        "id": "GxeeINDQYrlw"
      },
      "source": [
        "Ada tiga tipe dari Kurtosis:\n",
        "\n",
        "* Mesokurtic\n",
        "\n",
        "Mesokurtik adalah distribusi yang memiliki kurtosis serupa dengan kurtosis berdistribusi normal, yaitu nol.\n",
        "\n",
        "* Leptokurtic\n",
        "Adalah distribusi yang memiliki kurtosis lebih besar dari pada distribusi Mesokurtik. Ekor dari distribusi seperti itu tebal dan berat. Jika kurva suatu distribusi lebih memuncak daripada kurva Mesokurtik, maka hal itu disebut kurva Leptokurtik.\n",
        "\n",
        "* Platykurtic\n",
        "Adalah distribusi yang memiliki kurtosis lebih rendah dari distribusi Mesokurtik. Ekor distribusi tersebut lebih tipis. Jika kurva distribusi kurang memuncak daripada kurva Mesokurtik, itu disebut sebagai kurva Platykurtic.\n",
        "\n",
        "Perbedaan utama antara skewness dan kurtosis adalah skewness mengacu pada tingkat simetri, sedangkan kurtosis mengacu pada tingkat keberadaan pencilan dalam distribusi.\n",
        "\n",
        "# Correlation\n",
        "Korelasi adalah teknik statistik yang dapat menunjukkan apakah dan seberapa kuat variabel terkait/related."
      ]
    },
    {
      "cell_type": "markdown",
      "metadata": {
        "id": "e3A6Aa0GYrpx"
      },
      "source": [
        "<img src=\"https://i.ibb.co/C842Qy9/Positif-Correlation.png\" width=\"500\" align=\"center\">\n",
        "\n"
      ]
    },
    {
      "cell_type": "markdown",
      "metadata": {
        "id": "ZlERFotQYruI"
      },
      "source": [
        "Hasil utama korelasi disebut correlation coefficient (atau “r”). Correlation coefficient berkisar dari -1,0 hingga +1,0. Semakin dekat r ke +1 atau -1, semakin erat hubungan kedua variabel tersebut.\n",
        "\n",
        "Jika r mendekati 0, artinya tidak ada hubungan antar variabel. Jika r positif, berarti semakin besar satu variabel, variabel lainnya semakin besar. Jika r negatif berarti semakin besar satu variable, variabel yang lain akan semakin kecil (sering disebut korelasi “inverse”).\n"
      ]
    },
    {
      "cell_type": "markdown",
      "metadata": {
        "id": "Ivrm1_eZZTEu"
      },
      "source": [
        "\n",
        "# Practice on Python\n",
        "# Choosing Python Statistics Libraries\n"
      ]
    },
    {
      "cell_type": "markdown",
      "metadata": {
        "id": "1xrsfbiM7azr"
      },
      "source": [
        "Ada banyak library statistik Python di luar sana untuk Anda gunakan, tetapi dalam tutorial ini, Anda akan belajar tentang beberapa yang paling populer dan banyak digunakan:\n",
        "\n",
        "* Python’s statistics  adalah library Python bawaan untuk statistik deskriptif. Anda dapat menggunakannya jika kumpulan data Anda tidak terlalu besar atau jika Anda tidak dapat mengandalkan pengimporan pustaka lain.\n",
        "\n",
        "* NumPy adalah perpustakaan pihak ketiga untuk komputasi numerik, dioptimalkan untuk bekerja dengan array satu dan multi-dimensi. Tipe utamanya adalah tipe array yang disebutndarray. Pustaka ini berisi banyak rutinitas untuk analisis statistik.\n",
        "\n",
        "* SciPy adalah perpustakaan pihak ketiga untuk komputasi ilmiah berdasarkan NumPy. Ini menawarkan fungsionalitas tambahan dibandingkan dengan NumPy, termasukscipy.statsuntuk analisis statistik.\n",
        "\n",
        "* Pandas adalah perpustakaan pihak ketiga untuk komputasi numerik berdasarkan NumPy. Ini unggul dalam menangani data satu dimensi (1D) berlabel denganSeriesobjek dandatadua dimensi (2D) denganDataFrameobjek.\n",
        "\n",
        "* Matplotlib adalah perpustakaan pihak ketiga untuk visualisasi data. Ini bekerja dengan baik dalam kombinasi dengan NumPy, SciPy, dan Pandas.\n",
        "\n",
        "Perhatikan bahwa, dalam banyak kasus, Series dan DataFrameobjek dapat digunakan sebagai pengganti array NumPy. \n",
        "\n",
        "Seringkali, Anda mungkin hanya meneruskannya ke fungsi statistik NumPy atau SciPy . Selain itu, Anda bisa mendapatkan data yang tidak berlabel dari a Series atau DataFrame sebagai np.ndarray objek dengan memanggil .value satau .to_numpy()."
      ]
    },
    {
      "cell_type": "markdown",
      "metadata": {
        "id": "853x39fp7cVg"
      },
      "source": [
        "# Calculating Descriptive Statistics\n",
        "Mulailah dengan mengimpor semua packages yang kita perlukan:"
      ]
    },
    {
      "cell_type": "code",
      "execution_count": 11,
      "metadata": {},
      "outputs": [
        {
          "name": "stdout",
          "output_type": "stream",
          "text": [
            "Collecting scipy\n",
            "  Downloading scipy-1.10.1-cp310-cp310-macosx_10_9_x86_64.whl (35.1 MB)\n",
            "\u001b[2K     \u001b[90m━━━━━━━━━━━━━━━━━━━━━━━━━━━━━━━━━━━━━━━━\u001b[0m \u001b[32m35.1/35.1 MB\u001b[0m \u001b[31m16.8 MB/s\u001b[0m eta \u001b[36m0:00:00\u001b[0m00:01\u001b[0m00:01\u001b[0m\n",
            "\u001b[?25hRequirement already satisfied: numpy<1.27.0,>=1.19.5 in /Users/iketutg/.pyenv/versions/3.10.8/lib/python3.10/site-packages (from scipy) (1.24.2)\n",
            "Installing collected packages: scipy\n",
            "Successfully installed scipy-1.10.1\n",
            "\n",
            "\u001b[1m[\u001b[0m\u001b[34;49mnotice\u001b[0m\u001b[1;39;49m]\u001b[0m\u001b[39;49m A new release of pip is available: \u001b[0m\u001b[31;49m23.0\u001b[0m\u001b[39;49m -> \u001b[0m\u001b[32;49m23.0.1\u001b[0m\n",
            "\u001b[1m[\u001b[0m\u001b[34;49mnotice\u001b[0m\u001b[1;39;49m]\u001b[0m\u001b[39;49m To update, run: \u001b[0m\u001b[32;49mpip install --upgrade pip\u001b[0m\n",
            "Note: you may need to restart the kernel to use updated packages.\n"
          ]
        }
      ],
      "source": [
        "pip install scipy"
      ]
    },
    {
      "cell_type": "code",
      "execution_count": 12,
      "metadata": {
        "id": "j5BYcUcjtmo6"
      },
      "outputs": [],
      "source": [
        "import math\n",
        "import statistics\n",
        "import numpy as np\n",
        "import scipy.stats\n",
        "import pandas as pd"
      ]
    },
    {
      "cell_type": "markdown",
      "metadata": {
        "id": "QnMjCYAyZmAe"
      },
      "source": [
        "Ini semua adalah paket yang kita perlukan untuk penghitungan statistik Python. Biasanya, kita tidak akan menggunakan built-in math package Python, tapi akan berguna dalam sesi ini. Nanti, kita juga akan mengimpor matplotlib.pyplot untuk visualisasi data.\n",
        "\n",
        "Mari buat beberapa data untuk dikerjakan. Kita akan mulai dengan List Python yang berisi beberapa data numerik:"
      ]
    },
    {
      "cell_type": "code",
      "execution_count": 14,
      "metadata": {
        "colab": {
          "base_uri": "https://localhost:8080/"
        },
        "id": "PTsS5seZZmdC",
        "outputId": "3e8082e5-bb68-4df3-c21e-e7baa72b12f1"
      },
      "outputs": [
        {
          "name": "stdout",
          "output_type": "stream",
          "text": [
            "[8.0, 1, 2.5, 4, 28.0]\n",
            "[8.0, 1, 2.5, nan, 4, 28.0]\n"
          ]
        }
      ],
      "source": [
        "x = [8.0, 1, 2.5, 4, 28.0]\n",
        "x_with_nan = [8.0, 1, 2.5, math.nan, 4, 28.0]\n",
        "print(x)\n",
        "print(x_with_nan)"
      ]
    },
    {
      "cell_type": "markdown",
      "metadata": {
        "id": "WY7-H_2XZqAe"
      },
      "source": [
        "Sekarang kita memiliki lists x dan x_with_nan. Keduanya hampir sama, dengan perbedaan bahwa x_with_nan berisi nilai nan. Penting untuk memahami behavior statistik Python ketika mereka menemukan nilai not-a-number (nan). Dalam data science, missing values adalah hal biasa, dan kita akan sering menggantinya dengan nan.\n",
        "\n",
        "Sekarang, buat objek np.ndarray dan pd.Series yang sesuai dengan x dan x_with_nan:"
      ]
    },
    {
      "cell_type": "code",
      "execution_count": 15,
      "metadata": {
        "colab": {
          "base_uri": "https://localhost:8080/"
        },
        "id": "DNatfCUjZu4U",
        "outputId": "16aeb388-87b1-4a46-ea47-0eb83714bf0a"
      },
      "outputs": [
        {
          "name": "stdout",
          "output_type": "stream",
          "text": [
            "[ 8.   1.   2.5  4.  28. ]\n"
          ]
        }
      ],
      "source": [
        "y, y_with_nan = np.array(x), np.array(x_with_nan)\n",
        "print(y)"
      ]
    },
    {
      "cell_type": "code",
      "execution_count": 16,
      "metadata": {
        "colab": {
          "base_uri": "https://localhost:8080/"
        },
        "id": "0Uivt8jNv1jf",
        "outputId": "aabf531d-cd0c-4b69-d75f-8b30521d26d0"
      },
      "outputs": [
        {
          "name": "stdout",
          "output_type": "stream",
          "text": [
            "[ 8.   1.   2.5  nan  4.  28. ]\n"
          ]
        }
      ],
      "source": [
        "print(y_with_nan)"
      ]
    },
    {
      "cell_type": "code",
      "execution_count": 17,
      "metadata": {
        "colab": {
          "base_uri": "https://localhost:8080/"
        },
        "id": "ZY5A1nAqvyBJ",
        "outputId": "c23b1ecf-b586-48d6-978c-c08aaab69172"
      },
      "outputs": [
        {
          "name": "stdout",
          "output_type": "stream",
          "text": [
            "0     8.0\n",
            "1     1.0\n",
            "2     2.5\n",
            "3     4.0\n",
            "4    28.0\n",
            "dtype: float64\n",
            "0     8.0\n",
            "1     1.0\n",
            "2     2.5\n",
            "3     NaN\n",
            "4     4.0\n",
            "5    28.0\n",
            "dtype: float64\n"
          ]
        }
      ],
      "source": [
        "\n",
        "z, z_with_nan = pd.Series(x), pd.Series(x_with_nan)\n",
        "print(z)\n",
        "print(z_with_nan)"
      ]
    },
    {
      "cell_type": "markdown",
      "metadata": {
        "id": "a0WN9cnRZvmn"
      },
      "source": [
        "Kita sekarang memiliki dua array NumPy (y dan y_with_nan) dan dua Series Pandas (z dan z_with_nan). Semua ini adalah sequences nilai 1D.\n",
        "\n",
        "Kita juga dapat menentukan label untuk setiap nilai di z dan z_with_nan.\n",
        "\n",
        "# Measures of Central Tendency\n",
        "Measures of central tendency menunjukkan nilai tengah atau pusat dari kumpulan data. Ada beberapa definisi tentang apa yang dianggap sebagai pusat kumpulan data. Dalam sesi ini, kita akan mempelajari cara mengidentifikasi dan menghitung measures of central tendency berupa:\n",
        "\n",
        "* Mean\n",
        "* Weighted mean\n",
        "* Geometric mean\n",
        "* Harmonic mean\n",
        "* Median\n",
        "* Mode"
      ]
    },
    {
      "cell_type": "markdown",
      "metadata": {
        "id": "sqr5UYeUvheR"
      },
      "source": [
        "# Mean\n",
        "Sample mean, juga disebut sample arithmetic mean atau average, adalah rata-rata aritmatika dari semua item dalam kumpulan data. Rata-rata dataset  𝑥 secara matematis dinyatakan sebagai Σᵢ𝑥ᵢ/𝑛, di mana 𝑖 = 1, 2,…, 𝑛. Dengan kata lain, ini adalah jumlah dari semua elemen 𝑥ᵢ dibagi dengan jumlah item dalam kumpulan data 𝑥.\n",
        "\n",
        "Figure ini menggambarkan rata-rata sampel dengan lima titik data:"
      ]
    },
    {
      "cell_type": "markdown",
      "metadata": {
        "id": "b-0sVKj3Z_4G"
      },
      "source": [
        "<img src=\"https://i.ibb.co/8dqXcZR/mean1.png\" width=\"500\" align=\"center\">\n",
        "\n"
      ]
    },
    {
      "cell_type": "markdown",
      "metadata": {
        "id": "Nfqhdlc5aBUA"
      },
      "source": [
        "Titik hijau mewakili titik data 1, 2.5, 4, 8, dan 28. Garis putus-putus merah adalah meannya, atau (1 + 2.5 + 4 + 8 + 28) / 5 = 8.7.\n",
        "\n",
        "Kita dapat menghitung mean dengan pure Python menggunakan sum() dan len(), tanpa mengimpor pustaka lain:"
      ]
    },
    {
      "cell_type": "code",
      "execution_count": 23,
      "metadata": {
        "id": "T9GVfWoIw1mf"
      },
      "outputs": [],
      "source": [
        "x = [8.0, 1, 2.5, 4, 28.0]\n",
        "x_with_nan = [8.0, 1, 2.5, math.nan, 4, 28.0]\n"
      ]
    },
    {
      "cell_type": "code",
      "execution_count": 25,
      "metadata": {},
      "outputs": [
        {
          "ename": "TypeError",
          "evalue": "'int' object is not callable",
          "output_type": "error",
          "traceback": [
            "\u001b[0;31m---------------------------------------------------------------------------\u001b[0m",
            "\u001b[0;31mTypeError\u001b[0m                                 Traceback (most recent call last)",
            "Cell \u001b[0;32mIn[25], line 1\u001b[0m\n\u001b[0;32m----> 1\u001b[0m \u001b[39msum\u001b[39;49m(x)\n",
            "\u001b[0;31mTypeError\u001b[0m: 'int' object is not callable"
          ]
        }
      ],
      "source": [
        "sum(x)"
      ]
    },
    {
      "cell_type": "code",
      "execution_count": 24,
      "metadata": {
        "colab": {
          "base_uri": "https://localhost:8080/"
        },
        "id": "MOWlAC19aFq1",
        "outputId": "1181d566-12d7-46c0-cd6c-647408621e3c"
      },
      "outputs": [
        {
          "ename": "TypeError",
          "evalue": "'int' object is not callable",
          "output_type": "error",
          "traceback": [
            "\u001b[0;31m---------------------------------------------------------------------------\u001b[0m",
            "\u001b[0;31mTypeError\u001b[0m                                 Traceback (most recent call last)",
            "Cell \u001b[0;32mIn[24], line 1\u001b[0m\n\u001b[0;32m----> 1\u001b[0m mean_ \u001b[39m=\u001b[39m (\u001b[39msum\u001b[39;49m(x) \u001b[39m/\u001b[39m \u001b[39mlen\u001b[39m(x))\n\u001b[1;32m      2\u001b[0m mean_\n",
            "\u001b[0;31mTypeError\u001b[0m: 'int' object is not callable"
          ]
        }
      ],
      "source": [
        "mean_ = (sum(x) / len(x))\n",
        "mean_"
      ]
    },
    {
      "cell_type": "markdown",
      "metadata": {
        "id": "WuNNkG9faIEU"
      },
      "source": [
        "Meskipun kode diatas clean dan elegan, Anda juga dapat menerapkan fungsi statistics built-in Python:\n",
        "\n"
      ]
    },
    {
      "cell_type": "code",
      "execution_count": 26,
      "metadata": {
        "colab": {
          "base_uri": "https://localhost:8080/"
        },
        "id": "ZyH17G8kaMSI",
        "outputId": "0a69f12e-009a-4e5d-c3c4-4abb38099d61"
      },
      "outputs": [
        {
          "name": "stdout",
          "output_type": "stream",
          "text": [
            "8.7\n"
          ]
        }
      ],
      "source": [
        "mean_ = statistics.mean(x)\n",
        "print(mean_)\n"
      ]
    },
    {
      "cell_type": "code",
      "execution_count": 27,
      "metadata": {
        "colab": {
          "base_uri": "https://localhost:8080/"
        },
        "id": "nkd0AVdRaPlJ",
        "outputId": "d62b3673-2e89-4fc3-e84b-94df657ca98a"
      },
      "outputs": [
        {
          "name": "stdout",
          "output_type": "stream",
          "text": [
            "nan\n"
          ]
        }
      ],
      "source": [
        "mean_ = statistics.mean(x_with_nan)  # tidak bisa\n",
        "print(mean_)"
      ]
    },
    {
      "cell_type": "markdown",
      "metadata": {
        "id": "mViEe77iaRYh"
      },
      "source": [
        "Hasil ini konsisten dengan behavior sum(), karena sum(x_with_nan) juga mengembalikan nan.\n",
        "\n",
        "Jika kita menggunakan NumPy, maka kita bisa mendapatkan mean dengan np.mean():"
      ]
    },
    {
      "cell_type": "code",
      "execution_count": 28,
      "metadata": {
        "colab": {
          "base_uri": "https://localhost:8080/"
        },
        "id": "PIGftkA4aSTH",
        "outputId": "7c1d8aee-7353-48fc-cdec-0a25a9ca8995"
      },
      "outputs": [
        {
          "data": {
            "text/plain": [
              "8.7"
            ]
          },
          "execution_count": 28,
          "metadata": {},
          "output_type": "execute_result"
        }
      ],
      "source": [
        "mean_ = np.mean(y)\n",
        "mean_"
      ]
    },
    {
      "cell_type": "markdown",
      "metadata": {
        "id": "pHE8Fzg8aVgN"
      },
      "source": [
        "\n",
        "Dalam contoh di atas, mean() adalah sebuah fungsi, tetapi kita juga dapat menggunakan method .mean ():"
      ]
    },
    {
      "cell_type": "code",
      "execution_count": 29,
      "metadata": {
        "colab": {
          "base_uri": "https://localhost:8080/"
        },
        "id": "kic0jlgDaWRw",
        "outputId": "754dc7bd-d21e-4362-8c61-5bc76f1bcc6a"
      },
      "outputs": [
        {
          "data": {
            "text/plain": [
              "8.7"
            ]
          },
          "execution_count": 29,
          "metadata": {},
          "output_type": "execute_result"
        }
      ],
      "source": [
        "mean_ = y.mean()\n",
        "mean_"
      ]
    },
    {
      "cell_type": "markdown",
      "metadata": {
        "id": "O_VarUS6aYSi"
      },
      "source": [
        "Fungsi mean() dan method .mean() dari NumPy mengembalikan hasil yang sama seperti statistics.mean(). Dibawah ini adalah kasus ketika ada nilai nan di antara data kita:"
      ]
    },
    {
      "cell_type": "code",
      "execution_count": 30,
      "metadata": {
        "colab": {
          "base_uri": "https://localhost:8080/"
        },
        "id": "9xgyNiftabOH",
        "outputId": "d8387078-a63f-48e4-8449-aa2052db1582"
      },
      "outputs": [
        {
          "name": "stdout",
          "output_type": "stream",
          "text": [
            "nan\n",
            "nan\n"
          ]
        }
      ],
      "source": [
        "print(np.mean(y_with_nan))\n",
        "print(y_with_nan.mean())"
      ]
    },
    {
      "cell_type": "markdown",
      "metadata": {
        "id": "Ow7IHeuJadC1"
      },
      "source": [
        "Jika kalian lebih suka mengabaikan nilai nan, kalian dapat menggunakan np.nanmean ():\n",
        "\n"
      ]
    },
    {
      "cell_type": "code",
      "execution_count": 31,
      "metadata": {
        "colab": {
          "base_uri": "https://localhost:8080/"
        },
        "id": "yeNjRTF9aeuh",
        "outputId": "ed8df676-fd7b-414c-8711-db4353f997e3"
      },
      "outputs": [
        {
          "data": {
            "text/plain": [
              "8.7"
            ]
          },
          "execution_count": 31,
          "metadata": {},
          "output_type": "execute_result"
        }
      ],
      "source": [
        "np.nanmean(y_with_nan)\n"
      ]
    },
    {
      "cell_type": "markdown",
      "metadata": {
        "id": "gSxQPZXDagoT"
      },
      "source": [
        "nanmean() mengabaikan semua nilai nan. nanmean() mengembalikan nilai yang sama seperti mean() jika kalian menerapkannya ke kumpulan data tanpa nilai nan.\n",
        "\n",
        "pd.Series objects juga mempunyai method .mean():"
      ]
    },
    {
      "cell_type": "code",
      "execution_count": 32,
      "metadata": {
        "colab": {
          "base_uri": "https://localhost:8080/"
        },
        "id": "clVkeAjkaija",
        "outputId": "2020bd60-bf4d-440d-a50f-803cad4bacaf"
      },
      "outputs": [
        {
          "data": {
            "text/plain": [
              "8.7"
            ]
          },
          "execution_count": 32,
          "metadata": {},
          "output_type": "execute_result"
        }
      ],
      "source": [
        "mean_ = z.mean()\n",
        "mean_"
      ]
    },
    {
      "cell_type": "markdown",
      "metadata": {
        "id": "UlwYpymFakYy"
      },
      "source": [
        "Seperti yang kalian lihat, .mean() digunakan dengan cara yang sama seperti dalam kasus NumPy. Namun, .mean() dari Pandas mengabaikan nilai nan secara default:\n",
        "\n"
      ]
    },
    {
      "cell_type": "code",
      "execution_count": 33,
      "metadata": {
        "id": "r_kGAI3XyEPc"
      },
      "outputs": [],
      "source": [
        "z, z_with_nan = pd.Series(x), pd.Series(x_with_nan)"
      ]
    },
    {
      "cell_type": "code",
      "execution_count": 34,
      "metadata": {
        "colab": {
          "base_uri": "https://localhost:8080/"
        },
        "id": "Kj4ICRmyalDS",
        "outputId": "cb0a9221-2a10-4c6c-834a-7c7609848431"
      },
      "outputs": [
        {
          "data": {
            "text/plain": [
              "8.7"
            ]
          },
          "execution_count": 34,
          "metadata": {},
          "output_type": "execute_result"
        }
      ],
      "source": [
        "z_with_nan.mean()\n"
      ]
    },
    {
      "cell_type": "markdown",
      "metadata": {
        "id": "LFmXQPexamiB"
      },
      "source": [
        "Perilaku ini adalah hasil dari nilai default dari parameter opsional skipna. Kita dapat mengubah parameter ini untuk mengubah perilakunya.\n",
        "\n",
        "# Weighted Mean\n",
        "Weighted mean, juga disebut weighted arithmetic mean atau weighted average, adalah generalisasi dari rata-rata aritmatika yang memungkinkan kita untuk menentukan kontribusi relatif dari setiap titik data ke hasil.\n",
        "\n",
        "Kita menentukan satu bobot 𝑤ᵢ untuk setiap titik data 𝑥ᵢ dari dataset 𝑥, di mana 𝑖 = 1, 2,…, 𝑛 dan 𝑛 adalah jumlah item di 𝑥. Kemudian, kita mengalikan setiap titik data dengan bobot yang sesuai, menjumlahkan semua produk, dan membagi jumlah yang diperoleh dengan jumlah bobot: Σᵢ(𝑤ᵢ𝑥ᵢ) / Σᵢ𝑤ᵢ.\n",
        "\n",
        "Weighted mean sangat berguna saat kita membutuhkan rata-rata kumpulan data yang berisi item yang muncul dengan frekuensi relatif tertentu. Misalnya, kiita memiliki himpunan di mana 20% dari semua item sama dengan 2, 50% item sama dengan 4, dan 30% sisanya sama dengan 8. Kita dapat menghitung rata-rata dari set seperti ini:"
      ]
    },
    {
      "cell_type": "code",
      "execution_count": 36,
      "metadata": {
        "colab": {
          "base_uri": "https://localhost:8080/"
        },
        "id": "Hp33RPb9asA7",
        "outputId": "7c975183-aae3-4f04-fce1-7f3720008d07"
      },
      "outputs": [
        {
          "data": {
            "text/plain": [
              "4.8"
            ]
          },
          "execution_count": 36,
          "metadata": {},
          "output_type": "execute_result"
        }
      ],
      "source": [
        "0.2 * 2 + 0.5 * 4 + 0.3 * 8\n"
      ]
    },
    {
      "cell_type": "markdown",
      "metadata": {
        "id": "3aNlIlNjawId"
      },
      "source": [
        "Di sini, kita memperhitungkan frekuensi dengan bobot. Dengan metode ini, kita tidak perlu mengetahui jumlah item.\n",
        "\n",
        "Kita dapat mengimplementasikan weighted mean dalam Python pure dengan menggabungkan sum() dengan range() atau zip():"
      ]
    },
    {
      "cell_type": "code",
      "execution_count": 37,
      "metadata": {
        "colab": {
          "base_uri": "https://localhost:8080/"
        },
        "id": "3oF-WA8EauJ8",
        "outputId": "8065f1ab-f8e8-47cf-8ab6-80c77e82f6d7"
      },
      "outputs": [
        {
          "ename": "TypeError",
          "evalue": "'int' object is not callable",
          "output_type": "error",
          "traceback": [
            "\u001b[0;31m---------------------------------------------------------------------------\u001b[0m",
            "\u001b[0;31mTypeError\u001b[0m                                 Traceback (most recent call last)",
            "Cell \u001b[0;32mIn[37], line 4\u001b[0m\n\u001b[1;32m      1\u001b[0m x \u001b[39m=\u001b[39m [\u001b[39m8.0\u001b[39m, \u001b[39m1\u001b[39m, \u001b[39m2.5\u001b[39m, \u001b[39m4\u001b[39m, \u001b[39m28.0\u001b[39m]\n\u001b[1;32m      2\u001b[0m w \u001b[39m=\u001b[39m [\u001b[39m0.1\u001b[39m, \u001b[39m0.2\u001b[39m, \u001b[39m0.3\u001b[39m, \u001b[39m0.25\u001b[39m, \u001b[39m0.15\u001b[39m]\n\u001b[0;32m----> 4\u001b[0m wmean \u001b[39m=\u001b[39m \u001b[39msum\u001b[39;49m(w[i] \u001b[39m*\u001b[39;49m x[i] \u001b[39mfor\u001b[39;49;00m i \u001b[39min\u001b[39;49;00m \u001b[39mrange\u001b[39;49m(\u001b[39mlen\u001b[39;49m(x))) \u001b[39m/\u001b[39m \u001b[39msum\u001b[39m(w)\n\u001b[1;32m      5\u001b[0m \u001b[39mprint\u001b[39m(wmean)\n",
            "\u001b[0;31mTypeError\u001b[0m: 'int' object is not callable"
          ]
        }
      ],
      "source": [
        "x = [8.0, 1, 2.5, 4, 28.0]\n",
        "w = [0.1, 0.2, 0.3, 0.25, 0.15]\n",
        "\n",
        "wmean = sum(w[i] * x[i] for i in range(len(x))) / sum(w)\n",
        "print(wmean)\n",
        "\n"
      ]
    },
    {
      "cell_type": "code",
      "execution_count": null,
      "metadata": {
        "colab": {
          "base_uri": "https://localhost:8080/"
        },
        "id": "YTYemV7Sz-vD",
        "outputId": "0d48c5e6-efe7-45e1-b274-022831012938"
      },
      "outputs": [
        {
          "name": "stdout",
          "output_type": "stream",
          "text": [
            "6.95\n"
          ]
        }
      ],
      "source": [
        "wmean = sum(x_ * w_ for (x_, w_) in zip(x, w)) / sum(w)\n",
        "print(wmean)"
      ]
    },
    {
      "cell_type": "markdown",
      "metadata": {
        "id": "0gATmIzSa0zB"
      },
      "source": [
        "Sekali lagi, ini adalah implementasi yang rapi dan elegan di mana kita tidak perlu mengimpor libraries apa pun.\n",
        "\n",
        "Namun, jika kita memiliki kumpulan data yang besar, NumPy kemungkinan akan memberikan solusi yang lebih baik. Kita dapat menggunakan np.average() untuk mendapatkan weighted mean dari array NumPy atau Series Pandas:"
      ]
    },
    {
      "cell_type": "code",
      "execution_count": 38,
      "metadata": {
        "colab": {
          "base_uri": "https://localhost:8080/"
        },
        "id": "EHc6FlR5a2np",
        "outputId": "f377a181-84e8-4c5f-c6a9-76304483ef78"
      },
      "outputs": [
        {
          "name": "stdout",
          "output_type": "stream",
          "text": [
            "6.95\n",
            "6.95\n"
          ]
        }
      ],
      "source": [
        "y, z, w = np.array(x), pd.Series(x), np.array(w)\n",
        "\n",
        "wmean = np.average(y, weights=w)\n",
        "print(wmean)\n",
        "\n",
        "wmean = np.average(z, weights=w)\n",
        "print(wmean)"
      ]
    },
    {
      "cell_type": "markdown",
      "metadata": {
        "id": "j1RUK2DQa4WF"
      },
      "source": [
        "Hasilnya sama dengan kasus implementasi Python pure. Kita juga dapat menggunakan metode ini pada list dan tuples.\n",
        "\n",
        "Solusi lain adalah dengan menggunakan element-wise produc w * y dengan np.sum() atau .sum():"
      ]
    },
    {
      "cell_type": "code",
      "execution_count": null,
      "metadata": {
        "colab": {
          "base_uri": "https://localhost:8080/"
        },
        "id": "Oq-ZTR1ca5-3",
        "outputId": "877d77c0-2c1f-44d6-b1de-cdd71f40d04a"
      },
      "outputs": [
        {
          "data": {
            "text/plain": [
              "6.95"
            ]
          },
          "execution_count": 24,
          "metadata": {},
          "output_type": "execute_result"
        }
      ],
      "source": [
        "(w * y).sum() / w.sum()\n"
      ]
    },
    {
      "attachments": {},
      "cell_type": "markdown",
      "metadata": {
        "id": "M1b-DUTfa9GN"
      },
      "source": [
        "# Harmonic Mean\n",
        "\n",
        "Secara teknis, pengertian dari harmonic mean adalah: the reciprocal of the average of the reciprocals.\n",
        "\n",
        "Harmonic mean adalah jenis rata-rata yang digunakan untuk menghitung rata-rata sekelompok bilangan yang memiliki relasi terbalik. Nilai harmonic mean adalah invers dari rata-rata dari invers dari setiap nilai dalam kelompok bilangan tersebut.\n",
        "\n",
        "\n",
        "\n",
        "\n",
        "Reciprocal artinya adalah  1/value .\n",
        "\n",
        "H = n / (∑(1/x))\n",
        "\n",
        "\n",
        "Harmonic mean adalah reciprocal dari mean dari semua item dalam dataset: 𝑛 / Σᵢ (1 / 𝑥ᵢ), di mana 𝑖 = 1, 2,…, 𝑛 dan 𝑛 adalah jumlah item dalam dataset 𝑥. \n",
        "\n",
        "- Contoh:\n",
        "\n",
        "Misalkan terdapat 3 nilai dalam sebuah kelompok bilangan yaitu 2, 4, dan 8. Maka, untuk menghitung harmonic mean dari kelompok bilangan tersebut, kita dapat menggunakan rumus di atas.\n",
        "\n",
        "H = 3 / ((1/2) + (1/4) + (1/8))\n",
        "\n",
        "H = 3 / (0.5 + 0.25 + 0.125)\n",
        "\n",
        "H = 3 / 0.875\n",
        "\n",
        "H = 3.43\n",
        "\n",
        "Jadi, harmonic mean dari kelompok bilangan 2, 4, dan 8 adalah 3.43.\n",
        "\n",
        "\n",
        "- Contoh: \n",
        "\n",
        "we travel 10 km at 60 km/h, than another 10 km at 20 km/h, what is our average speed?\n",
        "\n",
        "Harmonic mean = 2/(1/60 + 1/20) = 30 km/h\n",
        "\n",
        "Harmonic mean juga bagus untuk handling outliers yang besar. Contoh: 2, 4, 6, dan 100\n",
        "\n",
        "Arithmetic mean adalah 2+4+6+100/4  = 28\n",
        "\n",
        "Harmonic mean adalah 4/( 1/2  +  1/4  +  1/6  +  1/100 ) = 4.32\n",
        "\n",
        "Salah satu varian dari implementasi Python pure dari harmonic mean adalah dibawah ini:"
      ]
    },
    {
      "cell_type": "code",
      "execution_count": null,
      "metadata": {
        "colab": {
          "base_uri": "https://localhost:8080/"
        },
        "id": "l_QXxrb_a8d3",
        "outputId": "0112dc54-07fb-47e2-d5f3-244bba2cb956"
      },
      "outputs": [
        {
          "data": {
            "text/plain": [
              "2.7613412228796843"
            ]
          },
          "execution_count": 25,
          "metadata": {},
          "output_type": "execute_result"
        }
      ],
      "source": [
        "hmean = len(x) / sum(1 / item for item in x)\n",
        "hmean"
      ]
    },
    {
      "cell_type": "markdown",
      "metadata": {
        "id": "ggYSU6OhbBpI"
      },
      "source": [
        "Ini sangat berbeda dari nilai arithmetic mean untuk data yang sama yaitu x, yang kita hitung menjadi 8,7.\n",
        "\n",
        "Kita juga dapat menghitung ukuran ini dengan statistics.harmonic_mean():"
      ]
    },
    {
      "cell_type": "code",
      "execution_count": 39,
      "metadata": {
        "colab": {
          "base_uri": "https://localhost:8080/"
        },
        "id": "elaD3PIcQih7",
        "outputId": "e8c4bf17-f59c-44de-ef9c-cabb3c51ab26"
      },
      "outputs": [
        {
          "data": {
            "text/plain": [
              "[8.0, 1, 2.5, 4, 28.0]"
            ]
          },
          "execution_count": 39,
          "metadata": {},
          "output_type": "execute_result"
        }
      ],
      "source": [
        "x"
      ]
    },
    {
      "cell_type": "code",
      "execution_count": 40,
      "metadata": {
        "colab": {
          "base_uri": "https://localhost:8080/"
        },
        "id": "XCHUmbqPbCbH",
        "outputId": "c9128140-8a77-475d-dde9-79885f6e01ac"
      },
      "outputs": [
        {
          "data": {
            "text/plain": [
              "2.7613412228796843"
            ]
          },
          "execution_count": 40,
          "metadata": {},
          "output_type": "execute_result"
        }
      ],
      "source": [
        "hmean = statistics.harmonic_mean(x)\n",
        "hmean"
      ]
    },
    {
      "cell_type": "code",
      "execution_count": 41,
      "metadata": {
        "colab": {
          "base_uri": "https://localhost:8080/"
        },
        "id": "_Lhw8WEcbFGZ",
        "outputId": "cadc36c2-6088-4c6d-cc14-f269f74824e9"
      },
      "outputs": [
        {
          "data": {
            "text/plain": [
              "2.7613412228796843"
            ]
          },
          "execution_count": 41,
          "metadata": {},
          "output_type": "execute_result"
        }
      ],
      "source": [
        "scipy.stats.hmean(y)\n"
      ]
    },
    {
      "cell_type": "code",
      "execution_count": 42,
      "metadata": {
        "colab": {
          "base_uri": "https://localhost:8080/"
        },
        "id": "1wZF-r4kbFkt",
        "outputId": "ff01b7c3-586d-4280-adaa-9f73a3e3e763"
      },
      "outputs": [
        {
          "data": {
            "text/plain": [
              "2.7613412228796843"
            ]
          },
          "execution_count": 42,
          "metadata": {},
          "output_type": "execute_result"
        }
      ],
      "source": [
        "scipy.stats.hmean(z)\n"
      ]
    },
    {
      "cell_type": "markdown",
      "metadata": {
        "id": "RGPZAfutbKf9"
      },
      "source": [
        "# Geometric Mean\n",
        "Geometric mean adalah akar ke-𝑛 dari hasil kali semua 𝑛 elemen 𝑥ᵢ dalam dataset  𝑥: ⁿ√ (Πᵢ𝑥ᵢ), di mana 𝑖 = 1, 2,…, 𝑛.\n",
        "\n",
        "Example: What is the Geometric Mean of 2 and 18?\n",
        "\n",
        "Pertama kita kalikan: 2 × 18 = 36\n",
        "Lalu ambil square root: √36 = 6\n",
        "Dalam one line:\n",
        "\n",
        "**Geometric Mean of 2 and 18 = √(2 × 18) = 6**"
      ]
    },
    {
      "cell_type": "markdown",
      "metadata": {
        "id": "e6W2MKmFbPQx"
      },
      "source": [
        "<img src=\"https://i.ibb.co/0jxHFCL/geometric.png\" width=\"500\" align=\"center\">\n"
      ]
    },
    {
      "cell_type": "markdown",
      "metadata": {
        "id": "plbaas7obQU9"
      },
      "source": [
        "Geometric Mean berguna ketika kita ingin membandingkan berbagai hal dengan properti yang sangat berbeda.\n",
        "\n",
        "Example: you want to buy a new camera.\n",
        "\n",
        "One camera has a zoom of 200 and gets an 8 in reviews.\n",
        "The other has a zoom of 250 and gets a 6 in reviews.\n",
        "Menggunakan aritmethic mean kita akan mendapatkan (200+8)/2 = 104 dan (250+6)/2 = 128. Zoom adalah angka yang sangat besar sehingga rating pengguna hilang.\n",
        "\n",
        "Tetapi, menggunakan geometric mean:\n",
        "\n",
        "√(200 × 8) = 40\n",
        "√(250 × 6) = 38.7\n",
        "Jadi, meskipun zoomnya 50 lebih besar, rating pengguna yang lebih rendah (6) tetap menjadi property penting.\n",
        "\n",
        "Gambar berikut mengilustrasikan arithmetic, harmonic, dan geometric dari dataset:"
      ]
    },
    {
      "cell_type": "markdown",
      "metadata": {
        "id": "sEvfH8yUbTbo"
      },
      "source": [
        "<img src=\"https://i.ibb.co/dPLQ4Sf/geometricmean.png\" width=\"500\" align=\"center\">\n"
      ]
    },
    {
      "cell_type": "markdown",
      "metadata": {
        "id": "9mFL8tPvbWEr"
      },
      "source": [
        "Sekali lagi, titik hijau mewakili poin data 1, 2.5, 4, 8, dan 28. Garis putus-putus merah adalah mean. Garis putus-putus biru adalah harmonic mean, dan garis putus-putus kuning adalah geometric mean.\n",
        "\n",
        "Kita dapat mengimplementasikan geometric mean dalam Python pure seperti ini:"
      ]
    },
    {
      "cell_type": "code",
      "execution_count": null,
      "metadata": {
        "id": "58I7vj8A3Odn"
      },
      "outputs": [],
      "source": [
        "x = [8.0, 1, 2.5, 4, 28.0]"
      ]
    },
    {
      "cell_type": "code",
      "execution_count": null,
      "metadata": {
        "colab": {
          "base_uri": "https://localhost:8080/"
        },
        "id": "dMMyiOB0bYAY",
        "outputId": "81b6c6e8-5d67-4c7e-ad8c-e023a2bc7199"
      },
      "outputs": [
        {
          "data": {
            "text/plain": [
              "4.677885674856041"
            ]
          },
          "execution_count": 30,
          "metadata": {},
          "output_type": "execute_result"
        }
      ],
      "source": [
        "gmean = 1\n",
        "\n",
        "for item in x:\n",
        "    gmean *= item\n",
        "\n",
        "gmean **= 1 / len(x)\n",
        "gmean"
      ]
    },
    {
      "cell_type": "markdown",
      "metadata": {
        "id": "zVNMLDnybZOu"
      },
      "source": [
        "Kita juga bisa mendapatkan geometric mean dengan scipy.stats.gmean ():\n",
        "\n"
      ]
    },
    {
      "cell_type": "code",
      "execution_count": null,
      "metadata": {
        "colab": {
          "base_uri": "https://localhost:8080/"
        },
        "id": "nLyB904Pbalv",
        "outputId": "2b8fbd5e-34ed-40ef-e1b5-6504cababa02"
      },
      "outputs": [
        {
          "data": {
            "text/plain": [
              "4.67788567485604"
            ]
          },
          "execution_count": 31,
          "metadata": {},
          "output_type": "execute_result"
        }
      ],
      "source": [
        "scipy.stats.gmean(y)\n"
      ]
    },
    {
      "cell_type": "code",
      "execution_count": null,
      "metadata": {
        "colab": {
          "base_uri": "https://localhost:8080/"
        },
        "id": "YAXnbpxibbrH",
        "outputId": "cfb9e0bb-3677-4a99-b82c-137062a23297"
      },
      "outputs": [
        {
          "data": {
            "text/plain": [
              "4.67788567485604"
            ]
          },
          "execution_count": 32,
          "metadata": {},
          "output_type": "execute_result"
        }
      ],
      "source": [
        "scipy.stats.gmean(z)\n"
      ]
    },
    {
      "cell_type": "markdown",
      "metadata": {
        "id": "_p-rv15abfe5"
      },
      "source": [
        "# Median\n",
        "Sample median adalah elemen tengah dari kumpulan data yang diurutkan. Dataset dapat diurutkan dalam urutan naik atau turun. Jika jumlah elemen 𝑛 dari dataset ganjil, maka median adalah nilai pada posisi tengah: 0,5 (𝑛 + 1). Jika 𝑛 genap, median adalah arithmetic mean dari dua nilai di tengah, yaitu item pada posisi 0,5𝑛 dan 0,5𝑛 + 1.\n",
        "\n",
        "Misalnya, jika kita memiliki titik data 2, 4, 1, 8, dan 9, maka nilai mediannya adalah 4, yang berada di tengah dataset yang diurutkan (1, 2, 4, 8, 9). Jika titik datanya adalah 2, 4, 1, dan 8, maka mediannya adalah 3, yang merupakan rata-rata dari dua elemen tengah dari urutan yang diurutkan (2 dan 4). Gambar berikut mengilustrasikannya:\n",
        "\n"
      ]
    },
    {
      "cell_type": "markdown",
      "metadata": {
        "id": "ddxwT4d7bhcG"
      },
      "source": [
        "<img src=\"https://i.ibb.co/6Z943w4/median2.png\" width=\"500\" align=\"center\">\n"
      ]
    },
    {
      "cell_type": "markdown",
      "metadata": {
        "id": "YZUXqdxgbj7E"
      },
      "source": [
        "Data points adalah titik hijau, dan garis ungu menunjukkan median untuk setiap dataset. Nilai median untuk dataset atas (1, 2.5, 4, 8, dan 28) adalah 4. Jika kita menghapus outlier 28 dari dataset yang lebih rendah, maka median tersebut menjadi arithmetic average antara 2.5 dan 4, yaitu 3.25.\n",
        "\n",
        "Gambar di bawah ini menunjukkan mean dan median dari poin data 1, 2.5, 4, 8, dan 28:"
      ]
    },
    {
      "cell_type": "markdown",
      "metadata": {
        "id": "LmNtnNR8bkZ4"
      },
      "source": [
        "<img src=\"https://i.ibb.co/vJw4Gtb/median3.png\" width=\"500\" align=\"center\">\n"
      ]
    },
    {
      "cell_type": "markdown",
      "metadata": {
        "id": "fo9nrhy3bk72"
      },
      "source": [
        "Sekali lagi, mean adalah garis putus-putus merah, sedangkan median adalah garis ungu.\n",
        "\n",
        "Perbedaan utama antara perilaku mean dan median terkait dengan dataset outliers. Rata-rata sangat dipengaruhi oleh outliers, tetapi median hanya bergantung pada outliers sedikit atau tidak sama sekali. Perhatikan gambar berikut:"
      ]
    },
    {
      "cell_type": "markdown",
      "metadata": {
        "id": "RS28j6OsbrrQ"
      },
      "source": [
        "<img src=\"https://i.ibb.co/r5KgJTy/median4.png\" width=\"500\" align=\"center\">\n"
      ]
    },
    {
      "cell_type": "markdown",
      "metadata": {
        "id": "euUbqN8NbsOP"
      },
      "source": [
        "Dataset atas memiliki item 1, 2.5, 4, 8, dan 28. Rata-rata adalah 8.7, dan median adalah 5, seperti yang kita lihat sebelumnya. Dataset bawah menunjukkan apa yang terjadi saat kita hilangkan titik paling kanan dengan nilai 28:\n",
        "\n",
        "Jika kita meningkatkan nilainya (pindahkan ke kanan), mean akan naik, tetapi nilai median tidak akan pernah berubah.\n",
        "Jika kita menurunkan nilainya (pindahkan ke kiri), maka mean akan turun, tetapi median akan tetap sama sampai nilai titik bergerak lebih besar atau sama dengan 4.\n",
        "Kita dapat membandingkan mean dan median sebagai salah satu cara untuk mendeteksi outlier dan asimetri dalam data kita . Apakah nilai rata-rata atau nilai median lebih berguna bagi kita bergantung pada konteks masalah kita.\n",
        "\n",
        "Berikut adalah salah satu dari banyak kemungkinan implementasi Python pure dari median:"
      ]
    },
    {
      "cell_type": "code",
      "execution_count": null,
      "metadata": {
        "colab": {
          "base_uri": "https://localhost:8080/"
        },
        "id": "8jfYyAFlbdVR",
        "outputId": "aaaddc05-de0c-43fc-c478-433f2bfb403b"
      },
      "outputs": [
        {
          "data": {
            "text/plain": [
              "4"
            ]
          },
          "execution_count": 33,
          "metadata": {},
          "output_type": "execute_result"
        }
      ],
      "source": [
        "n = len(x)\n",
        "if n % 2:\n",
        "    median_ = sorted(x)[round(0.5*(n-1))]\n",
        "else:\n",
        "    x_ord, index = sorted(x), round(0.5 * n)\n",
        "    median_ = 0.5 * (x_ord[index-1] + x_ord[index])\n",
        "\n",
        "median_"
      ]
    },
    {
      "cell_type": "markdown",
      "metadata": {
        "id": "3AaDD3kVb0je"
      },
      "source": [
        "Versi yang diurutkan dari x adalah [1, 2.5, 4, 8.0, 28.0], jadi elemen di tengah adalah 4. Versi yang diurutkan dari x[:-1], yaitu x tanpa item terakhir 28.0, adalah [1, 2.5, 4, 8.0]. Sekarang, ada dua elemen tengah, 2.5 dan 4. Rata-ratanya adalah 3.25.\n",
        "\n",
        "median_low() dan median_high() adalah dua fungsi lainnya yang terkait dengan median di pustaka statistics Python. Mereka selalu mengembalikan elemen dari kumpulan data:\n",
        "\n",
        "Jika jumlah elemennya ganjil, maka hanya ada satu nilai tengah, sehingga fungsi ini berperilaku seperti median().\n",
        "Jika jumlah elemennya genap, maka ada dua nilai tengah. Dalam kasus ini, median_low() mengembalikan nilai tengah yang lebih rendah dan median_high() lebih tinggi.\n",
        "Kita dapat menggunakan fungsi ini seperti halnya kita menggunakan median():"
      ]
    },
    {
      "cell_type": "code",
      "execution_count": 43,
      "metadata": {
        "colab": {
          "base_uri": "https://localhost:8080/"
        },
        "id": "2YOap8ZAb1is",
        "outputId": "1ad84a9f-9eff-4970-8980-6fa663720a85"
      },
      "outputs": [
        {
          "data": {
            "text/plain": [
              "[8.0, 1, 2.5, 4, 28.0]"
            ]
          },
          "execution_count": 43,
          "metadata": {},
          "output_type": "execute_result"
        }
      ],
      "source": [
        "x"
      ]
    },
    {
      "cell_type": "code",
      "execution_count": 44,
      "metadata": {
        "colab": {
          "base_uri": "https://localhost:8080/"
        },
        "id": "3njtvlB0b4IO",
        "outputId": "d0af32ee-92f3-44ad-de1d-c53ef95a499e"
      },
      "outputs": [
        {
          "data": {
            "text/plain": [
              "2.5"
            ]
          },
          "execution_count": 44,
          "metadata": {},
          "output_type": "execute_result"
        }
      ],
      "source": [
        "statistics.median_low(x[:-1])\n"
      ]
    },
    {
      "cell_type": "code",
      "execution_count": 46,
      "metadata": {
        "colab": {
          "base_uri": "https://localhost:8080/"
        },
        "id": "45R29zWnb30F",
        "outputId": "d9ffb60d-abcf-4972-9a41-3761b92a5924"
      },
      "outputs": [
        {
          "data": {
            "text/plain": [
              "4"
            ]
          },
          "execution_count": 46,
          "metadata": {},
          "output_type": "execute_result"
        }
      ],
      "source": [
        "statistics.median_high(x[:-1])\n"
      ]
    },
    {
      "cell_type": "markdown",
      "metadata": {
        "id": "DLwmjNA9b2U1"
      },
      "source": [
        "Sekali lagi, versi yang diurutkan dari x[:-1] adalah [1, 2.5, 4, 8.0]. Dua elemen di tengah adalah 2.5 (low) dan 4 (high).\n",
        "\n",
        "Tidak seperti kebanyakan fungsi lain dari pustaka statistics  Python, median(), median_low(), dan median_high() tidak mengembalikan nan ketika ada nilai nan di antara titik data:"
      ]
    },
    {
      "cell_type": "code",
      "execution_count": 47,
      "metadata": {
        "colab": {
          "base_uri": "https://localhost:8080/"
        },
        "id": "3hmsqs4Sb9Wt",
        "outputId": "cb98744c-dc84-46e5-abc4-c915f46a3d7f"
      },
      "outputs": [
        {
          "name": "stdout",
          "output_type": "stream",
          "text": [
            "6.0\n",
            "4\n",
            "8.0\n"
          ]
        }
      ],
      "source": [
        "print(statistics.median(x_with_nan))\n",
        "print(statistics.median_low(x_with_nan))\n",
        "print(statistics.median_high(x_with_nan))"
      ]
    },
    {
      "cell_type": "markdown",
      "metadata": {
        "id": "RvxOk56PcAGj"
      },
      "source": [
        "Kita juga bisa mendapatkan median dengan np.median ():\n",
        "\n"
      ]
    },
    {
      "cell_type": "code",
      "execution_count": null,
      "metadata": {
        "colab": {
          "base_uri": "https://localhost:8080/"
        },
        "id": "j3usVeHTcAva",
        "outputId": "358b1442-4273-4445-9295-507d51a3128f"
      },
      "outputs": [
        {
          "name": "stdout",
          "output_type": "stream",
          "text": [
            "4.0\n"
          ]
        }
      ],
      "source": [
        "median_ = np.median(y)\n",
        "print(median_)\n"
      ]
    },
    {
      "cell_type": "code",
      "execution_count": null,
      "metadata": {
        "colab": {
          "base_uri": "https://localhost:8080/"
        },
        "id": "Bds63CJ0cDpp",
        "outputId": "7fe4d9d2-f976-4466-9c76-701afd4a5a75"
      },
      "outputs": [
        {
          "name": "stdout",
          "output_type": "stream",
          "text": [
            "3.25\n"
          ]
        }
      ],
      "source": [
        "median_ = np.median(y[:-1])\n",
        "print(median_)"
      ]
    },
    {
      "cell_type": "markdown",
      "metadata": {
        "id": "JttSTLjhcIgB"
      },
      "source": [
        "# Mode\n",
        "Sample mode adalah nilai dalam kumpulan data yang paling sering muncul. Jika tidak ada satu pun nilai tersebut, maka set tersebut multimodal karena memiliki beberapa nilai modal. Misalnya, pada set yang berisi poin 2, 3, 2, 8, dan 12, angka 2 adalah mode karena terjadi dua kali, tidak seperti item lain yang hanya muncul sekali.\n",
        "\n",
        "Ini adalah bagaimana kita bisa mendapatkan mode dengan Python pure:"
      ]
    },
    {
      "cell_type": "code",
      "execution_count": 51,
      "metadata": {
        "colab": {
          "base_uri": "https://localhost:8080/"
        },
        "id": "nbQfD120cLsf",
        "outputId": "70391e6f-bcf2-47ad-cc8b-11af145725d8"
      },
      "outputs": [
        {
          "data": {
            "text/plain": [
              "15"
            ]
          },
          "execution_count": 51,
          "metadata": {},
          "output_type": "execute_result"
        }
      ],
      "source": [
        "u = [2, 3, 2, 8, 12]\n",
        "\n",
        "v = [12, 15, 12, 15, 21, 15, 12]\n",
        "\n",
        "mode_ = max((v.count(item), item) for item in set(v))[1]\n",
        "mode_\n",
        "\n"
      ]
    },
    {
      "cell_type": "code",
      "execution_count": 49,
      "metadata": {
        "colab": {
          "base_uri": "https://localhost:8080/"
        },
        "id": "8PiU7HYhcPh7",
        "outputId": "44765343-cc85-43f7-e484-c3b501595ee3"
      },
      "outputs": [
        {
          "data": {
            "text/plain": [
              "2"
            ]
          },
          "execution_count": 49,
          "metadata": {},
          "output_type": "execute_result"
        }
      ],
      "source": [
        "# Kita bisa mendapatkan mode dengan statistics.mode()\n",
        "\n",
        "mode_ = statistics.mode(u)\n",
        "mode_\n",
        "\n"
      ]
    },
    {
      "cell_type": "code",
      "execution_count": 53,
      "metadata": {
        "colab": {
          "base_uri": "https://localhost:8080/"
        },
        "id": "uesjTKSVcUC2",
        "outputId": "5a99223d-737f-4051-809a-e17d8a09ebbe"
      },
      "outputs": [
        {
          "name": "stdout",
          "output_type": "stream",
          "text": [
            "ModeResult(mode=array([2]), count=array([2]))\n"
          ]
        },
        {
          "name": "stderr",
          "output_type": "stream",
          "text": [
            "/var/folders/gh/bm95p3ys6sd6jvzbfl061_3c0000gn/T/ipykernel_25573/258075725.py:5: FutureWarning: Unlike other reduction functions (e.g. `skew`, `kurtosis`), the default behavior of `mode` typically preserves the axis it acts along. In SciPy 1.11.0, this behavior will change: the default value of `keepdims` will become False, the `axis` over which the statistic is taken will be eliminated, and the value None will no longer be accepted. Set `keepdims` to True or False to avoid this warning.\n",
            "  mode_ = scipy.stats.mode(u)\n"
          ]
        }
      ],
      "source": [
        "# Kita juga bisa mendapatkan mode dengan scipy.stats.mode():\n",
        "\n",
        "u, v = np.array(u), np.array(v)\n",
        "\n",
        "mode_ = scipy.stats.mode(u)\n",
        "print(mode_)\n"
      ]
    },
    {
      "cell_type": "code",
      "execution_count": 54,
      "metadata": {
        "colab": {
          "base_uri": "https://localhost:8080/"
        },
        "id": "3C8WzrjecXGr",
        "outputId": "ede48502-1289-4a6a-9750-8ed4a6a17d08"
      },
      "outputs": [
        {
          "name": "stderr",
          "output_type": "stream",
          "text": [
            "/var/folders/gh/bm95p3ys6sd6jvzbfl061_3c0000gn/T/ipykernel_25573/2749566390.py:1: FutureWarning: Unlike other reduction functions (e.g. `skew`, `kurtosis`), the default behavior of `mode` typically preserves the axis it acts along. In SciPy 1.11.0, this behavior will change: the default value of `keepdims` will become False, the `axis` over which the statistic is taken will be eliminated, and the value None will no longer be accepted. Set `keepdims` to True or False to avoid this warning.\n",
            "  mode_ = scipy.stats.mode(v)\n"
          ]
        },
        {
          "data": {
            "text/plain": [
              "ModeResult(mode=array([12]), count=array([3]))"
            ]
          },
          "execution_count": 54,
          "metadata": {},
          "output_type": "execute_result"
        }
      ],
      "source": [
        "mode_ = scipy.stats.mode(v)\n",
        "mode_\n"
      ]
    },
    {
      "cell_type": "code",
      "execution_count": null,
      "metadata": {
        "id": "JT0fH5AYcXoL"
      },
      "outputs": [],
      "source": [
        "# Kita bisa mendapatkan mode dan jumlah kemunculannya sebagai array NumPy dengan dot notation:\n",
        "\n"
      ]
    },
    {
      "cell_type": "code",
      "execution_count": 55,
      "metadata": {
        "colab": {
          "base_uri": "https://localhost:8080/"
        },
        "id": "FSLs6BrLcdhP",
        "outputId": "04352b14-63e9-43d9-c94e-a74c16a4467d"
      },
      "outputs": [
        {
          "name": "stdout",
          "output_type": "stream",
          "text": [
            "[12]\n",
            "[3]\n"
          ]
        }
      ],
      "source": [
        "print(mode_.mode)\n",
        "print(mode_.count)\n"
      ]
    },
    {
      "cell_type": "markdown",
      "metadata": {
        "id": "p2e1hVvJcfk7"
      },
      "source": [
        "Objek Pandas Series memiliki metode .mode() yang menangani nilai multimodal dengan baik dan mengabaikan nilai nan secara default:\n",
        "\n"
      ]
    },
    {
      "cell_type": "code",
      "execution_count": 56,
      "metadata": {
        "colab": {
          "base_uri": "https://localhost:8080/"
        },
        "id": "JhmRZxC9ciqw",
        "outputId": "aba73e8e-c3f4-48c6-a75f-95c5fcd69bba"
      },
      "outputs": [
        {
          "name": "stdout",
          "output_type": "stream",
          "text": [
            "0    2\n",
            "dtype: int64\n",
            "0    12\n",
            "1    15\n",
            "dtype: int64\n",
            "0    1.0\n",
            "1    2.0\n",
            "dtype: float64\n"
          ]
        }
      ],
      "source": [
        "u, v, w = pd.Series(u), pd.Series(v), pd.Series([2, 1, math.nan])\n",
        "\n",
        "print(u.mode())\n",
        "\n",
        "print(v.mode())\n",
        "\n",
        "print(w.mode())"
      ]
    },
    {
      "attachments": {},
      "cell_type": "markdown",
      "metadata": {},
      "source": [
        "Seperti yang kalian lihat, .mode() mengembalikan pd.Series baru yang menampung semua nilai modal. Jika kalian ingin .mode() memperhitungkan nilai nan, cukup teruskan argumen opsional dropna = False.\n",
        "\n",
        "Measures of Variability\n",
        "Measures of central tendency tidak cukup untuk menggambarkan data. Kita juga memerlukan ukuran variabilitas yang mengukur penyebaran titik data. Di bagian ini, kita akan mempelajari cara mengidentifikasi dan menghitung ukuran variabilitas berupa:"
      ]
    },
    {
      "attachments": {},
      "cell_type": "markdown",
      "metadata": {},
      "source": [
        "_______"
      ]
    },
    {
      "attachments": {},
      "cell_type": "markdown",
      "metadata": {},
      "source": [
        "*Pemilihan jenis rata-rata yang tepat tergantung pada jenis data dan tujuan analisis kita.*  \n",
        "\n",
        "Berikut adalah beberapa situasi di mana kita sebaiknya menggunakan jenis rata-rata tertentu:\n",
        "\n",
        "1. Mean:\n",
        "\n",
        "- Digunakan pada data yang berdistribusi normal atau hampir normal.\n",
        "- Cocok digunakan pada data yang terdistribusi simetris dan tidak memiliki pencilan yang signifikan.\n",
        "\n",
        "2. Weighted Mean:\n",
        "\n",
        "- Digunakan pada data yang memiliki bobot yang berbeda dan sangat mempengaruhi hasil akhir.\n",
        "- Contoh penggunaannya adalah dalam menghitung nilai akhir mahasiswa, di mana nilai setiap mata kuliah memiliki bobot yang berbeda.\n",
        "\n",
        "3. Geometric Mean:\n",
        "\n",
        "- Digunakan pada data yang memiliki skala logaritmik atau dalam kasus ketika perubahan relatif dalam data harus diberikan perhatian yang sama dengan perubahan absolut.\n",
        "- Contoh penggunaannya adalah dalam menghitung nilai investasi selama beberapa periode, di mana persentase kenaikan atau penurunan yang sama dalam setiap periode menghasilkan hasil akhir yang berbeda.\n",
        "\n",
        "4. Harmonic Mean:\n",
        "\n",
        "- Digunakan pada data yang memiliki hubungan terbalik, seperti rasio atau kecepatan rata-rata.\n",
        "- Contoh penggunaannya adalah dalam menghitung kecepatan rata-rata saat bepergian dari satu titik ke titik lain dengan kecepatan yang berbeda-beda.\n",
        "\n",
        "5. Median:\n",
        "\n",
        "- Digunakan pada data yang tidak terdistribusi normal atau data yang memiliki banyak pencilan.\n",
        "- Cocok digunakan pada data ordinal atau data interval yang memiliki ukuran yang relatif sama.\n",
        "\n",
        "6. Mode:\n",
        "\n",
        "- Digunakan pada data nominal atau data kategorikal yang memiliki mode yang signifikan.\n",
        "- Cocok digunakan pada data yang memiliki banyak kelas atau kategori yang berbeda.\n",
        "\n",
        "sebaiknya selalu dilakukan analisis yang lebih mendalam sebelum memutuskan jenis rata-rata yang digunakan."
      ]
    },
    {
      "attachments": {},
      "cell_type": "markdown",
      "metadata": {},
      "source": [
        "________"
      ]
    },
    {
      "attachments": {},
      "cell_type": "markdown",
      "metadata": {
        "id": "L6St4FEoclLN"
      },
      "source": [
        "\n",
        "\n",
        "# Variance\n",
        "Standard deviation\n",
        "Skewness\n",
        "Percentiles\n",
        "Ranges\n",
        "Sample variance mengukur penyebaran data. Sample variance menunjukkan secara numerik seberapa jauh titik data dari mean. Kita dapat mengekspresikan varians sampel dari kumpulan data 𝑥 dengan 𝑛 elemen secara matematis sebagai 𝑠² = Σᵢ(𝑥ᵢ − mean(𝑥))² / (𝑛 − 1), di mana 𝑖 = 1, 2,…, 𝑛 dan mean (𝑥) adalah sample mean dari 𝑥.\n",
        "\n",
        "Gambar berikut menunjukkan mengapa penting untuk mempertimbangkan variance saat mendeskripsikan kumpulan data:"
      ]
    },
    {
      "cell_type": "markdown",
      "metadata": {
        "id": "hzV4BJF2cmCB"
      },
      "source": [
        "<img src=\"https://i.ibb.co/b7QRW2g/mod.png\" width=\"500\" align=\"center\">\n"
      ]
    },
    {
      "cell_type": "markdown",
      "metadata": {
        "id": "4MvhnjV1coo3"
      },
      "source": [
        "Terdapat dua dataset dalam figure diatas:\n",
        "\n",
        "Titik hijau: Dataset ini memiliki variance yang lebih kecil atau perbedaan yang lebih kecil dari mean. Dataset ini juga memiliki range yang lebih kecil atau perbedaan yang lebih kecil antara item terbesar dan terkecil.\n",
        "Titik putih: Dataset ini memiliki variance yang lebih besar atau perbedaan lebih besar dari rata-rata. Dataset ini juga memiliki range yang lebih besar atau perbedaan yang lebih besar antara item terbesar dan terkecil.\n",
        "Perhatikan bahwa kedua dataset ini memiliki mean dan median yang sama, meskipun tampak berbeda secara signifikan. Baik mean maupun median tidak dapat menggambarkan perbedaan ini. Itulah mengapa kita membutuhkan measures of variability.\n",
        "\n",
        "Berikut cara menghitung sample variance dengan Python pure:\n",
        "\n"
      ]
    },
    {
      "cell_type": "code",
      "execution_count": 57,
      "metadata": {
        "colab": {
          "base_uri": "https://localhost:8080/"
        },
        "id": "uBXDo4GjcqX6",
        "outputId": "2adb38a2-b21c-464b-e7f7-0882f62cfb2c"
      },
      "outputs": [
        {
          "ename": "TypeError",
          "evalue": "'int' object is not callable",
          "output_type": "error",
          "traceback": [
            "\u001b[0;31m---------------------------------------------------------------------------\u001b[0m",
            "\u001b[0;31mTypeError\u001b[0m                                 Traceback (most recent call last)",
            "Cell \u001b[0;32mIn[57], line 3\u001b[0m\n\u001b[1;32m      1\u001b[0m n \u001b[39m=\u001b[39m \u001b[39mlen\u001b[39m(x)\n\u001b[0;32m----> 3\u001b[0m mean_ \u001b[39m=\u001b[39m \u001b[39msum\u001b[39;49m(x) \u001b[39m/\u001b[39m n\n\u001b[1;32m      5\u001b[0m var_ \u001b[39m=\u001b[39m \u001b[39msum\u001b[39m((item \u001b[39m-\u001b[39m mean_)\u001b[39m*\u001b[39m\u001b[39m*\u001b[39m\u001b[39m2\u001b[39m \u001b[39mfor\u001b[39;00m item \u001b[39min\u001b[39;00m x) \u001b[39m/\u001b[39m (n \u001b[39m-\u001b[39m \u001b[39m1\u001b[39m)\n\u001b[1;32m      6\u001b[0m var_\n",
            "\u001b[0;31mTypeError\u001b[0m: 'int' object is not callable"
          ]
        }
      ],
      "source": [
        "n = len(x)\n",
        "\n",
        "mean_ = sum(x) / n\n",
        "\n",
        "var_ = sum((item - mean_)**2 for item in x) / (n - 1)\n",
        "var_\n"
      ]
    },
    {
      "cell_type": "markdown",
      "metadata": {
        "id": "AEgdFJMccr5m"
      },
      "source": [
        "Pendekatan ini cukup dan dapat menghitung sample variance dengan baik. Namun, solusi yang lebih singkat dan lebih elegan adalah dengan memanggil fungsi statistics.variance():\n",
        "\n"
      ]
    },
    {
      "cell_type": "code",
      "execution_count": 58,
      "metadata": {
        "colab": {
          "base_uri": "https://localhost:8080/"
        },
        "id": "REuE_PvGctkO",
        "outputId": "fee7a913-4836-4071-e494-3663c01821aa"
      },
      "outputs": [
        {
          "data": {
            "text/plain": [
              "123.2"
            ]
          },
          "execution_count": 58,
          "metadata": {},
          "output_type": "execute_result"
        }
      ],
      "source": [
        "var_ = statistics.variance(x)\n",
        "var_"
      ]
    },
    {
      "cell_type": "markdown",
      "metadata": {
        "id": "6lWrLG7gcvYF"
      },
      "source": [
        "Kita juga dapat menghitung sample variance dengan NumPy. Kita harus menggunakan fungsi np.var() atau method .var():"
      ]
    },
    {
      "cell_type": "code",
      "execution_count": 59,
      "metadata": {
        "colab": {
          "base_uri": "https://localhost:8080/"
        },
        "id": "XzId91m0cxXv",
        "outputId": "e6f57919-c309-4138-ae63-0eca6e85ab5a"
      },
      "outputs": [
        {
          "data": {
            "text/plain": [
              "123.19999999999999"
            ]
          },
          "execution_count": 59,
          "metadata": {},
          "output_type": "execute_result"
        }
      ],
      "source": [
        "var_ = np.var(y, ddof=1)\n",
        "var_\n"
      ]
    },
    {
      "cell_type": "code",
      "execution_count": null,
      "metadata": {
        "colab": {
          "base_uri": "https://localhost:8080/"
        },
        "id": "O6eboEsjcx-i",
        "outputId": "ce21a5fc-406c-4691-9d0f-12316a6e6584"
      },
      "outputs": [
        {
          "data": {
            "text/plain": [
              "123.19999999999999"
            ]
          },
          "execution_count": 54,
          "metadata": {},
          "output_type": "execute_result"
        }
      ],
      "source": [
        "var_ = y.var(ddof=1)\n",
        "var_\n"
      ]
    },
    {
      "cell_type": "markdown",
      "metadata": {
        "id": "3Pf37haGczXI"
      },
      "source": [
        "Sangat penting untuk menentukan parameter ddof = 1. Begitulah cara kita menyetel degrees of freedom ke 1. Parameter ini memungkinkan kalkulasi yang tepat dari 𝑠², dengan (𝑛 - 1) di penyebutnya, bukan 𝑛.\n",
        "\n",
        "Istilah angka derajat kebebasan (degree of freedom) diartikan sebagai banyaknya pengamatan bebas dari total pengamatan n. Sehingga rumus umum untuk menentukan degree of freedom (df) adalah total pengamatan (n) dikurangi dengan banyaknya parameter yang ditaksir atau df = n - banyaknya parameter (k).\n",
        "\n",
        "Untuk memahaminya perhatikan penjelasan berikut:\n",
        "\n",
        "Misal, ada sebuah populasi dengan mean yaitu 10. Selanjutnya, kita diijinkan untuk mengambil sample sebanyak 10 orang dari populasi tersebut. Berapa orang yang dapat kita ambil dengan bebas?\n",
        "\n",
        "Seandainya kita ambil orang pertama secara bebas, memiliki nilai 14. Orang kedua masih secara bebas dengan nilai 8. Orang ketiga hingga sembilan masih diambil dengan bebas dengan nilai 15, 6, 11, 14, 8, 6, dan 5. Bagaimana dengan orang ke 10? Diambil bebas? Tidak.\n",
        "\n",
        "Jika sudah ada 9 angka, angka ke 10 tidak dapat lagi ditentukan dengan bebas agar mendapatkan estimasi yang sama yaitu mean = 10. Jumlah nilai sembilan orang tadi adalah 87. Agar estimasi yang kita dapatkan sama, yaitu mean = 10. Orang kesepuluh harus ditentukan sebesar 13. Dengan demikian dapat dikatakan kita kehilangan 1 derajat kebebasan.\n",
        "\n",
        "Dalam perhitungan tadi, kita hanya mengestimasi atau menaksir satu parameter. Oleh karena itu kita hanya kehilangan satu derajat kebebasan, sehingga Degree of Freedom yang kita miliki adalah n-1, yaitu 10 - 1 = 9.\n",
        "\n",
        "Kembali ke Python,\n",
        "\n",
        "Objek pd.Series memiliki metode .var() yang mengabaikan nilai nan secara default:\n",
        "\n"
      ]
    },
    {
      "cell_type": "code",
      "execution_count": null,
      "metadata": {
        "colab": {
          "base_uri": "https://localhost:8080/"
        },
        "id": "27f8WoXSc3dn",
        "outputId": "8f967912-0681-46bb-b763-44d3313bc8d3"
      },
      "outputs": [
        {
          "data": {
            "text/plain": [
              "123.19999999999999"
            ]
          },
          "execution_count": 55,
          "metadata": {},
          "output_type": "execute_result"
        }
      ],
      "source": [
        "z.var(ddof=1)\n"
      ]
    },
    {
      "cell_type": "markdown",
      "metadata": {
        "id": "-bjcG5aGOBQ4"
      },
      "source": [
        ".var() juga memiliki parameter ddof, tetapi nilai defaultnya adalah 1, jadi kalian dapat menghilangkannya. Jika kalian menginginkan perilaku yang berbeda terkait dengan nilai nan, gunakan parameter opsional skipna.\n",
        "\n",
        "Kita menghitung population variance sama dengan sample variance. Namun, kita harus menggunakan 𝑛 dalam penyebutnya, bukan 𝑛 − 1: Σᵢ(𝑥ᵢ − mean(𝑥))² / 𝑛. Dalam hal ini, 𝑛 adalah banyaknya item dalam seluruh populasi. Kita bisa mendapatkan varians populasi yang mirip dengan varians sampel, dengan perbedaan berikut:\n",
        "\n",
        "Replace (n - 1) with n in the pure Python implementation.\n",
        "Use statistics.pvariance() instead of statistics.variance().\n",
        "Specify the parameter ddof=0 if you use NumPy or Pandas. In NumPy, you can omit ddof because its default value is 0.\n",
        "Perhatikan bahwa kita harus selalu aware apakah kita bekerja dengan sampel atau seluruh populasi setiap kali kita menghitung varians!"
      ]
    },
    {
      "cell_type": "markdown",
      "metadata": {
        "id": "o5ysWlS0c7ih"
      },
      "source": [
        "\n",
        "\n",
        "# Standard Deviation\n",
        "Sample standard deviation adalah cara lain mengukur penyebaran data. Berhubungan dengan varians sampel, karena standard deviation, 𝑠, adalah positive square root dari sample variance. standard deviation seringkali lebih cocok daripada varians karena memiliki satuan yang sama dengan data points. Setelah kita mendapatkan variance, kita dapat menghitung deviasi standar dengan Python pure:"
      ]
    },
    {
      "cell_type": "code",
      "execution_count": null,
      "metadata": {
        "colab": {
          "base_uri": "https://localhost:8080/"
        },
        "id": "FSNa5oZ-fg0A",
        "outputId": "a7e206b0-c484-4ca6-91a1-224d41bdcb7f"
      },
      "outputs": [
        {
          "data": {
            "text/plain": [
              "11.099549540409285"
            ]
          },
          "execution_count": 56,
          "metadata": {},
          "output_type": "execute_result"
        }
      ],
      "source": [
        "std_ = var_ ** 0.5\n",
        "std_"
      ]
    },
    {
      "cell_type": "code",
      "execution_count": null,
      "metadata": {
        "colab": {
          "base_uri": "https://localhost:8080/"
        },
        "id": "4IWJBMOjfjLs",
        "outputId": "23fb1e7e-8714-4921-fb67-95304d25f43c"
      },
      "outputs": [
        {
          "data": {
            "text/plain": [
              "11.099549540409287"
            ]
          },
          "execution_count": 50,
          "metadata": {},
          "output_type": "execute_result"
        }
      ],
      "source": [
        "# Meskipun solusi ini berhasil, kita juga dapat menggunakan statistics.stdev():\n",
        "std_ = statistics.stdev(x)\n",
        "std_\n"
      ]
    },
    {
      "cell_type": "markdown",
      "metadata": {
        "id": "OUzaCaJQfomr"
      },
      "source": [
        "Tentu saja hasilnya sama seperti sebelumnya. Seperti variance(), stdev() tidak menghitung mean jika kita memberikannya secara eksplisit sebagai argumen kedua: statistics.stdev(x, mean_).\n",
        "\n",
        "Kita bisa mendapatkan standard deviation dengan NumPy dengan cara yang hampir sama. Kita dapat menggunakan fungsi std() dan method .std() untuk menghitung standard deviation. Jika ada nilai nan dalam kumpulan data, maka akan mengembalikan nan. Untuk mengabaikan nilai nan, kita harus menggunakan np.nanstd()."
      ]
    },
    {
      "cell_type": "code",
      "execution_count": null,
      "metadata": {
        "colab": {
          "base_uri": "https://localhost:8080/"
        },
        "id": "PW87f8z7fqbJ",
        "outputId": "cb9c544d-9d33-4799-abd8-215b97e677a6"
      },
      "outputs": [
        {
          "data": {
            "text/plain": [
              "11.099549540409285"
            ]
          },
          "execution_count": 57,
          "metadata": {},
          "output_type": "execute_result"
        }
      ],
      "source": [
        "np.std(y, ddof=1)\n"
      ]
    },
    {
      "cell_type": "code",
      "execution_count": 60,
      "metadata": {
        "colab": {
          "base_uri": "https://localhost:8080/"
        },
        "id": "YPC909_YfsDN",
        "outputId": "e14f071f-8344-412d-c347-0064c3b6d20e"
      },
      "outputs": [
        {
          "data": {
            "text/plain": [
              "11.099549540409285"
            ]
          },
          "execution_count": 60,
          "metadata": {},
          "output_type": "execute_result"
        }
      ],
      "source": [
        "y.std(ddof=1)\n"
      ]
    },
    {
      "cell_type": "code",
      "execution_count": 61,
      "metadata": {
        "colab": {
          "base_uri": "https://localhost:8080/"
        },
        "id": "Vzp3C8-dfuXZ",
        "outputId": "5c2b6b76-65e0-4d01-b066-4a9c8f0d69ef"
      },
      "outputs": [
        {
          "data": {
            "text/plain": [
              "11.099549540409285"
            ]
          },
          "execution_count": 61,
          "metadata": {},
          "output_type": "execute_result"
        }
      ],
      "source": [
        "# Objek pd.Series juga memiliki method .std() yang mengabaikan nan secara default:\n",
        "\n",
        "z.std(ddof=1)\n"
      ]
    },
    {
      "cell_type": "markdown",
      "metadata": {
        "id": "bUJo15s5OoQn"
      },
      "source": [
        "Parameter ddof default adalah 1, jadi kita bisa menghilangkannya. Sekali lagi, jika kita ingin memperlakukan nilai nan secara berbeda, maka terapkan parameter skipna.\n",
        "\n",
        "Population standard deviation mengacu pada keseluruhan populasi. Ini adalah akar kuadrat positif dari population variance. Kita dapat menghitungnya seperti sample standard deviation, dengan perbedaan sebagai berikut:\n",
        "\n",
        "* Temukan akar kuadrat dari varians populasi dalam implementasi Python.\n",
        "\n",
        "* Gunakan statistik.pstdev() instead of statistik.stdev().\n",
        "* Tentukan parameter ddof=0 jika Anda menggunakan NumPy atau Pandas. Di NumPy, Anda dapat menghilangkan ddof karena nilai defaultnya adalah 0. \n",
        "Seperti yang Anda lihat, Anda dapat menentukan standar deviasi di Python, NumPy, dan Pandas dengan cara yang hampir sama seperti Anda menentukan varians. Anda menggunakan fungsi dan metode yang berbeda tetapi analog dengan argumen yang sama."
      ]
    },
    {
      "cell_type": "markdown",
      "metadata": {
        "id": "KAYXDK6je_Gr"
      },
      "source": [
        "\n",
        "\n",
        "# Skewness\n",
        "\n",
        "Sample skewness mengukur asimetri sampel data.\n",
        "\n",
        "Ada beberapa definisi matematis tentang skewness. Satu ekspresi umum untuk menghitung skewness kumpulan data 𝑥 dengan elemen 𝑛 adalah (𝑛² / ((𝑛 - 1) (𝑛 - 2))) (Σᵢ (𝑥ᵢ - mean (𝑥)) ³ / (𝑛𝑠³)). Ekspresi yang lebih sederhana adalah Σᵢ (𝑥ᵢ - mean (𝑥)) ³ 𝑛 / ((𝑛 - 1) (𝑛 - 2) 𝑠³), di mana 𝑖 = 1, 2,…, 𝑛 dan mean (𝑥) adalah mean sampel dari 𝑥. skewness yang didefinisikan seperti ini disebut adjusted Fisher-Pearson standardized moment coefficient.\n",
        "\n",
        "Gambar sebelumnya menunjukkan dua dataset yang cukup simetris. Dengan kata lain, poin mereka memiliki jarak yang sama dari mean. Sebaliknya, gambar berikut mengilustrasikan dua set asimetris:"
      ]
    },
    {
      "cell_type": "markdown",
      "metadata": {
        "id": "lpew6CnLGald"
      },
      "source": [
        "<img src=\"https://i.ibb.co/f9c507R/mod2.png\" width=\"500\" align=\"center\">\n"
      ]
    },
    {
      "cell_type": "markdown",
      "metadata": {
        "id": "c2wmmofafKr4"
      },
      "source": [
        "Set pertama diwakili oleh titik hijau dan yang kedua diwakili oleh titik putih. Biasanya, negative skewness menunjukkan bahwa ada ekor dominan di sisi kiri, yang dapat kita lihat pada set pertama. Positive skewness values sesuai dengan ekor yang lebih panjang di sisi kanan, yang dapat kita lihat pada set kedua. Jika skewness mendekati 0 (misalnya antara −0.5 dan 0.5), maka dataset dianggap cukup simetris.\n",
        "\n",
        "Setelah kita menghitung ukuran kumpulan data n, sample mean mean_, danstandard deviation std_, Kita bisa mendapatkan sample skewness dengan Python pure:"
      ]
    },
    {
      "cell_type": "code",
      "execution_count": null,
      "metadata": {
        "colab": {
          "base_uri": "https://localhost:8080/"
        },
        "id": "urxUUOdWf5XB",
        "outputId": "26914c1b-5b8d-469e-8ce4-11a41d27cf70"
      },
      "outputs": [
        {
          "data": {
            "text/plain": [
              "1.9470432273905929"
            ]
          },
          "execution_count": 60,
          "metadata": {},
          "output_type": "execute_result"
        }
      ],
      "source": [
        "x = [8.0, 1, 2.5, 4, 28.0]\n",
        "\n",
        "n = len(x)\n",
        "\n",
        "mean_ = sum(x) / n\n",
        "var_ = sum((item - mean_)**2 for item in x) / (n-1)\n",
        "std_ = var_ ** 0.5\n",
        "\n",
        "skew_ = (sum((item - mean_)**3 for item in x) * n / ((n - 1) * (n - 2) * std_**3))\n",
        "skew_\n"
      ]
    },
    {
      "cell_type": "markdown",
      "metadata": {
        "id": "fdI_ACUnfL8B"
      },
      "source": [
        "Skewness menunjukan angka positive, jadi x mempunyai right-side tail.\n",
        "\n",
        "Kita juga dapat menghitung sample skewness dengan scipy.stats.skew():\n",
        "\n"
      ]
    },
    {
      "cell_type": "code",
      "execution_count": null,
      "metadata": {
        "colab": {
          "base_uri": "https://localhost:8080/"
        },
        "id": "ENdefX-3gD0p",
        "outputId": "7e12b17d-a382-4d39-f5da-36033595b7d1"
      },
      "outputs": [
        {
          "data": {
            "text/plain": [
              "1.9470432273905927"
            ]
          },
          "execution_count": 55,
          "metadata": {},
          "output_type": "execute_result"
        }
      ],
      "source": [
        "y, y_with_nan = np.array(x), np.array(x_with_nan)\n",
        "\n",
        "scipy.stats.skew(y, bias=False)"
      ]
    },
    {
      "cell_type": "code",
      "execution_count": null,
      "metadata": {
        "colab": {
          "base_uri": "https://localhost:8080/"
        },
        "id": "WLL0rCg7gFTW",
        "outputId": "b5b7b789-0029-4ad3-b615-094f440f6ca1"
      },
      "outputs": [
        {
          "data": {
            "text/plain": [
              "nan"
            ]
          },
          "execution_count": 61,
          "metadata": {},
          "output_type": "execute_result"
        }
      ],
      "source": [
        "scipy.stats.skew(y_with_nan, bias=False)\n"
      ]
    },
    {
      "cell_type": "markdown",
      "metadata": {
        "id": "khTlQDAcfMZT"
      },
      "source": [
        "Hasil yang diperoleh sama dengan implementasi Python pure. Parameter bias diset ke False untuk mengaktifkan koreksi bias statistik. Parameter opsional nan_policy dapat menerima nilai 'propagate', 'raise', atau 'omit'. Ini memungkinkan kita untuk mengontrol cara kita menangani nilai nan.\n",
        "\n",
        "Objek Pandas Series memiliki metode .skew() yang juga mengembalikan skewness kumpulan data:"
      ]
    },
    {
      "cell_type": "code",
      "execution_count": null,
      "metadata": {
        "colab": {
          "base_uri": "https://localhost:8080/"
        },
        "id": "lSFe9G7JgOQA",
        "outputId": "771a0c99-c756-453c-e01a-5151e39d0c74"
      },
      "outputs": [
        {
          "data": {
            "text/plain": [
              "1.9470432273905924"
            ]
          },
          "execution_count": 62,
          "metadata": {},
          "output_type": "execute_result"
        }
      ],
      "source": [
        "z, z_with_nan = pd.Series(x), pd.Series(x_with_nan)\n",
        "\n",
        "z.skew()"
      ]
    },
    {
      "cell_type": "code",
      "execution_count": null,
      "metadata": {
        "colab": {
          "base_uri": "https://localhost:8080/"
        },
        "id": "yZUVBUiLgP8o",
        "outputId": "cde5a398-c2e2-495e-abe3-4f868c5d88bc"
      },
      "outputs": [
        {
          "data": {
            "text/plain": [
              "1.9470432273905924"
            ]
          },
          "execution_count": 63,
          "metadata": {},
          "output_type": "execute_result"
        }
      ],
      "source": [
        "z_with_nan.skew()\n"
      ]
    },
    {
      "cell_type": "markdown",
      "metadata": {
        "id": "uDYTNKp_gJRS"
      },
      "source": [
        "# Percentiles\n"
      ]
    },
    {
      "cell_type": "markdown",
      "metadata": {
        "id": "v5WH57P8gJ5q"
      },
      "source": [
        "Percentiles\n",
        "sample 𝑝 percentile adalah elemen dalam kumpulan data sehingga 𝑝% elemen dalam kumpulan data kurang dari atau sama dengan nilai tersebut. Juga, (100 - 𝑝)% elemen lebih besar dari atau sama dengan nilai tersebut. \n",
        "\n",
        "Jika ada dua elemen seperti itu dalam kumpulan data, maka persentil 𝑝 sampel adalah arithmetic mean mereka. \n",
        "\n",
        "Tiap dataset memiliki tiga quartiles, yang merupakan persentil yang membagi dataset menjadi empat bagian:\n",
        "\n",
        "First quartile adalah sampel persentil ke-25. Kuartil pertama membagi sekitar 25% item terkecil dari kumpulan data lainnya.\n",
        "Second quartile adalah sampel persentil ke-50 atau median. Kira-kira 25% item terletak di antara kuartil pertama dan kedua dan 25% lainnya antara kuartil kedua dan ketiga.\n",
        "Third quartile adalah sampel persentil ke-75. Kuartil ketiga membagi sekitar 25% item terbesar dari sisa kumpulan data.\n",
        "Setiap bagian memiliki jumlah item yang kurang lebih sama. Jika kita ingin membagi data kita menjadi beberapa interval, maka kita dapat menggunakan statistics.quantiles():"
      ]
    },
    {
      "cell_type": "code",
      "execution_count": null,
      "metadata": {
        "id": "jTBnreXSZ1pv"
      },
      "outputs": [],
      "source": [
        "import statistics\n",
        "import numpy as np "
      ]
    },
    {
      "cell_type": "code",
      "execution_count": 62,
      "metadata": {
        "colab": {
          "base_uri": "https://localhost:8080/"
        },
        "id": "CuMIl6qJN6M6",
        "outputId": "d58c53fe-6110-4dc6-803e-af179a7b3431"
      },
      "outputs": [
        {
          "data": {
            "text/plain": [
              "8.0"
            ]
          },
          "execution_count": 62,
          "metadata": {},
          "output_type": "execute_result"
        }
      ],
      "source": [
        "x = [-5.0, -1.1, 0.1, 2.0, 8.0, 12.8, 21.0, 25.8, 41.0]\n",
        "#statistics.quantiles(x, n=2)\n",
        "np.quantile(x, .50)"
      ]
    },
    {
      "cell_type": "code",
      "execution_count": null,
      "metadata": {
        "id": "K20DhBMUOEfI"
      },
      "outputs": [],
      "source": [
        "# statistics.quantiles(x, n=4, method='inclusive')"
      ]
    },
    {
      "cell_type": "markdown",
      "metadata": {
        "id": "Vaf4-w9TgKX2"
      },
      "source": [
        "Dalam contoh ini, 8.0 adalah median dari x, sedangkan 0.1 dan 21.0 adalah sampel persentil ke-25 dan ke-75. Parameter n menentukan jumlah persentil probabilitas sama yang dihasilkan, dan method menentukan cara menghitungnya.\n",
        "\n",
        "Note: statistics.quantiles() is introduced in Python 3.8.\n",
        "\n",
        "Kita juga dapat menggunakan np.percentile() untuk menentukan persentil sampel apa pun dalam kumpulan data kita. Misalnya, ini cara kita mencari persentil ke-5 dan ke-95:"
      ]
    },
    {
      "cell_type": "code",
      "execution_count": 64,
      "metadata": {
        "colab": {
          "base_uri": "https://localhost:8080/"
        },
        "id": "lRxym_HYcbvE",
        "outputId": "46c6a4a7-3a80-4c82-b841-b0b39f42fc31"
      },
      "outputs": [
        {
          "data": {
            "text/plain": [
              "8.0"
            ]
          },
          "execution_count": 64,
          "metadata": {},
          "output_type": "execute_result"
        }
      ],
      "source": [
        "y = np.array(x)\n",
        "np.percentile(y, 50)\n"
      ]
    },
    {
      "cell_type": "code",
      "execution_count": 65,
      "metadata": {
        "colab": {
          "base_uri": "https://localhost:8080/"
        },
        "id": "zecPJrN-cgz_",
        "outputId": "cbb3e2be-2ce9-472b-95d1-404e38554a6f"
      },
      "outputs": [
        {
          "data": {
            "text/plain": [
              "34.919999999999995"
            ]
          },
          "execution_count": 65,
          "metadata": {},
          "output_type": "execute_result"
        }
      ],
      "source": [
        "np.percentile(y, 95)\n"
      ]
    },
    {
      "cell_type": "markdown",
      "metadata": {
        "id": "JhESxFtCcwPP"
      },
      "source": [
        "\n",
        "\n",
        "percentile() membutuhkan beberapa argumen. Kita harus menyediakan dataset sebagai argumen pertama dan nilai persentil sebagai yang kedua. Dataset dapat berupa array NumPy, list, tuple, atau struktur data serupa. Persentil bisa berupa angka antara 0 dan 100 seperti pada contoh di atas, tetapi bisa juga berupa urutan angka:"
      ]
    },
    {
      "cell_type": "code",
      "execution_count": null,
      "metadata": {
        "colab": {
          "base_uri": "https://localhost:8080/"
        },
        "id": "wBD_rvK7cze_",
        "outputId": "09514363-aa7a-4ae9-c85c-b317c367d5cb"
      },
      "outputs": [
        {
          "data": {
            "text/plain": [
              "array([ 0.1,  8. , 21. ])"
            ]
          },
          "execution_count": 63,
          "metadata": {},
          "output_type": "execute_result"
        }
      ],
      "source": [
        "np.percentile(y, [25, 50, 75])"
      ]
    },
    {
      "cell_type": "code",
      "execution_count": null,
      "metadata": {
        "colab": {
          "base_uri": "https://localhost:8080/"
        },
        "id": "GeMlvpaKc5S9",
        "outputId": "5214c374-4dcb-4c58-ec20-71d45d673aea"
      },
      "outputs": [
        {
          "data": {
            "text/plain": [
              "8.0"
            ]
          },
          "execution_count": 64,
          "metadata": {},
          "output_type": "execute_result"
        }
      ],
      "source": [
        "np.median(y)"
      ]
    },
    {
      "cell_type": "markdown",
      "metadata": {
        "id": "7E34X1R-dAuD"
      },
      "source": [
        "Kode tersebut menghitung persentil ke-25, ke-50, dan ke-75 sekaligus. Jika nilai persentil adalah sebuah urutan, maka percentile() mengembalikan array NumPy dengan hasilnya. Statement pertama mengembalikan array quartiles. Pernyataan kedua mengembalikan median, sehingga kita dapat mengonfirmasi bahwa itu sama dengan persentil ke-50, yaitu 8.0.\n",
        "\n",
        "Jika kita ingin mengabaikan nilai nan, gunakan np.nanpercentile() sebagai gantinya:"
      ]
    },
    {
      "cell_type": "code",
      "execution_count": null,
      "metadata": {
        "colab": {
          "base_uri": "https://localhost:8080/"
        },
        "id": "34p724o9dRFS",
        "outputId": "9b71ccb3-bd26-4de0-b593-bb09a2b267a3"
      },
      "outputs": [
        {
          "data": {
            "text/plain": [
              "array([ 8. ,  1. ,  nan,  2.5,  4. , 28. ])"
            ]
          },
          "execution_count": 67,
          "metadata": {},
          "output_type": "execute_result"
        }
      ],
      "source": [
        "y_with_nan = np.insert(y, 2, np.nan)\n",
        "y_with_nan"
      ]
    },
    {
      "cell_type": "code",
      "execution_count": null,
      "metadata": {
        "colab": {
          "base_uri": "https://localhost:8080/"
        },
        "id": "CauGc8hddqmW",
        "outputId": "b8e62e09-3436-4ed8-edb3-46d42af1aced"
      },
      "outputs": [
        {
          "data": {
            "text/plain": [
              "array([2.5, 4. , 8. ])"
            ]
          },
          "execution_count": 68,
          "metadata": {},
          "output_type": "execute_result"
        }
      ],
      "source": [
        "np.nanpercentile(y_with_nan, [25, 50, 75])"
      ]
    },
    {
      "cell_type": "markdown",
      "metadata": {
        "id": "DNXsY-u6dVYy"
      },
      "source": [
        "Begitulah cara kita menghindari nilai nan.\n",
        "\n",
        "NumPy juga menawarkan fungsionalitas yang sangat mirip di quantile() dan nanquantile(). Jika kita ingin menggunakannya, kita harus memberikan nilai-nilai kuantitatif sebagai angka antara 0 dan 1, bukan persentil:"
      ]
    },
    {
      "cell_type": "code",
      "execution_count": null,
      "metadata": {
        "colab": {
          "base_uri": "https://localhost:8080/"
        },
        "id": "UFjamnARdWVn",
        "outputId": "a5466ed0-9fa9-49e3-87ca-be200c252bea"
      },
      "outputs": [
        {
          "data": {
            "text/plain": [
              "1.3"
            ]
          },
          "execution_count": 69,
          "metadata": {},
          "output_type": "execute_result"
        }
      ],
      "source": [
        "np.quantile(y, 0.05)"
      ]
    },
    {
      "cell_type": "code",
      "execution_count": null,
      "metadata": {
        "colab": {
          "base_uri": "https://localhost:8080/"
        },
        "id": "FfQ-R-BkdyI0",
        "outputId": "a1b0d59e-5c7a-4e21-cec9-d084002d0dbc"
      },
      "outputs": [
        {
          "data": {
            "text/plain": [
              "23.999999999999996"
            ]
          },
          "execution_count": 70,
          "metadata": {},
          "output_type": "execute_result"
        }
      ],
      "source": [
        "np.quantile(y, 0.95)"
      ]
    },
    {
      "cell_type": "code",
      "execution_count": null,
      "metadata": {
        "colab": {
          "base_uri": "https://localhost:8080/"
        },
        "id": "XVT8ruqTd0m9",
        "outputId": "83cf72af-5e1f-4f3e-dfc1-aaf4d3bb599c"
      },
      "outputs": [
        {
          "data": {
            "text/plain": [
              "array([ 0.1,  8. , 21. ])"
            ]
          },
          "execution_count": 69,
          "metadata": {},
          "output_type": "execute_result"
        }
      ],
      "source": [
        "np.quantile(y, [0.25, 0.5, 0.75])"
      ]
    },
    {
      "cell_type": "code",
      "execution_count": 66,
      "metadata": {
        "colab": {
          "base_uri": "https://localhost:8080/"
        },
        "id": "kFS-FPaTd33C",
        "outputId": "92d02d9b-4790-4747-905b-2f84d2662bc2"
      },
      "outputs": [
        {
          "data": {
            "text/plain": [
              "array([2.5, 4. , 8. ])"
            ]
          },
          "execution_count": 66,
          "metadata": {},
          "output_type": "execute_result"
        }
      ],
      "source": [
        "np.nanquantile(y_with_nan, [0.25, 0.5, 0.75])"
      ]
    },
    {
      "cell_type": "markdown",
      "metadata": {
        "id": "OUBBoaEwdb8g"
      },
      "source": [
        "Hasilnya sama seperti pada contoh sebelumnya, tetapi di sini argumen kita antara 0 dan 1. Dengan kata lain, kita memberikan 0.05 daripada 5 dan 0.95 daripada 95.\n",
        "\n",
        "pd.Series objek memiliki method .quantile():"
      ]
    },
    {
      "cell_type": "code",
      "execution_count": 67,
      "metadata": {
        "id": "9ZFAmwSvdelm"
      },
      "outputs": [],
      "source": [
        "z, z_with_nan = pd.Series(y), pd.Series(y_with_nan)"
      ]
    },
    {
      "cell_type": "code",
      "execution_count": 68,
      "metadata": {
        "colab": {
          "base_uri": "https://localhost:8080/"
        },
        "id": "Vnvj7JumeE2h",
        "outputId": "293541c0-ff14-4cd1-86de-33275ceb490d"
      },
      "outputs": [
        {
          "data": {
            "text/plain": [
              "-3.44"
            ]
          },
          "execution_count": 68,
          "metadata": {},
          "output_type": "execute_result"
        }
      ],
      "source": [
        "z.quantile(0.05)"
      ]
    },
    {
      "cell_type": "code",
      "execution_count": 69,
      "metadata": {
        "colab": {
          "base_uri": "https://localhost:8080/"
        },
        "id": "p1FQDA18eIZv",
        "outputId": "c74842d8-aa55-4616-e974-b80e5b0d23a8"
      },
      "outputs": [
        {
          "data": {
            "text/plain": [
              "34.919999999999995"
            ]
          },
          "execution_count": 69,
          "metadata": {},
          "output_type": "execute_result"
        }
      ],
      "source": [
        "z.quantile(0.95)"
      ]
    },
    {
      "cell_type": "code",
      "execution_count": null,
      "metadata": {
        "colab": {
          "base_uri": "https://localhost:8080/"
        },
        "id": "vYFfAy9ReRBy",
        "outputId": "8c96a252-09ec-419f-f3d8-961fb2808239"
      },
      "outputs": [
        {
          "data": {
            "text/plain": [
              "0.25    2.5\n",
              "0.50    4.0\n",
              "0.75    8.0\n",
              "dtype: float64"
            ]
          },
          "execution_count": 75,
          "metadata": {},
          "output_type": "execute_result"
        }
      ],
      "source": [
        "z.quantile([0.25, 0.5, 0.75])"
      ]
    },
    {
      "cell_type": "code",
      "execution_count": 70,
      "metadata": {
        "colab": {
          "base_uri": "https://localhost:8080/"
        },
        "id": "vYgZwTyueSQ0",
        "outputId": "f65594e8-a85c-476d-ca62-e143d9ea55bd"
      },
      "outputs": [
        {
          "data": {
            "text/plain": [
              "0.25    2.5\n",
              "0.50    4.0\n",
              "0.75    8.0\n",
              "dtype: float64"
            ]
          },
          "execution_count": 70,
          "metadata": {},
          "output_type": "execute_result"
        }
      ],
      "source": [
        "z_with_nan.quantile([0.25, 0.5, 0.75])"
      ]
    },
    {
      "cell_type": "markdown",
      "metadata": {
        "id": "jAtAG8Pidg-Q"
      },
      "source": [
        ".quantile() juga membutuhkan kita untuk memberikan nilai quantile sebagai argumennya. Nilai ini bisa berupa angka antara 0 dan 1 atau urutan angka. Dalam kasus pertama, .quantile() mengembalikan skalar. Dalam kasus kedua, ia mengembalikan Series baru."
      ]
    },
    {
      "cell_type": "markdown",
      "metadata": {
        "id": "AUfFgplpdh7k"
      },
      "source": [
        "# Ranges\n",
        "Rentang data/range data adalah perbedaan antara elemen maksimum dan minimum dalam kumpulan data. Kita bisa mendapatkannya dengan fungsi np.ptp():\n",
        "\n",
        "percentile() membutuhkan beberapa argumen. Kita harus menyediakan dataset sebagai argumen pertama dan nilai persentil sebagai yang kedua. Dataset dapat berupa array NumPy, list, tuple, atau struktur data serupa. Persentil bisa berupa angka antara 0 dan 100 seperti pada contoh di atas, tetapi bisa juga berupa urutan angka:\n",
        "\n"
      ]
    },
    {
      "cell_type": "markdown",
      "metadata": {
        "id": "BubmWzp_e9J5"
      },
      "source": [
        ".quantile() juga membutuhkan kita untuk memberikan nilai quantile sebagai argumennya. Nilai ini bisa berupa angka antara 0 dan 1 atau urutan angka. Dalam kasus pertama, .quantile() mengembalikan skalar. Dalam kasus kedua, ia mengembalikan Series baru.\n",
        "\n",
        "Ranges\n",
        "Rentang data/range data adalah perbedaan antara elemen maksimum dan minimum dalam kumpulan data. Kita bisa mendapatkannya dengan fungsi np.ptp():\n"
      ]
    },
    {
      "cell_type": "code",
      "execution_count": 71,
      "metadata": {
        "colab": {
          "base_uri": "https://localhost:8080/"
        },
        "id": "-pciLP3IfAPm",
        "outputId": "282364de-cf13-4ea7-cd6f-c2f8f900779d"
      },
      "outputs": [
        {
          "data": {
            "text/plain": [
              "46.0"
            ]
          },
          "execution_count": 71,
          "metadata": {},
          "output_type": "execute_result"
        }
      ],
      "source": [
        "np.ptp(y)"
      ]
    },
    {
      "cell_type": "code",
      "execution_count": 72,
      "metadata": {
        "colab": {
          "base_uri": "https://localhost:8080/"
        },
        "id": "XwuJhQvKgPRo",
        "outputId": "09187a04-6775-4651-acaa-a63eaeb0c730"
      },
      "outputs": [
        {
          "data": {
            "text/plain": [
              "46.0"
            ]
          },
          "execution_count": 72,
          "metadata": {},
          "output_type": "execute_result"
        }
      ],
      "source": [
        "np.ptp(z)"
      ]
    },
    {
      "cell_type": "code",
      "execution_count": 73,
      "metadata": {
        "colab": {
          "base_uri": "https://localhost:8080/"
        },
        "id": "aOeHq5PQgOBn",
        "outputId": "f08f5a14-5d0e-4547-f23e-191a056f346f"
      },
      "outputs": [
        {
          "data": {
            "text/plain": [
              "nan"
            ]
          },
          "execution_count": 73,
          "metadata": {},
          "output_type": "execute_result"
        }
      ],
      "source": [
        "np.ptp(y_with_nan)"
      ]
    },
    {
      "cell_type": "code",
      "execution_count": 74,
      "metadata": {
        "colab": {
          "base_uri": "https://localhost:8080/"
        },
        "id": "GSw2QFRIgMmt",
        "outputId": "517c5fb2-4ed2-478d-bb9e-81a2408b18bf"
      },
      "outputs": [
        {
          "data": {
            "text/plain": [
              "nan"
            ]
          },
          "execution_count": 74,
          "metadata": {},
          "output_type": "execute_result"
        }
      ],
      "source": [
        "np.ptp(z_with_nan)"
      ]
    },
    {
      "cell_type": "markdown",
      "metadata": {
        "id": "jlIszUZcfGWn"
      },
      "source": [
        "Fungsi ini mengembalikan nan jika ada nilai nan dalam array NumPy kita. Jika kitamenggunakan objek Pandas Series, maka itu akan mengembalikan angka.\n",
        "\n",
        "Sebagai alternatif, kita dapat menggunakan fungsi dan method Python, NumPy, atau Pandas bawaan untuk menghitung maksimum dan minimum:\n",
        "\n",
        "max() and min() from the Python standard library\n",
        "amax() and amin() from NumPy\n",
        "nanmax() and nanmin() from NumPy to ignore nan values\n",
        ".max() and .min() from NumPy\n",
        ".max() and .min() from Pandas to ignore nan values by default\n",
        "Berikut beberapa contoh bagaimana kita akan menggunakannya:"
      ]
    },
    {
      "cell_type": "code",
      "execution_count": null,
      "metadata": {
        "colab": {
          "base_uri": "https://localhost:8080/"
        },
        "id": "3Ze_W5tC9hYI",
        "outputId": "f39e352b-9812-4c47-f558-5c555873a8b1"
      },
      "outputs": [
        {
          "name": "stdout",
          "output_type": "stream",
          "text": [
            "[-5.  -1.1  0.1  2.   8.  12.8 21.  25.8 41. ]\n"
          ]
        }
      ],
      "source": [
        "print(y)"
      ]
    },
    {
      "cell_type": "code",
      "execution_count": null,
      "metadata": {
        "colab": {
          "base_uri": "https://localhost:8080/"
        },
        "id": "t7FXKs1ofItG",
        "outputId": "651c9251-db07-4044-c6cc-7c8c192a255a"
      },
      "outputs": [
        {
          "data": {
            "text/plain": [
              "46.0"
            ]
          },
          "execution_count": 93,
          "metadata": {},
          "output_type": "execute_result"
        }
      ],
      "source": [
        "np.amax(y) - np.amin(y)"
      ]
    },
    {
      "cell_type": "code",
      "execution_count": null,
      "metadata": {
        "colab": {
          "base_uri": "https://localhost:8080/"
        },
        "id": "4ZbEJAdagbW9",
        "outputId": "7bf1f730-2c2f-40d4-dd21-49c272ca14cd"
      },
      "outputs": [
        {
          "data": {
            "text/plain": [
              "27.0"
            ]
          },
          "execution_count": 81,
          "metadata": {},
          "output_type": "execute_result"
        }
      ],
      "source": [
        "np.nanmax(y_with_nan) - np.nanmin(y_with_nan)"
      ]
    },
    {
      "cell_type": "code",
      "execution_count": null,
      "metadata": {
        "colab": {
          "base_uri": "https://localhost:8080/"
        },
        "id": "5mmnNEZ4gZpa",
        "outputId": "e36f11c4-9864-4417-db05-5d25ba8fe563"
      },
      "outputs": [
        {
          "data": {
            "text/plain": [
              "27.0"
            ]
          },
          "execution_count": 82,
          "metadata": {},
          "output_type": "execute_result"
        }
      ],
      "source": [
        "y.max() - y.min()"
      ]
    },
    {
      "cell_type": "code",
      "execution_count": null,
      "metadata": {
        "colab": {
          "base_uri": "https://localhost:8080/"
        },
        "id": "BtYwIHfVgYVF",
        "outputId": "f071c057-d9da-4b2b-f918-f5b527ddd7db"
      },
      "outputs": [
        {
          "data": {
            "text/plain": [
              "27.0"
            ]
          },
          "execution_count": 83,
          "metadata": {},
          "output_type": "execute_result"
        }
      ],
      "source": [
        "z.max() - z.min()"
      ]
    },
    {
      "cell_type": "code",
      "execution_count": null,
      "metadata": {
        "colab": {
          "base_uri": "https://localhost:8080/"
        },
        "id": "TWt_5wahgXC1",
        "outputId": "b80c5378-df22-43e3-82c4-edcc0f1861ce"
      },
      "outputs": [
        {
          "data": {
            "text/plain": [
              "27.0"
            ]
          },
          "execution_count": 84,
          "metadata": {},
          "output_type": "execute_result"
        }
      ],
      "source": [
        "z_with_nan.max() - z_with_nan.min()"
      ]
    },
    {
      "cell_type": "markdown",
      "metadata": {
        "id": "73lp8-grfMbL"
      },
      "source": [
        "Interquartile range adalah perbedaan antara kuartil pertama dan ketiga. Setelah kita menghitung kuartil, kita dapat mengambil selisihnya:"
      ]
    },
    {
      "cell_type": "code",
      "execution_count": null,
      "metadata": {
        "id": "NhdSGsTCg-mq"
      },
      "outputs": [],
      "source": [
        "quartiles = np.quantile(y, [0.25, 0.75])"
      ]
    },
    {
      "cell_type": "code",
      "execution_count": null,
      "metadata": {
        "colab": {
          "base_uri": "https://localhost:8080/"
        },
        "id": "MXJuUZrkhCE-",
        "outputId": "d8441920-5dfe-44e4-d842-4925ec9e05c7"
      },
      "outputs": [
        {
          "data": {
            "text/plain": [
              "20.9"
            ]
          },
          "execution_count": 99,
          "metadata": {},
          "output_type": "execute_result"
        }
      ],
      "source": [
        "quartiles[1] - quartiles[0]"
      ]
    },
    {
      "cell_type": "code",
      "execution_count": null,
      "metadata": {
        "id": "3vMuz7_ghEMN"
      },
      "outputs": [],
      "source": [
        "quartiles = z.quantile([0.25, 0.75])"
      ]
    },
    {
      "cell_type": "code",
      "execution_count": null,
      "metadata": {
        "colab": {
          "base_uri": "https://localhost:8080/"
        },
        "id": "7VAi2Ap7hGAs",
        "outputId": "eae9642f-0ff5-46f0-b9dc-322e0a7dceff"
      },
      "outputs": [
        {
          "data": {
            "text/plain": [
              "20.9"
            ]
          },
          "execution_count": 101,
          "metadata": {},
          "output_type": "execute_result"
        }
      ],
      "source": [
        "quartiles[0.75] - quartiles[0.25]"
      ]
    },
    {
      "cell_type": "markdown",
      "metadata": {
        "id": "ccXDYUHffSTf"
      },
      "source": [
        "Summary of Descriptive Statistics\n",
        "SciPy dan Pandas menawarkan function yang berguna untuk mendapatkan descriptive statistics dengan cepat dengan satu panggilan fungsi atau method. Kita dapat menggunakan scipy.stats.describe() seperti ini:"
      ]
    },
    {
      "cell_type": "code",
      "execution_count": null,
      "metadata": {
        "colab": {
          "base_uri": "https://localhost:8080/"
        },
        "id": "wtql8UC0fX5z",
        "outputId": "ab17e944-64f4-491f-a1b7-de4cc00c2c30"
      },
      "outputs": [
        {
          "data": {
            "text/plain": [
              "DescribeResult(nobs=5, minmax=(1.0, 28.0), mean=8.7, variance=123.19999999999999, skewness=1.9470432273905927, kurtosis=3.878019618875446)"
            ]
          },
          "execution_count": 85,
          "metadata": {},
          "output_type": "execute_result"
        }
      ],
      "source": [
        "result = scipy.stats.describe(y, ddof=1, bias=False)\n",
        "result"
      ]
    },
    {
      "cell_type": "markdown",
      "metadata": {
        "id": "xKbTBdUbhWUL"
      },
      "source": [
        "Kita harus memberikan dataset sebagai argumen pertama. Argumennya bisa berupa array NumPy, list, tuple, atau struktur data serupa. Kita dapat menghilangkan ddof=1 karena adalah default dan hanya penting saat kita menghitung varians. Kita bisa meneruskan bias=False untuk memaksa mengoreksi skewnessdan kurtosis untuk statistical bias.\n",
        "\n",
        "describe() mengembalikan objek yang berupa descriptive statistics berikut:\n",
        "\n",
        "nobs: the number of observations or elements in your dataset\n",
        "minmax: the tuple with the minimum and maximum values of your dataset\n",
        "mean: the mean of your dataset\n",
        "variance: the variance of your dataset\n",
        "skewness: the skewness of your dataset\n",
        "kurtosis: the kurtosis of your dataset\n",
        "Kita dapat mengakses nilai tertentu dengan dot notation:"
      ]
    },
    {
      "cell_type": "code",
      "execution_count": null,
      "metadata": {
        "colab": {
          "base_uri": "https://localhost:8080/"
        },
        "id": "Zka-jhgUhZ6s",
        "outputId": "c2efc443-e194-46f7-acb0-31c8bf90b9f3"
      },
      "outputs": [
        {
          "data": {
            "text/plain": [
              "5"
            ]
          },
          "execution_count": 86,
          "metadata": {},
          "output_type": "execute_result"
        }
      ],
      "source": [
        " result.nobs"
      ]
    },
    {
      "cell_type": "code",
      "execution_count": null,
      "metadata": {
        "colab": {
          "base_uri": "https://localhost:8080/"
        },
        "id": "19c4-dFBhdgX",
        "outputId": "f97708d5-6600-40e1-d837-2aa8bd94c585"
      },
      "outputs": [
        {
          "data": {
            "text/plain": [
              "1.0"
            ]
          },
          "execution_count": 87,
          "metadata": {},
          "output_type": "execute_result"
        }
      ],
      "source": [
        "result.minmax[0]"
      ]
    },
    {
      "cell_type": "code",
      "execution_count": null,
      "metadata": {
        "colab": {
          "base_uri": "https://localhost:8080/"
        },
        "id": "XvCD7TKphgGk",
        "outputId": "90f4b8ad-6fc7-4bf4-f2eb-9c332b3fc30b"
      },
      "outputs": [
        {
          "data": {
            "text/plain": [
              "28.0"
            ]
          },
          "execution_count": 88,
          "metadata": {},
          "output_type": "execute_result"
        }
      ],
      "source": [
        "result.minmax[1]"
      ]
    },
    {
      "cell_type": "code",
      "execution_count": null,
      "metadata": {
        "colab": {
          "base_uri": "https://localhost:8080/"
        },
        "id": "7kxDBebThka0",
        "outputId": "a8f01616-b8b2-40df-eead-790b72242d03"
      },
      "outputs": [
        {
          "data": {
            "text/plain": [
              "8.7"
            ]
          },
          "execution_count": 89,
          "metadata": {},
          "output_type": "execute_result"
        }
      ],
      "source": [
        "result.mean"
      ]
    },
    {
      "cell_type": "code",
      "execution_count": null,
      "metadata": {
        "colab": {
          "base_uri": "https://localhost:8080/"
        },
        "id": "zCBNXygohpIK",
        "outputId": "531ae7ff-3754-480b-da1e-7fec8d1419c3"
      },
      "outputs": [
        {
          "data": {
            "text/plain": [
              "123.19999999999999"
            ]
          },
          "execution_count": 90,
          "metadata": {},
          "output_type": "execute_result"
        }
      ],
      "source": [
        "result.variance"
      ]
    },
    {
      "cell_type": "code",
      "execution_count": null,
      "metadata": {
        "colab": {
          "base_uri": "https://localhost:8080/"
        },
        "id": "YO-mFZaBhrya",
        "outputId": "1eac4421-4261-4048-b998-90f74ca1ec45"
      },
      "outputs": [
        {
          "data": {
            "text/plain": [
              "1.9470432273905927"
            ]
          },
          "execution_count": 91,
          "metadata": {},
          "output_type": "execute_result"
        }
      ],
      "source": [
        "result.skewness"
      ]
    },
    {
      "cell_type": "code",
      "execution_count": null,
      "metadata": {
        "colab": {
          "base_uri": "https://localhost:8080/"
        },
        "id": "epHapC4mhukc",
        "outputId": "c2fb570d-82c0-4048-a414-1604a8afc2eb"
      },
      "outputs": [
        {
          "data": {
            "text/plain": [
              "3.878019618875446"
            ]
          },
          "execution_count": 92,
          "metadata": {},
          "output_type": "execute_result"
        }
      ],
      "source": [
        "result.kurtosis"
      ]
    },
    {
      "cell_type": "markdown",
      "metadata": {
        "id": "T7IHVCEzh0Eg"
      },
      "source": [
        "Dengan SciPy, kita hanya perlu satu panggilan fungsi dari ringkasan descriptive statistics untuk kumpulan data kita.\n",
        "\n",
        "Pandas memiliki fungsi yang serupa. Objek series memiliki metode .describe():"
      ]
    },
    {
      "cell_type": "code",
      "execution_count": null,
      "metadata": {
        "colab": {
          "base_uri": "https://localhost:8080/"
        },
        "id": "-8aLOyTVh2PL",
        "outputId": "420fa6e6-c41f-444c-ec97-fe17a299d69e"
      },
      "outputs": [
        {
          "data": {
            "text/plain": [
              "count     5.00000\n",
              "mean      8.70000\n",
              "std      11.09955\n",
              "min       1.00000\n",
              "25%       2.50000\n",
              "50%       4.00000\n",
              "75%       8.00000\n",
              "max      28.00000\n",
              "dtype: float64"
            ]
          },
          "execution_count": 94,
          "metadata": {},
          "output_type": "execute_result"
        }
      ],
      "source": [
        "result = z.describe()\n",
        "result"
      ]
    },
    {
      "cell_type": "markdown",
      "metadata": {
        "id": "OkQKiSW6h_Mn"
      },
      "source": [
        "Mengembalikan Series baru yang menampung nilai berikut:\n",
        "\n",
        "count: the number of elements in your dataset\n",
        "mean: the mean of your dataset\n",
        "std: the standard deviation of your dataset\n",
        "min and max: the minimum and maximum values of your dataset\n",
        "25%, 50%, and 75%: the quartiles of your dataset\n",
        "Jika kita ingin objek Series yang dihasilkan berisi persentil lain, kita harus menentukan nilai percentiles parameter opsional. Kita dapat mengakses setiap item result dengan labelnya:"
      ]
    },
    {
      "cell_type": "code",
      "execution_count": null,
      "metadata": {
        "colab": {
          "base_uri": "https://localhost:8080/"
        },
        "id": "kGUgDZP5iFr9",
        "outputId": "06854695-54ef-48bc-d1c7-138661dfd136"
      },
      "outputs": [
        {
          "data": {
            "text/plain": [
              "8.0"
            ]
          },
          "execution_count": 95,
          "metadata": {},
          "output_type": "execute_result"
        }
      ],
      "source": [
        "result['mean']\n",
        "result['std']\n",
        "result['min']\n",
        "result['max']\n",
        "result['25%']\n",
        "result['50%']\n",
        "result['75%']\n"
      ]
    },
    {
      "attachments": {},
      "cell_type": "markdown",
      "metadata": {},
      "source": [
        "Begitulah cara kita mendapatkan statistik deskriptif dari objek Series dengan satu panggilan metode menggunakan Pandas."
      ]
    },
    {
      "attachments": {},
      "cell_type": "markdown",
      "metadata": {},
      "source": [
        "_______"
      ]
    },
    {
      "attachments": {},
      "cell_type": "markdown",
      "metadata": {},
      "source": [
        "Berikut adalah beberapa situasi di mana kita sebaiknya menggunakan ukuran penyebaran atau pengukuran keterpusatan tertentu:\n",
        "\n",
        "1. Variance:\n",
        "\n",
        "- Digunakan untuk mengukur seberapa jauh data tersebar dari nilai rata-rata.\n",
        "- Cocok digunakan pada data yang terdistribusi normal atau hampir normal.\n",
        "Berguna dalam analisis risiko dan pengambilan keputusan investasi.\n",
        "\n",
        "2. Skewness:\n",
        "\n",
        "- Digunakan untuk mengukur seberapa tidak simetris distribusi data.\n",
        "- Contoh penggunaannya adalah dalam analisis keuangan untuk melihat apakah pendapatan atau pengeluaran terkonsentrasi pada nilai tertentu.\n",
        "\n",
        "3. Range:\n",
        "\n",
        "- Digunakan untuk mengukur selisih antara nilai maksimum dan minimum dari suatu kelompok data.\n",
        "- Cocok digunakan pada data yang terdistribusi secara merata dan memiliki sedikit atau tidak ada pencilan.\n",
        "\n",
        "4. Standard Deviation:\n",
        "\n",
        "- Digunakan untuk mengukur seberapa jauh data dari nilai rata-rata.\n",
        "- Cocok digunakan pada data yang terdistribusi normal atau hampir normal.\n",
        "Berguna dalam analisis risiko dan pengambilan keputusan investasi.\n",
        "\n",
        "5. Percentile:\n",
        "\n",
        "- Digunakan untuk mengidentifikasi nilai-nilai dalam data yang menempati posisi tertentu dalam distribusi data.\n",
        "- Cocok digunakan pada data ordinal atau data interval yang memiliki ukuran yang relatif sama.\n",
        "Berguna dalam membandingkan nilai suatu data dengan kelompok data yang lebih besar."
      ]
    },
    {
      "attachments": {},
      "cell_type": "markdown",
      "metadata": {
        "id": "ekb6ylETeedY"
      },
      "source": [
        "\n",
        "\n",
        ">>> \n"
      ]
    },
    {
      "attachments": {},
      "cell_type": "markdown",
      "metadata": {},
      "source": [
        "________"
      ]
    },
    {
      "attachments": {},
      "cell_type": "markdown",
      "metadata": {},
      "source": [
        "## Measures of Correlation Between Pairs of Data"
      ]
    },
    {
      "attachments": {},
      "cell_type": "markdown",
      "metadata": {},
      "source": [
        "Measures of correlation between pairs of data adalah ukuran-ukuran statistik yang digunakan untuk mengukur seberapa kuat hubungan antara dua variabel atau lebih dalam suatu populasi atau sampel. Ada beberapa jenis ukuran korelasi yang umum digunakan, antara lain:\n",
        "\n",
        "1. Pearson's Correlation Coefficient (Koefisien Korelasi Pearson)\n",
        "\n",
        "- Digunakan untuk mengukur hubungan linear antara dua variabel terukur.\n",
        "- Nilai korelasi berkisar antara -1 (korelasi negatif sempurna) hingga 1 (korelasi positif sempurna), dengan nilai 0 menunjukkan tidak adanya korelasi.\n",
        "- Cocok digunakan untuk data interval atau data rasio.\n",
        "\n",
        "2. Spearman's Rank Correlation Coefficient (Koefisien Korelasi Rank Spearman)\n",
        "\n",
        "- Digunakan untuk mengukur hubungan antara dua variabel ordinal atau non-parametrik.\n",
        "- Nilai korelasi berkisar antara -1 (korelasi negatif sempurna) hingga 1 (korelasi positif sempurna), dengan nilai 0 menunjukkan tidak adanya korelasi.\n",
        "- Cocok digunakan untuk data ordinal atau data interval.\n",
        "\n",
        "3. Kendall's Rank Correlation Coefficient (Koefisien Korelasi Rank Kendall)\n",
        "\n",
        "- Digunakan untuk mengukur hubungan antara dua variabel ordinal atau non-parametrik.\n",
        "- Nilai korelasi berkisar antara -1 (korelasi negatif sempurna) hingga 1 (korelasi positif sempurna), dengan nilai 0 menunjukkan tidak adanya korelasi.\n",
        "- Cocok digunakan untuk data ordinal atau data interval.\n"
      ]
    },
    {
      "attachments": {},
      "cell_type": "markdown",
      "metadata": {
        "id": "ekb6ylETeedY"
      },
      "source": [
        "\n",
        "\n",
        "\n",
        "\n",
        "Kita sering kali perlu memeriksa hubungan/relation antara elemen yang sesuai dari dua variabel dalam kumpulan data. Katakanlah ada dua variabel, 𝑥 dan 𝑦, dengan jumlah elemen yang sama, 𝑛. Misalkan 𝑥₁ dari 𝑥 sesuai dengan 𝑦₁ dari 𝑦, 𝑥₂ dari 𝑥 ke 𝑦₂ dari 𝑦, dan seterusnya. Kita kemudian dapat mengatakan bahwa ada 𝑛 pasang elemen yang sesuai: (𝑥₁, 𝑦₁), (𝑥₂, 𝑦₂), dan seterusnya.\n",
        "\n",
        "Kita  akan melihat measures of correlation antara pasangan data berikut:\n",
        "\n",
        "Positive correlation exists when larger values of 𝑥 correspond to larger values of 𝑦 and vice versa.\n",
        "Negative correlation exists when larger values of 𝑥 correspond to smaller values of 𝑦 and vice versa.\n",
        "Weak or no correlation exists if there is no such apparent relationship.\n",
        "Gambar berikut menunjukkan contoh negative, weak, dan positive correlation:"
      ]
    },
    {
      "cell_type": "markdown",
      "metadata": {
        "id": "hiJ0bqNueXP1"
      },
      "source": [
        "<img src=\"https://i.ibb.co/5BLDpz5/Screen-Shot-2021-09-23-at-5-03-58-PM.png\" width=\"500\" align=\"center\">\n",
        "\n"
      ]
    },
    {
      "cell_type": "markdown",
      "metadata": {
        "id": "AKcIwQSGiUFo"
      },
      "source": [
        "Plot di sebelah kiri dengan titik merah menunjukkan korelasi negatif. Plot di tengah dengan titik-titik hijau menunjukkan korelasi yang lemah. Terakhir, plot di sebelah kanan dengan titik biru menunjukkan korelasi positif.\n",
        "\n",
        "Dua statistik yang mengukur korelasi antar dataset adalah covariance dan correlation coefficient. Mari tentukan beberapa data untuk digunakan dengan ukuran ini. Kita akan membuat dua list Python dan menggunakannya untuk mendapatkan array NumPy dan Series Pandas yang sesuai:"
      ]
    },
    {
      "cell_type": "code",
      "execution_count": 75,
      "metadata": {
        "id": "uxVD2d_CpCv6"
      },
      "outputs": [],
      "source": [
        "x = list(range(-10, 11))\n",
        "y = [0, 2, 2, 2, 2, 3, 3, 6, 7, 4, 7, 6, 6, 9, 4, 5, 5, 10, 11, 12, 14]"
      ]
    },
    {
      "cell_type": "code",
      "execution_count": 76,
      "metadata": {
        "id": "NknZAQJnpCTt"
      },
      "outputs": [],
      "source": [
        "x_, y_ = np.array(x), np.array(y)"
      ]
    },
    {
      "cell_type": "code",
      "execution_count": 77,
      "metadata": {
        "id": "dz-joUbjpBzn"
      },
      "outputs": [],
      "source": [
        "x__, y__ = pd.Series(x_), pd.Series(y_)"
      ]
    },
    {
      "cell_type": "code",
      "execution_count": 78,
      "metadata": {
        "colab": {
          "base_uri": "https://localhost:8080/"
        },
        "id": "4PBe0nT_iU3f",
        "outputId": "19436e8c-68a9-449b-92e9-1c2b775777fd"
      },
      "outputs": [
        {
          "name": "stdout",
          "output_type": "stream",
          "text": [
            "[-10  -9  -8  -7  -6  -5  -4  -3  -2  -1   0   1   2   3   4   5   6   7\n",
            "   8   9  10]\n",
            "[ 0  2  2  2  2  3  3  6  7  4  7  6  6  9  4  5  5 10 11 12 14]\n",
            "0    -10\n",
            "1     -9\n",
            "2     -8\n",
            "3     -7\n",
            "4     -6\n",
            "5     -5\n",
            "6     -4\n",
            "7     -3\n",
            "8     -2\n",
            "9     -1\n",
            "10     0\n",
            "11     1\n",
            "12     2\n",
            "13     3\n",
            "14     4\n",
            "15     5\n",
            "16     6\n",
            "17     7\n",
            "18     8\n",
            "19     9\n",
            "20    10\n",
            "dtype: int64\n",
            "0      0\n",
            "1      2\n",
            "2      2\n",
            "3      2\n",
            "4      2\n",
            "5      3\n",
            "6      3\n",
            "7      6\n",
            "8      7\n",
            "9      4\n",
            "10     7\n",
            "11     6\n",
            "12     6\n",
            "13     9\n",
            "14     4\n",
            "15     5\n",
            "16     5\n",
            "17    10\n",
            "18    11\n",
            "19    12\n",
            "20    14\n",
            "dtype: int64\n"
          ]
        }
      ],
      "source": [
        "print(x_)\n",
        "print(y_)\n",
        "print(x__)\n",
        "print(y__)"
      ]
    },
    {
      "cell_type": "markdown",
      "metadata": {
        "id": "exJpCYVqiVyo"
      },
      "source": [
        "Sekarang setelah kita memiliki dua variabel, kita dapat mulai menjelajahi relationship di antara keduanya.\n",
        "\n",
        "Covariance\n",
        "Sample covariance adalah ukuran yang mengukur kekuatan dan arah hubungan antara sepasang variabel:\n",
        "\n",
        "Jika korelasinya positif, maka kovariansnya juga positif. Hubungan yang lebih kuat sesuai dengan nilai kovarians yang lebih tinggi.\n",
        "Jika korelasinya negatif, maka kovariansnya juga negatif. Hubungan yang lebih kuat sesuai dengan nilai kovarians yang lebih rendah (atau lebih tinggi absolut).\n",
        "Jika korelasinya lemah, maka kovariansnya mendekati nol.\n",
        "\n",
        "Covariance variabel 𝑥 dan 𝑦 secara matematis didefinisikan sebagai 𝑠ˣʸ = Σᵢ (𝑥ᵢ − mean(𝑥)) (𝑦ᵢ − mean(𝑦)) / (𝑛 − 1), di mana 𝑖 = 1, 2,…, 𝑛, mean (𝑥) adalah sample mean dari 𝑥, dan mean (𝑦) adalah sample mean dari 𝑦. Oleh karena itu, covariance dua variabel identik sebenarnya adalah varians: 𝑠ˣˣ = Σᵢ (𝑥ᵢ - mean (𝑥)) ² / (𝑛 - 1) = (𝑠ˣ) ² dan 𝑠ʸʸ = Σᵢ (𝑦ᵢ - mean (𝑦)) ² / (𝑛 - 1) = (𝑠ʸ) ².\n",
        "\n",
        "Beginilah cara kita menghitung kovarian dengan Python pure:"
      ]
    },
    {
      "cell_type": "code",
      "execution_count": 79,
      "metadata": {
        "colab": {
          "base_uri": "https://localhost:8080/"
        },
        "id": "9xcClz2Qpgyz",
        "outputId": "a5dcdd1d-b9ad-4211-dfb1-19e5eb3cf491"
      },
      "outputs": [
        {
          "ename": "TypeError",
          "evalue": "'int' object is not callable",
          "output_type": "error",
          "traceback": [
            "\u001b[0;31m---------------------------------------------------------------------------\u001b[0m",
            "\u001b[0;31mTypeError\u001b[0m                                 Traceback (most recent call last)",
            "Cell \u001b[0;32mIn[79], line 2\u001b[0m\n\u001b[1;32m      1\u001b[0m n \u001b[39m=\u001b[39m \u001b[39mlen\u001b[39m(x)\n\u001b[0;32m----> 2\u001b[0m mean_x, mean_y \u001b[39m=\u001b[39m \u001b[39msum\u001b[39;49m(x) \u001b[39m/\u001b[39m n, \u001b[39msum\u001b[39m(y) \u001b[39m/\u001b[39m n \n\u001b[1;32m      3\u001b[0m mean_x\n",
            "\u001b[0;31mTypeError\u001b[0m: 'int' object is not callable"
          ]
        }
      ],
      "source": [
        "n = len(x)\n",
        "mean_x, mean_y = sum(x) / n, sum(y) / n \n",
        "mean_x"
      ]
    },
    {
      "cell_type": "code",
      "execution_count": null,
      "metadata": {
        "colab": {
          "base_uri": "https://localhost:8080/"
        },
        "id": "dwkbqrqSiW-6",
        "outputId": "81029066-2cdd-43c9-ab1e-7410dc4ff0d0"
      },
      "outputs": [
        {
          "data": {
            "text/plain": [
              "19.95"
            ]
          },
          "execution_count": 102,
          "metadata": {},
          "output_type": "execute_result"
        }
      ],
      "source": [
        "cov_xy = (sum((x[k] - mean_x) * (y[k] - mean_y) for k in range(n))\n",
        "           / (n - 1))\n",
        "cov_xy"
      ]
    },
    {
      "cell_type": "markdown",
      "metadata": {
        "id": "jyqVy1XCiXdI"
      },
      "source": [
        "Pertama, kita harus mencari nilai mean dari x dan y. Kemudian, kita menerapkan rumus matematika untuk covariance.\n",
        "\n",
        "NumPy memiliki fungsi cov() yang mengembalikan covariance matrix:"
      ]
    },
    {
      "cell_type": "code",
      "execution_count": 80,
      "metadata": {
        "colab": {
          "base_uri": "https://localhost:8080/"
        },
        "id": "MtYCn8jyipQl",
        "outputId": "a3d72fa3-aebe-4d58-d436-e34065d10368"
      },
      "outputs": [
        {
          "data": {
            "text/plain": [
              "array([[38.5       , 19.95      ],\n",
              "       [19.95      , 13.91428571]])"
            ]
          },
          "execution_count": 80,
          "metadata": {},
          "output_type": "execute_result"
        }
      ],
      "source": [
        "cov_matrix = np.cov(x_, y_)\n",
        "cov_matrix"
      ]
    },
    {
      "cell_type": "markdown",
      "metadata": {
        "id": "89kMAkgMitHd"
      },
      "source": [
        "Perhatikan bahwa cov() memiliki parameter opsional bias, yang defaultnya adalah False, dan ddof, yang defaultnya adalah None. Nilai defaultnya cocok untuk mendapatkan sample covariance matrix. Elemen kiri atas covariance matrix adalah covariance dari x dan x, atau variance dari x. Demikian pula, elemen kanan bawah adalah covariance y dan y, atau variance y. Kita dapat memeriksa apakah ini benar:\n"
      ]
    },
    {
      "cell_type": "code",
      "execution_count": 81,
      "metadata": {
        "colab": {
          "base_uri": "https://localhost:8080/"
        },
        "id": "BN0ju10civx6",
        "outputId": "4f8c3666-fcbe-48b2-f212-4ef9cd796b8d"
      },
      "outputs": [
        {
          "data": {
            "text/plain": [
              "38.5"
            ]
          },
          "execution_count": 81,
          "metadata": {},
          "output_type": "execute_result"
        }
      ],
      "source": [
        "x_.var(ddof=1)"
      ]
    },
    {
      "cell_type": "code",
      "execution_count": null,
      "metadata": {
        "colab": {
          "base_uri": "https://localhost:8080/"
        },
        "id": "iq0N6F--pyCL",
        "outputId": "8f126053-4825-4e43-e0f9-b0dfedce9c8c"
      },
      "outputs": [
        {
          "data": {
            "text/plain": [
              "13.914285714285711"
            ]
          },
          "execution_count": 105,
          "metadata": {},
          "output_type": "execute_result"
        }
      ],
      "source": [
        "y_.var(ddof=1)"
      ]
    },
    {
      "cell_type": "markdown",
      "metadata": {
        "id": "YqVnU3r5izDK"
      },
      "source": [
        "Seperti yang kita lihat, varians dari x dan y sama dengan cov_matrix[0, 0] dan cov_matrix[1, 1].\n",
        "\n",
        "Dua elemen lain dari covariance matrix adalah sama dan mewakili covariance aktual antara x dan y:\n"
      ]
    },
    {
      "cell_type": "code",
      "execution_count": null,
      "metadata": {
        "colab": {
          "base_uri": "https://localhost:8080/"
        },
        "id": "y9_sHd0-p2T5",
        "outputId": "950ccbfd-a166-4e09-8c23-fa3660ae8975"
      },
      "outputs": [
        {
          "data": {
            "text/plain": [
              "19.95"
            ]
          },
          "execution_count": 106,
          "metadata": {},
          "output_type": "execute_result"
        }
      ],
      "source": [
        "cov_xy = cov_matrix[0, 1]\n",
        "cov_xy"
      ]
    },
    {
      "cell_type": "code",
      "execution_count": null,
      "metadata": {
        "colab": {
          "base_uri": "https://localhost:8080/"
        },
        "id": "GMbgLbl4i1Ku",
        "outputId": "bf53fd56-1ec8-41ab-abbe-51547b740881"
      },
      "outputs": [
        {
          "data": {
            "text/plain": [
              "19.95"
            ]
          },
          "execution_count": 107,
          "metadata": {},
          "output_type": "execute_result"
        }
      ],
      "source": [
        "cov_xy = cov_matrix[1, 0]\n",
        "cov_xy"
      ]
    },
    {
      "cell_type": "markdown",
      "metadata": {
        "id": "PFrtarYOmCyA"
      },
      "source": [
        "Kita akan mendapatkan nilai kovarian yang sama dengan np.cov() seperti pada Python pure.\n",
        "\n",
        "Series Pandas memiliki metode .cov() yang dapat digunakan untuk menghitung kovarian:"
      ]
    },
    {
      "cell_type": "code",
      "execution_count": null,
      "metadata": {
        "colab": {
          "base_uri": "https://localhost:8080/"
        },
        "id": "ov-NBjWZmDsH",
        "outputId": "6e4b2477-47c3-499e-c028-89ee8ee5704b"
      },
      "outputs": [
        {
          "data": {
            "text/plain": [
              "19.95"
            ]
          },
          "execution_count": 123,
          "metadata": {},
          "output_type": "execute_result"
        }
      ],
      "source": [
        "cov_xy = x__.cov(y__)\n",
        "cov_xy "
      ]
    },
    {
      "cell_type": "code",
      "execution_count": null,
      "metadata": {
        "colab": {
          "base_uri": "https://localhost:8080/"
        },
        "id": "DZI4YCK4mEVn",
        "outputId": "3317c339-71fe-4be4-c4a7-88ca97fda69d"
      },
      "outputs": [
        {
          "data": {
            "text/plain": [
              "19.95"
            ]
          },
          "execution_count": 124,
          "metadata": {},
          "output_type": "execute_result"
        }
      ],
      "source": [
        "cov_xy = y__.cov(x__)\n",
        "cov_xy"
      ]
    },
    {
      "cell_type": "markdown",
      "metadata": {
        "id": "gI1uRmY0NY3d"
      },
      "source": [
        "Di sini, kita memanggil .cov() pada satu objek Series dan meneruskan objek lainnya sebagai argumen pertama.\n"
      ]
    },
    {
      "cell_type": "markdown",
      "metadata": {
        "id": "WTQ4A_-gmTxJ"
      },
      "source": [
        "\n",
        "\n",
        "# Correlation Coefficient\n",
        "\n",
        "Correlation coefficient, atau Pearson product-moment correlation coefficient, dilambangkan dengan simbol 𝑟. Coefficient  adalah ukuran lain dari korelasi antar data. Kita dapat menganggapnya sebagai standardized covariance. Berikut beberapa infonya:\n",
        "\n",
        "* Nilai > 0 menunjukkan korelasi positif.\n",
        "\n",
        "* Nilai < 0 menunjukkan korelasi negatif.\n",
        "* Nilai r = 1 adalah nilai maksimum yang mungkin dari . Ini sesuai dengan hubungan linier positif yang sempurna antara variabel.\n",
        "* Nilai r = 1 adalah nilai minimum yang mungkin dari . Ini sesuai dengan hubungan linier negatif yang sempurna antara variabel.\n",
        "* Nilai r 0, atau bila sekitar nol, berarti korelasi antar variabel lemah.\n",
        "\n",
        "Rumus matematika untuk koefisien korelasi adalah = / (𝑠ˣ𝑠ʸ) di mana dan masing-masing adalah standar deviasi dari dan . Jika kita memiliki mean (mean_x dan mean_y) dan standar deviasi (std_x, std_y) untuk dataset x dan y, serta covariannya cov_xy, maka kita dapat menghitung koefisien korelasi dengan Python pure:"
      ]
    },
    {
      "cell_type": "code",
      "execution_count": null,
      "metadata": {
        "id": "ec5LUNNYqERf"
      },
      "outputs": [],
      "source": [
        "var_x = sum((item - mean_x)**2 for item in x) / (n - 1)"
      ]
    },
    {
      "cell_type": "code",
      "execution_count": null,
      "metadata": {
        "id": "0ePypTagqFIX"
      },
      "outputs": [],
      "source": [
        "var_y = sum((item - mean_y)**2 for item in y) / (n - 1)"
      ]
    },
    {
      "cell_type": "code",
      "execution_count": null,
      "metadata": {
        "id": "Z7PmzeU0qHlB"
      },
      "outputs": [],
      "source": [
        " std_x, std_y = var_x ** 0.5, var_y ** 0.5"
      ]
    },
    {
      "cell_type": "code",
      "execution_count": null,
      "metadata": {
        "colab": {
          "base_uri": "https://localhost:8080/"
        },
        "id": "9DyuP2J_mVz4",
        "outputId": "490b3aaf-a5ae-4fc8-c561-0885222d7698"
      },
      "outputs": [
        {
          "data": {
            "text/plain": [
              "0.861950005631606"
            ]
          },
          "execution_count": 112,
          "metadata": {},
          "output_type": "execute_result"
        }
      ],
      "source": [
        "r = cov_xy / (std_x * std_y)\n",
        "r"
      ]
    },
    {
      "cell_type": "markdown",
      "metadata": {
        "id": "-tamrpUXmaPK"
      },
      "source": [
        "Kita mendapatkan variabel r yang mewakili correlation coefficient.\n",
        "\n",
        "scipy.stats memiliki pearsonr() yang menghitung correlation coefficient dan the 𝑝-value:"
      ]
    },
    {
      "cell_type": "code",
      "execution_count": 82,
      "metadata": {
        "colab": {
          "base_uri": "https://localhost:8080/"
        },
        "id": "ch3gk6ZamcOx",
        "outputId": "2c3d37d7-2591-4fa4-f04b-45fe7f299540"
      },
      "outputs": [
        {
          "name": "stdout",
          "output_type": "stream",
          "text": [
            "0.8619500056316061\n",
            "5.122760847201132e-07\n"
          ]
        }
      ],
      "source": [
        "r, p = scipy.stats.pearsonr(x_, y_)\n",
        "print(r)\n",
        "print(p)"
      ]
    },
    {
      "cell_type": "markdown",
      "metadata": {
        "id": "ufD8TAKqmgMK"
      },
      "source": [
        "pearsonr() mengembalikan tuple dengan dua angka. Yang pertama adalah 𝑟 dan yang kedua adalah 𝑝-value.\n",
        "\n",
        "Mirip dengan kasus covariance matrix, kita dapat menerapkan np.corrcoef() dengan x_ dan y_ sebagai argumen dan mendapatkan correlation coefficient matrix:"
      ]
    },
    {
      "cell_type": "code",
      "execution_count": null,
      "metadata": {
        "colab": {
          "base_uri": "https://localhost:8080/"
        },
        "id": "_aCdGnGpmiOg",
        "outputId": "2e222207-b5a2-48a3-89e3-d0294f047e80"
      },
      "outputs": [
        {
          "data": {
            "text/plain": [
              "array([[1.        , 0.86195001],\n",
              "       [0.86195001, 1.        ]])"
            ]
          },
          "execution_count": 114,
          "metadata": {},
          "output_type": "execute_result"
        }
      ],
      "source": [
        "corr_matrix = np.corrcoef(x_, y_)\n",
        "corr_matrix"
      ]
    },
    {
      "cell_type": "markdown",
      "metadata": {
        "id": "3KXxJ-ArmkX3"
      },
      "source": [
        "Elemen kiri atas adalah correlation coefficient antara x_ dan x_. Elemen kanan bawah adalah correlation coefficient antara y_ dan y_. Nilainya sama dengan 1.0. Dua elemen lainnya sama dan mewakili koefisien korelasi aktual antara x_ dan y_:"
      ]
    },
    {
      "cell_type": "code",
      "execution_count": null,
      "metadata": {
        "colab": {
          "base_uri": "https://localhost:8080/"
        },
        "id": "Qozb1BdkqdId",
        "outputId": "1f8a37b6-6c53-4963-891d-c2966e77e075"
      },
      "outputs": [
        {
          "data": {
            "text/plain": [
              "0.8619500056316061"
            ]
          },
          "execution_count": 115,
          "metadata": {},
          "output_type": "execute_result"
        }
      ],
      "source": [
        "r = corr_matrix[0, 1]\n",
        "r"
      ]
    },
    {
      "cell_type": "code",
      "execution_count": null,
      "metadata": {
        "colab": {
          "base_uri": "https://localhost:8080/"
        },
        "id": "MtjewilmmmM4",
        "outputId": "2a929244-f462-40af-d0c8-4c2e199bfe4e"
      },
      "outputs": [
        {
          "data": {
            "text/plain": [
              "0.861950005631606"
            ]
          },
          "execution_count": 116,
          "metadata": {},
          "output_type": "execute_result"
        }
      ],
      "source": [
        "r = corr_matrix[1, 0]\n",
        "r"
      ]
    },
    {
      "cell_type": "markdown",
      "metadata": {
        "id": "SxSCplMqmogr"
      },
      "source": [
        "Tentu saja, hasilnya sama dengan Python pure dan pearsonr().\n",
        "\n",
        "Kita bisa mendapatkan correlation coefficient dengan scipy.stats.linregress():"
      ]
    },
    {
      "cell_type": "code",
      "execution_count": 83,
      "metadata": {
        "colab": {
          "base_uri": "https://localhost:8080/"
        },
        "id": "F_CJqzC6mrCv",
        "outputId": "bf225557-7f95-4618-f38a-89d1d66e47dd"
      },
      "outputs": [
        {
          "data": {
            "text/plain": [
              "LinregressResult(slope=0.5181818181818181, intercept=5.714285714285714, rvalue=0.861950005631606, pvalue=5.122760847201164e-07, stderr=0.06992387660074979, intercept_stderr=0.4234100995002589)"
            ]
          },
          "execution_count": 83,
          "metadata": {},
          "output_type": "execute_result"
        }
      ],
      "source": [
        "scipy.stats.linregress(x_, y_)\n"
      ]
    },
    {
      "cell_type": "markdown",
      "metadata": {
        "id": "MgMWFoepmy24"
      },
      "source": [
        "\n",
        "linregress() mengambil x_ dan y_, melakukan regresi linier, dan mengembalikan hasilnya. slope dan intercept menentukan persamaan regression line, sedangkan rvalue  adalah correlation coefficient. Untuk mengakses nilai tertentu dari hasil linregress(), termasuk correlation coefficient, gunakan dot notation:"
      ]
    },
    {
      "cell_type": "code",
      "execution_count": 84,
      "metadata": {
        "colab": {
          "base_uri": "https://localhost:8080/"
        },
        "id": "GL1Z1gpom5Aw",
        "outputId": "a40f8326-7c60-43e9-93e8-82c429d56b7a"
      },
      "outputs": [
        {
          "data": {
            "text/plain": [
              "0.861950005631606"
            ]
          },
          "execution_count": 84,
          "metadata": {},
          "output_type": "execute_result"
        }
      ],
      "source": [
        "result = scipy.stats.linregress(x_, y_)\n",
        "r = result.rvalue\n",
        "r"
      ]
    },
    {
      "cell_type": "markdown",
      "metadata": {
        "id": "-DBiBuykm311"
      },
      "source": [
        "Series Pandas memiliki method .corr() untuk menghitung correlation coefficient:\n",
        "\n"
      ]
    },
    {
      "cell_type": "code",
      "execution_count": 85,
      "metadata": {
        "colab": {
          "base_uri": "https://localhost:8080/"
        },
        "id": "NI9c549Em3eP",
        "outputId": "8905d70e-4040-4b71-c014-9e9e6dc386e0"
      },
      "outputs": [
        {
          "data": {
            "text/plain": [
              "0.8619500056316061"
            ]
          },
          "execution_count": 85,
          "metadata": {},
          "output_type": "execute_result"
        }
      ],
      "source": [
        "r = x__.corr(y__)\n",
        "r"
      ]
    },
    {
      "cell_type": "code",
      "execution_count": 86,
      "metadata": {
        "colab": {
          "base_uri": "https://localhost:8080/"
        },
        "id": "OCjyccr1qy3e",
        "outputId": "a584a491-29a0-475f-b7f0-702ec4b24a21"
      },
      "outputs": [
        {
          "data": {
            "text/plain": [
              "0.861950005631606"
            ]
          },
          "execution_count": 86,
          "metadata": {},
          "output_type": "execute_result"
        }
      ],
      "source": [
        "r = y__.corr(x__)\n",
        "r"
      ]
    },
    {
      "cell_type": "markdown",
      "metadata": {
        "id": "YExN8zykm3GB"
      },
      "source": [
        "# Working With 2D Data\n",
        "Statisticians sering bekerja dengan data 2D. Berikut beberapa contoh format data 2D:\n",
        "\n",
        "* Database tables\n",
        "* CSV files\n",
        "* Excel, Calc, and Google spreadsheets\n",
        "\n",
        "NumPy dan SciPy menyediakan cara yang komprehensif untuk bekerja dengan data 2D. Panda memiliki kelas DataFrame khusus untuk menangani 2D labeled data.\n",
        "\n",
        "## Axes\n",
        "Start by creating a 2D NumPy array:\n",
        "\n",
        "\n",
        "\n"
      ]
    },
    {
      "cell_type": "code",
      "execution_count": 87,
      "metadata": {
        "colab": {
          "base_uri": "https://localhost:8080/"
        },
        "id": "Umer292jm2s-",
        "outputId": "643d9daf-8fbc-46d7-98ed-8d3de6acf98a"
      },
      "outputs": [
        {
          "data": {
            "text/plain": [
              "array([[ 1,  1,  1],\n",
              "       [ 2,  3,  1],\n",
              "       [ 4,  9,  2],\n",
              "       [ 8, 27,  4],\n",
              "       [16,  1,  1]])"
            ]
          },
          "execution_count": 87,
          "metadata": {},
          "output_type": "execute_result"
        }
      ],
      "source": [
        "a = np.array([[1, 1, 1],\n",
        "               [2, 3, 1],\n",
        "               [4, 9, 2],\n",
        "               [8, 27, 4],\n",
        "               [16, 1, 1]])\n",
        "a"
      ]
    },
    {
      "cell_type": "markdown",
      "metadata": {
        "id": "zET6Zm90nalb"
      },
      "source": [
        "Sekarang kita memiliki kumpulan data 2D, yang akan kita gunakan di section ini. Kita dapat menerapkan fungsi dan metode statistik Python ke dalamnya seperti yang kita lakukan pada data 1D:"
      ]
    },
    {
      "cell_type": "code",
      "execution_count": 89,
      "metadata": {
        "colab": {
          "base_uri": "https://localhost:8080/"
        },
        "id": "FmHbJlvCnctO",
        "outputId": "6ba2205e-56fe-4f62-d1d0-4d88ee34d663"
      },
      "outputs": [
        {
          "name": "stdout",
          "output_type": "stream",
          "text": [
            "5.4\n"
          ]
        },
        {
          "data": {
            "text/plain": [
              "53.40000000000001"
            ]
          },
          "execution_count": 89,
          "metadata": {},
          "output_type": "execute_result"
        }
      ],
      "source": [
        "print(np.mean(a))\n",
        "a.mean()\n",
        "np.median(a)\n",
        "a.var(ddof=1)"
      ]
    },
    {
      "cell_type": "markdown",
      "metadata": {
        "id": "qvKZHDTqndl6"
      },
      "source": [
        "Seperti yang kita lihat, kita mendapatkan statistik (seperti mean, median, atau varians) di semua data dalam array a. Terkadang, perilaku ini yang kita inginkan, tetapi dalam beberapa kasus, kita ingin jumlah ini dihitung untuk setiap baris atau kolom dari larik 2D kita .\n",
        "\n",
        "Fungsi dan metode yang kita gunakan sejauh ini memiliki satu parameter opsional yang disebut axis, yang penting untuk menangani data 2D. axis dapat mengambil salah satu dari nilai berikut:\n",
        "\n",
        "axis=None says to calculate the statistics across all data in the array. The examples above work like this. This behavior is often the default in NumPy.\n",
        "axis=0 says to calculate the statistics across all rows, that is, for each column of the array. This behavior is often the default for SciPy statistical functions.\n",
        "axis=1 says to calculate the statistics across all columns, that is, for each row of the array.\n",
        "Let’s see axis=0 in action with np.mean():"
      ]
    },
    {
      "cell_type": "code",
      "execution_count": 90,
      "metadata": {
        "colab": {
          "base_uri": "https://localhost:8080/"
        },
        "id": "SG3Z2IWaneMd",
        "outputId": "67519107-e1b8-4c1a-f3c1-e84aecf137be"
      },
      "outputs": [
        {
          "name": "stdout",
          "output_type": "stream",
          "text": [
            "[6.2 8.2 1.8]\n"
          ]
        },
        {
          "data": {
            "text/plain": [
              "array([6.2, 8.2, 1.8])"
            ]
          },
          "execution_count": 90,
          "metadata": {},
          "output_type": "execute_result"
        }
      ],
      "source": [
        "print(np.mean(a, axis=0))\n",
        "a.mean(axis=0)"
      ]
    },
    {
      "cell_type": "markdown",
      "metadata": {
        "id": "XpzBewconesj"
      },
      "source": [
        "\n",
        "Dua pernyataan di atas mengembalikan array NumPy baru dengan mean untuk setiap kolom a. Dalam contoh ini, mean dari kolom pertama adalah 6.2. Kolom kedua memiliki mean 8.2, sedangkan kolom ketiga memiliki 1.8.\n",
        "\n",
        "Jika kita memberikan axis=1 pada mean(), kita akan mendapatkan hasil untuk setiap baris:"
      ]
    },
    {
      "cell_type": "code",
      "execution_count": null,
      "metadata": {
        "colab": {
          "base_uri": "https://localhost:8080/"
        },
        "id": "Gu6Khq7_n0Fb",
        "outputId": "4012de9b-c95b-4034-ff90-e11d685f46d6"
      },
      "outputs": [
        {
          "data": {
            "text/plain": [
              "array([ 1.,  2.,  5., 13.,  6.])"
            ]
          },
          "execution_count": 123,
          "metadata": {},
          "output_type": "execute_result"
        }
      ],
      "source": [
        "np.mean(a, axis=1)\n",
        "a.mean(axis=1)"
      ]
    },
    {
      "cell_type": "markdown",
      "metadata": {
        "id": "6SF2VJxzn5Ve"
      },
      "source": [
        "Seperti yang kita lihat, baris pertama a memiliki mean 1.0, baris kedua 2.0, dan seterusnya.\n",
        "\n",
        "axis parameter bekerja dengan cara yang sama dengan fungsi dan metode NumPy lainnya:"
      ]
    },
    {
      "cell_type": "code",
      "execution_count": null,
      "metadata": {
        "colab": {
          "base_uri": "https://localhost:8080/"
        },
        "id": "GcutEhPZlqaY",
        "outputId": "5b540256-a889-4483-e7be-3178f002e8f4"
      },
      "outputs": [
        {
          "data": {
            "text/plain": [
              "array([4., 3., 1.])"
            ]
          },
          "execution_count": 125,
          "metadata": {},
          "output_type": "execute_result"
        }
      ],
      "source": [
        "np.median(a, axis=0)"
      ]
    },
    {
      "cell_type": "code",
      "execution_count": null,
      "metadata": {
        "colab": {
          "base_uri": "https://localhost:8080/"
        },
        "id": "UVoVp46KlqDR",
        "outputId": "c0f9e439-800b-4810-8736-d37032d20c14"
      },
      "outputs": [
        {
          "data": {
            "text/plain": [
              "array([1., 2., 4., 8., 1.])"
            ]
          },
          "execution_count": 126,
          "metadata": {},
          "output_type": "execute_result"
        }
      ],
      "source": [
        "np.median(a, axis=1)"
      ]
    },
    {
      "cell_type": "code",
      "execution_count": null,
      "metadata": {
        "colab": {
          "base_uri": "https://localhost:8080/"
        },
        "id": "uODF8hD8lp1E",
        "outputId": "c523c3fc-d8e7-4729-ee88-b320395f7e12"
      },
      "outputs": [
        {
          "data": {
            "text/plain": [
              "array([ 37.2, 121.2,   1.7])"
            ]
          },
          "execution_count": 127,
          "metadata": {},
          "output_type": "execute_result"
        }
      ],
      "source": [
        "a.var(axis=0, ddof=1)"
      ]
    },
    {
      "cell_type": "code",
      "execution_count": null,
      "metadata": {
        "colab": {
          "base_uri": "https://localhost:8080/"
        },
        "id": "m8RZjgnXlpmY",
        "outputId": "d64ba92a-021b-4d4c-d260-c27203892259"
      },
      "outputs": [
        {
          "data": {
            "text/plain": [
              "array([  0.,   1.,  13., 151.,  75.])"
            ]
          },
          "execution_count": 128,
          "metadata": {},
          "output_type": "execute_result"
        }
      ],
      "source": [
        "a.var(axis=1, ddof=1)"
      ]
    },
    {
      "cell_type": "markdown",
      "metadata": {
        "id": "EIG0WtzhloPn"
      },
      "source": [
        "Kita mendapatkan medians dan sample variations untuk semua kolom (axis=0)) dan baris (axis=1) dari array a.\n",
        "\n",
        "Ini sangat mirip saat kita bekerja dengan fungsi statistik SciPy. Tetapi ingat bahwa dalam kasus ini, nilai default untuk axis adalah 0:"
      ]
    },
    {
      "cell_type": "code",
      "execution_count": 91,
      "metadata": {
        "colab": {
          "base_uri": "https://localhost:8080/"
        },
        "id": "oUpazuyAliqY",
        "outputId": "9db7531a-6630-4379-a96f-b52c8cd86c2b"
      },
      "outputs": [
        {
          "data": {
            "text/plain": [
              "array([4.        , 3.73719282, 1.51571657])"
            ]
          },
          "execution_count": 91,
          "metadata": {},
          "output_type": "execute_result"
        }
      ],
      "source": [
        "scipy.stats.gmean(a)  # Default: axis=0"
      ]
    },
    {
      "cell_type": "code",
      "execution_count": null,
      "metadata": {
        "colab": {
          "base_uri": "https://localhost:8080/"
        },
        "id": "L-Am-d6KliUt",
        "outputId": "8a828694-b30f-4e37-9ecf-5ee4bbb07171"
      },
      "outputs": [
        {
          "data": {
            "text/plain": [
              "array([4.        , 3.73719282, 1.51571657])"
            ]
          },
          "execution_count": 130,
          "metadata": {},
          "output_type": "execute_result"
        }
      ],
      "source": [
        "scipy.stats.gmean(a, axis=0)"
      ]
    },
    {
      "cell_type": "markdown",
      "metadata": {
        "id": "__CYxNfJlgNg"
      },
      "source": [
        "Jika kita menghilangkan axis atau memberikan axis=0, kita akan mendapatkan hasil di semua baris, untuk setiap kolom. Misalnya, kolom pertama a memilikigeometric mean 4.0, dan seterusnya.\n",
        "\n",
        "Jika kita menentukan axis=1, kita akan mendapatkan penghitungan di semua kolom, untuk setiap baris:"
      ]
    },
    {
      "cell_type": "code",
      "execution_count": null,
      "metadata": {
        "colab": {
          "base_uri": "https://localhost:8080/"
        },
        "id": "Bnt3hDp5ldzU",
        "outputId": "7501c02f-34f3-457e-f036-02284959a864"
      },
      "outputs": [
        {
          "data": {
            "text/plain": [
              "array([1.        , 1.81712059, 4.16016765, 9.52440631, 2.5198421 ])"
            ]
          },
          "execution_count": 131,
          "metadata": {},
          "output_type": "execute_result"
        }
      ],
      "source": [
        " scipy.stats.gmean(a, axis=1)"
      ]
    },
    {
      "cell_type": "markdown",
      "metadata": {
        "id": "9wt9ThQFlbjK"
      },
      "source": [
        "Dalam contoh ini, geometric mean dari baris pertama a adalah 1.0. Untuk baris kedua, kira-kira 1.82, dan seterusnya.\n",
        "\n",
        "Jika Anda menginginkan statistik untuk seluruh dataset, maka Anda harus menyediakan axis=None:"
      ]
    },
    {
      "cell_type": "code",
      "execution_count": null,
      "metadata": {
        "colab": {
          "base_uri": "https://localhost:8080/"
        },
        "id": "_tuUUd2blXzg",
        "outputId": "3686cee7-0c4b-4545-c2ce-63997d5de151"
      },
      "outputs": [
        {
          "data": {
            "text/plain": [
              "2.829705017016332"
            ]
          },
          "execution_count": 132,
          "metadata": {},
          "output_type": "execute_result"
        }
      ],
      "source": [
        "scipy.stats.gmean(a, axis=None)"
      ]
    },
    {
      "cell_type": "markdown",
      "metadata": {
        "id": "u_kJMW-OlWhl"
      },
      "source": [
        "Geometric mean dari semua item dalam array a adalah kira-kira 2.83.\n",
        "\n",
        "Kita bisa mendapatkan statistics summary dengan satu panggilan fungsi untuk data 2D dengan scipy.stats.describe(). Ini berfungsi mirip dengan array 1D, tetapi kita harus berhati-hati dengan axisparameter:"
      ]
    },
    {
      "cell_type": "code",
      "execution_count": null,
      "metadata": {
        "colab": {
          "base_uri": "https://localhost:8080/"
        },
        "id": "my07L6hzlLIJ",
        "outputId": "c96ef061-9bf5-4f26-ad75-0872a1372d7c"
      },
      "outputs": [
        {
          "data": {
            "text/plain": [
              "DescribeResult(nobs=15, minmax=(1, 27), mean=5.4, variance=53.40000000000001, skewness=2.264965290423389, kurtosis=5.212690982795767)"
            ]
          },
          "execution_count": 133,
          "metadata": {},
          "output_type": "execute_result"
        }
      ],
      "source": [
        "scipy.stats.describe(a, axis=None, ddof=1, bias=False)"
      ]
    },
    {
      "cell_type": "code",
      "execution_count": null,
      "metadata": {
        "colab": {
          "base_uri": "https://localhost:8080/"
        },
        "id": "DaX6AIkIlKtd",
        "outputId": "08d8feff-84fb-4efc-958d-da59a687ff97"
      },
      "outputs": [
        {
          "data": {
            "text/plain": [
              "DescribeResult(nobs=5, minmax=(array([1, 1, 1]), array([16, 27,  4])), mean=array([6.2, 8.2, 1.8]), variance=array([ 37.2, 121.2,   1.7]), skewness=array([1.32531471, 1.79809454, 1.71439233]), kurtosis=array([1.30376344, 3.14969121, 2.66435986]))"
            ]
          },
          "execution_count": 134,
          "metadata": {},
          "output_type": "execute_result"
        }
      ],
      "source": [
        "scipy.stats.describe(a, ddof=1, bias=False)  # Default: axis=0"
      ]
    },
    {
      "cell_type": "code",
      "execution_count": null,
      "metadata": {
        "colab": {
          "base_uri": "https://localhost:8080/"
        },
        "id": "ARNyIBKplKZh",
        "outputId": "ae846890-7a3c-4dbf-8efb-1d771d7bf908"
      },
      "outputs": [
        {
          "data": {
            "text/plain": [
              "DescribeResult(nobs=3, minmax=(array([1, 1, 2, 4, 1]), array([ 1,  3,  9, 27, 16])), mean=array([ 1.,  2.,  5., 13.,  6.]), variance=array([  0.,   1.,  13., 151.,  75.]), skewness=array([0.        , 0.        , 1.15206964, 1.52787436, 1.73205081]), kurtosis=array([-3. , -1.5, -1.5, -1.5, -1.5]))"
            ]
          },
          "execution_count": 135,
          "metadata": {},
          "output_type": "execute_result"
        }
      ],
      "source": [
        "scipy.stats.describe(a, axis=1, ddof=1, bias=False)"
      ]
    },
    {
      "cell_type": "markdown",
      "metadata": {
        "id": "9I75J5uslBtM"
      },
      "source": [
        "Saat kita memberikan axis=None, kita mendapatkan summary di semua data. Sebagian besar hasil adalah skalar. Jika kita mengatur axis=0 atau menghilangkannya, maka nilai yang dikembalikan adalah summary untuk setiap kolom. Jadi, sebagian besar hasil adalah array dengan jumlah item yang sama dengan jumlah kolom. Jika kita menyetel axis=1, maka describe()mengembalikan summary untuk semua baris.\n",
        "\n",
        "Kita bisa mendapatkan nilai tertentu dari ringkasan dengan dot notation:\n",
        "\n"
      ]
    },
    {
      "cell_type": "code",
      "execution_count": null,
      "metadata": {
        "colab": {
          "base_uri": "https://localhost:8080/"
        },
        "id": "69QCwHuulC1l",
        "outputId": "5fa626c0-41e5-4921-f4b6-b92db29f29ae"
      },
      "outputs": [
        {
          "data": {
            "text/plain": [
              "array([ 1.,  2.,  5., 13.,  6.])"
            ]
          },
          "execution_count": 136,
          "metadata": {},
          "output_type": "execute_result"
        }
      ],
      "source": [
        "result = scipy.stats.describe(a, axis=1, ddof=1, bias=False)\n",
        "result.mean"
      ]
    },
    {
      "cell_type": "markdown",
      "metadata": {
        "id": "i2fWMRHUk9gx"
      },
      "source": [
        "# DataFrames\n",
        "Kelas DataFrame adalah salah satu tipe data fundamental Pandas. DataFrame sangat nyaman digunakan karena memiliki label untuk baris dan kolom. Gunakan array a dan buat DataFrame:"
      ]
    },
    {
      "cell_type": "code",
      "execution_count": 92,
      "metadata": {
        "id": "q3JzdBwZku4V"
      },
      "outputs": [],
      "source": [
        "row_names = ['first', 'second', 'third', 'fourth', 'fifth']\n",
        "col_names = ['A', 'B', 'C']\n"
      ]
    },
    {
      "cell_type": "code",
      "execution_count": 93,
      "metadata": {
        "colab": {
          "base_uri": "https://localhost:8080/",
          "height": 206
        },
        "id": "z_5_voZ1kyZ7",
        "outputId": "ef26f3ec-19c3-431a-d643-a3b492d90662"
      },
      "outputs": [
        {
          "data": {
            "text/html": [
              "<div>\n",
              "<style scoped>\n",
              "    .dataframe tbody tr th:only-of-type {\n",
              "        vertical-align: middle;\n",
              "    }\n",
              "\n",
              "    .dataframe tbody tr th {\n",
              "        vertical-align: top;\n",
              "    }\n",
              "\n",
              "    .dataframe thead th {\n",
              "        text-align: right;\n",
              "    }\n",
              "</style>\n",
              "<table border=\"1\" class=\"dataframe\">\n",
              "  <thead>\n",
              "    <tr style=\"text-align: right;\">\n",
              "      <th></th>\n",
              "      <th>A</th>\n",
              "      <th>B</th>\n",
              "      <th>C</th>\n",
              "    </tr>\n",
              "  </thead>\n",
              "  <tbody>\n",
              "    <tr>\n",
              "      <th>first</th>\n",
              "      <td>1</td>\n",
              "      <td>1</td>\n",
              "      <td>1</td>\n",
              "    </tr>\n",
              "    <tr>\n",
              "      <th>second</th>\n",
              "      <td>2</td>\n",
              "      <td>3</td>\n",
              "      <td>1</td>\n",
              "    </tr>\n",
              "    <tr>\n",
              "      <th>third</th>\n",
              "      <td>4</td>\n",
              "      <td>9</td>\n",
              "      <td>2</td>\n",
              "    </tr>\n",
              "    <tr>\n",
              "      <th>fourth</th>\n",
              "      <td>8</td>\n",
              "      <td>27</td>\n",
              "      <td>4</td>\n",
              "    </tr>\n",
              "    <tr>\n",
              "      <th>fifth</th>\n",
              "      <td>16</td>\n",
              "      <td>1</td>\n",
              "      <td>1</td>\n",
              "    </tr>\n",
              "  </tbody>\n",
              "</table>\n",
              "</div>"
            ],
            "text/plain": [
              "         A   B  C\n",
              "first    1   1  1\n",
              "second   2   3  1\n",
              "third    4   9  2\n",
              "fourth   8  27  4\n",
              "fifth   16   1  1"
            ]
          },
          "execution_count": 93,
          "metadata": {},
          "output_type": "execute_result"
        }
      ],
      "source": [
        "df = pd.DataFrame(a, index=row_names, columns=col_names)\n",
        "df"
      ]
    },
    {
      "cell_type": "markdown",
      "metadata": {
        "id": "MbkRMUn3ktpm"
      },
      "source": [
        "Dalam praktiknya, nama kolom penting dan harus deskriptif. Nama baris terkadang ditentukan secara otomatis sebagai 0, 1, dan seterusnya. Kita dapat menentukannya secara eksplisit dengan index parameter, meskipun kita bebas untuk menghilangkan indeks jika kita mau.\n",
        "\n",
        "Metode DataFrame sangat mirip dengan metode Series, meskipun perilakunya berbeda. Jika kita memanggil metode statistics Python tanpa argumen, maka DataFrame akan mengembalikan hasil untuk setiap kolom:"
      ]
    },
    {
      "cell_type": "code",
      "execution_count": 94,
      "metadata": {
        "colab": {
          "base_uri": "https://localhost:8080/"
        },
        "id": "-9oMqvrWkg9Y",
        "outputId": "010d3c46-a139-487f-f30f-7d2ae0c21dde"
      },
      "outputs": [
        {
          "data": {
            "text/plain": [
              "A    6.2\n",
              "B    8.2\n",
              "C    1.8\n",
              "dtype: float64"
            ]
          },
          "execution_count": 94,
          "metadata": {},
          "output_type": "execute_result"
        }
      ],
      "source": [
        "df.mean()"
      ]
    },
    {
      "cell_type": "code",
      "execution_count": 95,
      "metadata": {
        "colab": {
          "base_uri": "https://localhost:8080/"
        },
        "id": "XjQEmcJPkeqw",
        "outputId": "d29fe6aa-ed98-4c06-a142-99292065fcb2"
      },
      "outputs": [
        {
          "data": {
            "text/plain": [
              "A     37.2\n",
              "B    121.2\n",
              "C      1.7\n",
              "dtype: float64"
            ]
          },
          "execution_count": 95,
          "metadata": {},
          "output_type": "execute_result"
        }
      ],
      "source": [
        "df.var()"
      ]
    },
    {
      "cell_type": "markdown",
      "metadata": {
        "id": "2bomBi14kIbc"
      },
      "source": [
        "Apa yang kita dapatkan adalah Series baru yang menyimpan hasil. Dalam hal ini, Series menyimpan mean dan variance untuk setiap kolom. Jika kita menginginkan hasil untuk setiap baris, maka tentukan parameter axis=1:"
      ]
    },
    {
      "cell_type": "code",
      "execution_count": 96,
      "metadata": {
        "colab": {
          "base_uri": "https://localhost:8080/"
        },
        "id": "g1w-wy2wkREy",
        "outputId": "0f90b34e-94ad-4440-9b92-dcf6000e2781"
      },
      "outputs": [
        {
          "data": {
            "text/plain": [
              "first      1.0\n",
              "second     2.0\n",
              "third      5.0\n",
              "fourth    13.0\n",
              "fifth      6.0\n",
              "dtype: float64"
            ]
          },
          "execution_count": 96,
          "metadata": {},
          "output_type": "execute_result"
        }
      ],
      "source": [
        "df.mean(axis=1)"
      ]
    },
    {
      "cell_type": "code",
      "execution_count": 97,
      "metadata": {
        "colab": {
          "base_uri": "https://localhost:8080/"
        },
        "id": "WAyySUyHkQvw",
        "outputId": "2e62244a-4f11-4069-d336-ef9f4410d080"
      },
      "outputs": [
        {
          "data": {
            "text/plain": [
              "first       0.0\n",
              "second      1.0\n",
              "third      13.0\n",
              "fourth    151.0\n",
              "fifth      75.0\n",
              "dtype: float64"
            ]
          },
          "execution_count": 97,
          "metadata": {},
          "output_type": "execute_result"
        }
      ],
      "source": [
        "df.var(axis=1)"
      ]
    },
    {
      "cell_type": "markdown",
      "metadata": {
        "id": "GdlIIaSQkOab"
      },
      "source": [
        "Hasilnya adalah Series dengan kuantitas yang diinginkan untuk setiap baris. Label 'first', 'second', dan seterusnya mengacu pada baris yang berbeda.\n",
        "\n",
        "Kita dapat mengisolasi setiap kolom DataFrame seperti ini:"
      ]
    },
    {
      "cell_type": "code",
      "execution_count": null,
      "metadata": {
        "colab": {
          "base_uri": "https://localhost:8080/"
        },
        "id": "9_MWYWDkkKzj",
        "outputId": "a86a1c60-e7c7-433e-cf0e-f1ce8bbfa35d"
      },
      "outputs": [
        {
          "data": {
            "text/plain": [
              "first      1\n",
              "second     2\n",
              "third      4\n",
              "fourth     8\n",
              "fifth     16\n",
              "Name: A, dtype: int64"
            ]
          },
          "execution_count": 144,
          "metadata": {},
          "output_type": "execute_result"
        }
      ],
      "source": [
        "df['A']"
      ]
    },
    {
      "cell_type": "code",
      "execution_count": null,
      "metadata": {
        "colab": {
          "base_uri": "https://localhost:8080/"
        },
        "id": "qQbPGsdfkEXV",
        "outputId": "7fcb52bf-14b3-4594-ed00-7b792e0e62f7"
      },
      "outputs": [
        {
          "data": {
            "text/plain": [
              "6.2"
            ]
          },
          "execution_count": 145,
          "metadata": {},
          "output_type": "execute_result"
        }
      ],
      "source": [
        "df['A'].mean()"
      ]
    },
    {
      "cell_type": "code",
      "execution_count": null,
      "metadata": {
        "colab": {
          "base_uri": "https://localhost:8080/"
        },
        "id": "naN8KK_XkEFM",
        "outputId": "ef8d4538-6896-4b75-f3fc-b19d580305c1"
      },
      "outputs": [
        {
          "data": {
            "text/plain": [
              "37.20000000000001"
            ]
          },
          "execution_count": 146,
          "metadata": {},
          "output_type": "execute_result"
        }
      ],
      "source": [
        "df['A'].var()"
      ]
    },
    {
      "cell_type": "markdown",
      "metadata": {
        "id": "GnZFpSkYkBz2"
      },
      "source": [
        "Terkadang, kita mungkin ingin menggunakan DataFrame sebagai array NumPy dan menerapkan beberapa fungsi padanya. Dimungkinkan untuk mendapatkan semua data dari DataFrame dengan .values atau .to_numpy():"
      ]
    },
    {
      "cell_type": "code",
      "execution_count": null,
      "metadata": {
        "colab": {
          "base_uri": "https://localhost:8080/"
        },
        "id": "3hVBiPaPj9Cb",
        "outputId": "67a80bdd-402d-4291-87d6-4aa67d6346a0"
      },
      "outputs": [
        {
          "data": {
            "text/plain": [
              "array([[ 1,  1,  1],\n",
              "       [ 2,  3,  1],\n",
              "       [ 4,  9,  2],\n",
              "       [ 8, 27,  4],\n",
              "       [16,  1,  1]])"
            ]
          },
          "execution_count": 147,
          "metadata": {},
          "output_type": "execute_result"
        }
      ],
      "source": [
        "df.values"
      ]
    },
    {
      "cell_type": "code",
      "execution_count": null,
      "metadata": {
        "colab": {
          "base_uri": "https://localhost:8080/"
        },
        "id": "zCraF7wFj8uh",
        "outputId": "d44e2874-398a-46ac-f715-9b634b8acdf0"
      },
      "outputs": [
        {
          "data": {
            "text/plain": [
              "array([[ 1,  1,  1],\n",
              "       [ 2,  3,  1],\n",
              "       [ 4,  9,  2],\n",
              "       [ 8, 27,  4],\n",
              "       [16,  1,  1]])"
            ]
          },
          "execution_count": 148,
          "metadata": {},
          "output_type": "execute_result"
        }
      ],
      "source": [
        "df.to_numpy()"
      ]
    },
    {
      "cell_type": "markdown",
      "metadata": {
        "id": "mfc-i5tCj6iR"
      },
      "source": [
        "df.values dan df.to_numpy() memberi kita array NumPy dengan semua item dari DataFrame tanpa label baris dan kolom. Perhatikan bahwa df.to_numpy() lebih fleksibel karena kita bisa menentukan tipe data item dan apakah kita ingin menggunakan data yang ada atau menyalinnya.\n",
        "\n",
        "Seperti Series, objek DataFrame memiliki metode .describe() yang mengembalikan DataFrame lain dengan statistics summary untuk semua kolom:"
      ]
    },
    {
      "cell_type": "code",
      "execution_count": 98,
      "metadata": {
        "colab": {
          "base_uri": "https://localhost:8080/",
          "height": 300
        },
        "id": "oJh35uaJjA6U",
        "outputId": "d2ca03ea-a4e3-4581-ff55-682f5077aead"
      },
      "outputs": [
        {
          "data": {
            "text/html": [
              "<div>\n",
              "<style scoped>\n",
              "    .dataframe tbody tr th:only-of-type {\n",
              "        vertical-align: middle;\n",
              "    }\n",
              "\n",
              "    .dataframe tbody tr th {\n",
              "        vertical-align: top;\n",
              "    }\n",
              "\n",
              "    .dataframe thead th {\n",
              "        text-align: right;\n",
              "    }\n",
              "</style>\n",
              "<table border=\"1\" class=\"dataframe\">\n",
              "  <thead>\n",
              "    <tr style=\"text-align: right;\">\n",
              "      <th></th>\n",
              "      <th>A</th>\n",
              "      <th>B</th>\n",
              "      <th>C</th>\n",
              "    </tr>\n",
              "  </thead>\n",
              "  <tbody>\n",
              "    <tr>\n",
              "      <th>count</th>\n",
              "      <td>5.00000</td>\n",
              "      <td>5.000000</td>\n",
              "      <td>5.00000</td>\n",
              "    </tr>\n",
              "    <tr>\n",
              "      <th>mean</th>\n",
              "      <td>6.20000</td>\n",
              "      <td>8.200000</td>\n",
              "      <td>1.80000</td>\n",
              "    </tr>\n",
              "    <tr>\n",
              "      <th>std</th>\n",
              "      <td>6.09918</td>\n",
              "      <td>11.009087</td>\n",
              "      <td>1.30384</td>\n",
              "    </tr>\n",
              "    <tr>\n",
              "      <th>min</th>\n",
              "      <td>1.00000</td>\n",
              "      <td>1.000000</td>\n",
              "      <td>1.00000</td>\n",
              "    </tr>\n",
              "    <tr>\n",
              "      <th>25%</th>\n",
              "      <td>2.00000</td>\n",
              "      <td>1.000000</td>\n",
              "      <td>1.00000</td>\n",
              "    </tr>\n",
              "    <tr>\n",
              "      <th>50%</th>\n",
              "      <td>4.00000</td>\n",
              "      <td>3.000000</td>\n",
              "      <td>1.00000</td>\n",
              "    </tr>\n",
              "    <tr>\n",
              "      <th>75%</th>\n",
              "      <td>8.00000</td>\n",
              "      <td>9.000000</td>\n",
              "      <td>2.00000</td>\n",
              "    </tr>\n",
              "    <tr>\n",
              "      <th>max</th>\n",
              "      <td>16.00000</td>\n",
              "      <td>27.000000</td>\n",
              "      <td>4.00000</td>\n",
              "    </tr>\n",
              "  </tbody>\n",
              "</table>\n",
              "</div>"
            ],
            "text/plain": [
              "              A          B        C\n",
              "count   5.00000   5.000000  5.00000\n",
              "mean    6.20000   8.200000  1.80000\n",
              "std     6.09918  11.009087  1.30384\n",
              "min     1.00000   1.000000  1.00000\n",
              "25%     2.00000   1.000000  1.00000\n",
              "50%     4.00000   3.000000  1.00000\n",
              "75%     8.00000   9.000000  2.00000\n",
              "max    16.00000  27.000000  4.00000"
            ]
          },
          "execution_count": 98,
          "metadata": {},
          "output_type": "execute_result"
        }
      ],
      "source": [
        "df.describe()"
      ]
    },
    {
      "cell_type": "markdown",
      "metadata": {
        "id": "-Xz98MRmjAhA"
      },
      "source": [
        "Ringkasan tersebut berisi hasil sebagai berikut:\n",
        "\n",
        "* count: the number of items in each column\n",
        "* mean: the mean of each column\n",
        "* std: the standard deviation\n",
        "* min and max: the minimum and maximum values\n",
        "* 25%, 50%, and 75%: the percentiles\n",
        "\n",
        "Jika kita ingin objek DataFrame yang dihasilkan berisi persentil lain, kita harus menentukan nilai parameter opsional percentiles.\n",
        "\n",
        "Kita dapat mengakses setiap item summary seperti ini:"
      ]
    },
    {
      "cell_type": "code",
      "execution_count": null,
      "metadata": {
        "colab": {
          "base_uri": "https://localhost:8080/"
        },
        "id": "BuAnXpaVi_6n",
        "outputId": "d68b1c06-5bdb-42d0-d37b-ed3734864ed5"
      },
      "outputs": [
        {
          "data": {
            "text/plain": [
              "6.2"
            ]
          },
          "execution_count": 150,
          "metadata": {},
          "output_type": "execute_result"
        }
      ],
      "source": [
        "df.describe().at['mean', 'A']"
      ]
    },
    {
      "cell_type": "code",
      "execution_count": null,
      "metadata": {
        "colab": {
          "base_uri": "https://localhost:8080/"
        },
        "id": "sGaxM7sNjrpE",
        "outputId": "155c20c4-6f4a-46ce-d7e3-6d14087a894e"
      },
      "outputs": [
        {
          "data": {
            "text/plain": [
              "3.0"
            ]
          },
          "execution_count": 151,
          "metadata": {},
          "output_type": "execute_result"
        }
      ],
      "source": [
        "df.describe().at['50%', 'B']"
      ]
    },
    {
      "cell_type": "markdown",
      "metadata": {
        "id": "O5sPKE_Ii_Md"
      },
      "source": [
        "# Memvisualisasikan Data (Opsional)\n",
        "Pengenalan Python ke Ilmu Data Siswa dapat melakukan bagian ini di bawah ini di rumah.\n",
        "\n",
        "Selain menghitung jumlah numerik seperti mean, median, atau varians, Anda dapat menggunakan metode visual untuk menyajikan, mendeskripsikan, dan meringkas data. Di bagian ini, Anda akan mempelajari cara menyajikan data secara visual menggunakan grafik berikut:\n",
        "\n",
        "Box plots\n",
        "Histograms\n",
        "Pie charts\n",
        "Bar charts\n",
        "X-Y plots\n",
        "Heatmaps\n",
        "\n",
        "matplotlib.pyplot adalah perpustakaan yang sangat nyaman dan banyak digunakan, meskipun itu bukan satu-satunya perpustakaan Python yang tersedia untuk tujuan ini. Anda dapat mengimpornya seperti ini:"
      ]
    },
    {
      "cell_type": "code",
      "execution_count": 99,
      "metadata": {
        "id": "M68oVOeWi95r"
      },
      "outputs": [],
      "source": [
        "import matplotlib.pyplot as plt\n",
        "plt.style.use('ggplot')"
      ]
    },
    {
      "cell_type": "markdown",
      "metadata": {
        "id": "45-C5n9ci7fN"
      },
      "source": [
        "Sekarang, Anda telah mengimpor matplotlib.pyplot dan siap digunakan. Pernyataan kedua menetapkan gaya untuk plot Anda dengan memilih warna, lebar garis, dan elemen gaya lainnya. Anda bebas untuk menghilangkan ini jika Anda puas dengan pengaturan gaya default.\n",
        "\n",
        "Anda akan menggunakan angka pseudo-acak untuk mendapatkan data untuk digunakan. Anda tidak perlu pengetahuan tentang angka acak untuk dapat memahami bagian ini. Anda hanya perlu beberapa nomor arbitrer, dan generator pseudo-acak adalah alat yang mudah untuk mendapatkannya. Modul np.random menghasilkan array angka pseudo-acak:\n",
        "\n",
        "Nomor yang didistribusikan secara normal dihasilkan dengan np.random.randn(). Bilangan bulat yang didistribusikan secara seragam dihasilkan dengan np.random.randint().\n",
        "\n",
        "## Box Plots\n",
        "The box plot adalah alat yang sangat baik untuk secara visual mewakili statistik deskriptif dari kumpulan data yang diberikan. Hal ini dapat menunjukkan jangkauan, jangkauan interkuartil, median, modus, outlier, dan semua kuartil. Pertama, buat beberapa data untuk direpresentasikan dengan plot kotak: "
      ]
    },
    {
      "cell_type": "code",
      "execution_count": 108,
      "metadata": {
        "id": "xiF6bBcAeKf5"
      },
      "outputs": [],
      "source": [
        "np.random.seed(seed=0)\n",
        "x = np.random.randn(1000)\n",
        "y = np.random.randn(100)\n",
        "z = np.random.randn(10)"
      ]
    },
    {
      "cell_type": "code",
      "execution_count": 109,
      "metadata": {},
      "outputs": [
        {
          "name": "stdout",
          "output_type": "stream",
          "text": [
            "[ 1.76405235e+00  4.00157208e-01  9.78737984e-01  2.24089320e+00\n",
            "  1.86755799e+00 -9.77277880e-01  9.50088418e-01 -1.51357208e-01\n",
            " -1.03218852e-01  4.10598502e-01  1.44043571e-01  1.45427351e+00\n",
            "  7.61037725e-01  1.21675016e-01  4.43863233e-01  3.33674327e-01\n",
            "  1.49407907e+00 -2.05158264e-01  3.13067702e-01 -8.54095739e-01\n",
            " -2.55298982e+00  6.53618595e-01  8.64436199e-01 -7.42165020e-01\n",
            "  2.26975462e+00 -1.45436567e+00  4.57585173e-02 -1.87183850e-01\n",
            "  1.53277921e+00  1.46935877e+00  1.54947426e-01  3.78162520e-01\n",
            " -8.87785748e-01 -1.98079647e+00 -3.47912149e-01  1.56348969e-01\n",
            "  1.23029068e+00  1.20237985e+00 -3.87326817e-01 -3.02302751e-01\n",
            " -1.04855297e+00 -1.42001794e+00 -1.70627019e+00  1.95077540e+00\n",
            " -5.09652182e-01 -4.38074302e-01 -1.25279536e+00  7.77490356e-01\n",
            " -1.61389785e+00 -2.12740280e-01 -8.95466561e-01  3.86902498e-01\n",
            " -5.10805138e-01 -1.18063218e+00 -2.81822283e-02  4.28331871e-01\n",
            "  6.65172224e-02  3.02471898e-01 -6.34322094e-01 -3.62741166e-01\n",
            " -6.72460448e-01 -3.59553162e-01 -8.13146282e-01 -1.72628260e+00\n",
            "  1.77426142e-01 -4.01780936e-01 -1.63019835e+00  4.62782256e-01\n",
            " -9.07298364e-01  5.19453958e-02  7.29090562e-01  1.28982911e-01\n",
            "  1.13940068e+00 -1.23482582e+00  4.02341641e-01 -6.84810091e-01\n",
            " -8.70797149e-01 -5.78849665e-01 -3.11552532e-01  5.61653422e-02\n",
            " -1.16514984e+00  9.00826487e-01  4.65662440e-01 -1.53624369e+00\n",
            "  1.48825219e+00  1.89588918e+00  1.17877957e+00 -1.79924836e-01\n",
            " -1.07075262e+00  1.05445173e+00 -4.03176947e-01  1.22244507e+00\n",
            "  2.08274978e-01  9.76639036e-01  3.56366397e-01  7.06573168e-01\n",
            "  1.05000207e-02  1.78587049e+00  1.26912093e-01  4.01989363e-01\n",
            "  1.88315070e+00 -1.34775906e+00 -1.27048500e+00  9.69396708e-01\n",
            " -1.17312341e+00  1.94362119e+00 -4.13618981e-01 -7.47454811e-01\n",
            "  1.92294203e+00  1.48051479e+00  1.86755896e+00  9.06044658e-01\n",
            " -8.61225685e-01  1.91006495e+00 -2.68003371e-01  8.02456396e-01\n",
            "  9.47251968e-01 -1.55010093e-01  6.14079370e-01  9.22206672e-01\n",
            "  3.76425531e-01 -1.09940079e+00  2.98238174e-01  1.32638590e+00\n",
            " -6.94567860e-01 -1.49634540e-01 -4.35153552e-01  1.84926373e+00\n",
            "  6.72294757e-01  4.07461836e-01 -7.69916074e-01  5.39249191e-01\n",
            " -6.74332661e-01  3.18305583e-02 -6.35846078e-01  6.76433295e-01\n",
            "  5.76590817e-01 -2.08298756e-01  3.96006713e-01 -1.09306151e+00\n",
            " -1.49125759e+00  4.39391701e-01  1.66673495e-01  6.35031437e-01\n",
            "  2.38314477e+00  9.44479487e-01 -9.12822225e-01  1.11701629e+00\n",
            " -1.31590741e+00 -4.61584605e-01 -6.82416053e-02  1.71334272e+00\n",
            " -7.44754822e-01 -8.26438539e-01 -9.84525244e-02 -6.63478286e-01\n",
            "  1.12663592e+00 -1.07993151e+00 -1.14746865e+00 -4.37820045e-01\n",
            " -4.98032451e-01  1.92953205e+00  9.49420807e-01  8.75512414e-02\n",
            " -1.22543552e+00  8.44362976e-01 -1.00021535e+00 -1.54477110e+00\n",
            "  1.18802979e+00  3.16942612e-01  9.20858824e-01  3.18727653e-01\n",
            "  8.56830612e-01 -6.51025593e-01 -1.03424284e+00  6.81594518e-01\n",
            " -8.03409664e-01 -6.89549778e-01 -4.55532504e-01  1.74791590e-02\n",
            " -3.53993911e-01 -1.37495129e+00 -6.43618403e-01 -2.22340315e+00\n",
            "  6.25231451e-01 -1.60205766e+00 -1.10438334e+00  5.21650793e-02\n",
            " -7.39562996e-01  1.54301460e+00 -1.29285691e+00  2.67050869e-01\n",
            " -3.92828182e-02 -1.16809350e+00  5.23276661e-01 -1.71546331e-01\n",
            "  7.71790551e-01  8.23504154e-01  2.16323595e+00  1.33652795e+00\n",
            " -3.69181838e-01 -2.39379178e-01  1.09965960e+00  6.55263731e-01\n",
            "  6.40131526e-01 -1.61695604e+00 -2.43261244e-02 -7.38030909e-01\n",
            "  2.79924599e-01 -9.81503896e-02  9.10178908e-01  3.17218215e-01\n",
            "  7.86327962e-01 -4.66419097e-01 -9.44446256e-01 -4.10049693e-01\n",
            " -1.70204139e-02  3.79151736e-01  2.25930895e+00 -4.22571517e-02\n",
            " -9.55945000e-01 -3.45981776e-01 -4.63595975e-01  4.81481474e-01\n",
            " -1.54079701e+00  6.32619942e-02  1.56506538e-01  2.32181036e-01\n",
            " -5.97316069e-01 -2.37921730e-01 -1.42406091e+00 -4.93319883e-01\n",
            " -5.42861476e-01  4.16050046e-01 -1.15618243e+00  7.81198102e-01\n",
            "  1.49448454e+00 -2.06998503e+00  4.26258731e-01  6.76908035e-01\n",
            " -6.37437026e-01 -3.97271814e-01 -1.32880578e-01 -2.97790879e-01\n",
            " -3.09012969e-01 -1.67600381e+00  1.15233156e+00  1.07961859e+00\n",
            " -8.13364259e-01 -1.46642433e+00  5.21064876e-01 -5.75787970e-01\n",
            "  1.41953163e-01 -3.19328417e-01  6.91538751e-01  6.94749144e-01\n",
            " -7.25597378e-01 -1.38336396e+00 -1.58293840e+00  6.10379379e-01\n",
            " -1.18885926e+00 -5.06816354e-01 -5.96314038e-01 -5.25672963e-02\n",
            " -1.93627981e+00  1.88778597e-01  5.23891024e-01  8.84220870e-02\n",
            " -3.10886172e-01  9.74001663e-02  3.99046346e-01 -2.77259276e+00\n",
            "  1.95591231e+00  3.90093323e-01 -6.52408582e-01 -3.90953375e-01\n",
            "  4.93741777e-01 -1.16103939e-01 -2.03068447e+00  2.06449286e+00\n",
            " -1.10540657e-01  1.02017271e+00 -6.92049848e-01  1.53637705e+00\n",
            "  2.86343689e-01  6.08843834e-01 -1.04525337e+00  1.21114529e+00\n",
            "  6.89818165e-01  1.30184623e+00 -6.28087560e-01 -4.81027118e-01\n",
            "  2.30391670e+00 -1.06001582e+00 -1.35949701e-01  1.13689136e+00\n",
            "  9.77249677e-02  5.82953680e-01 -3.99449029e-01  3.70055888e-01\n",
            " -1.30652685e+00  1.65813068e+00 -1.18164045e-01 -6.80178204e-01\n",
            "  6.66383082e-01 -4.60719787e-01 -1.33425847e+00 -1.34671751e+00\n",
            "  6.93773153e-01 -1.59573438e-01 -1.33701560e-01  1.07774381e+00\n",
            " -1.12682581e+00 -7.30677753e-01 -3.84879809e-01  9.43515893e-02\n",
            " -4.21714513e-02 -2.86887192e-01 -6.16264021e-02 -1.07305276e-01\n",
            " -7.19604389e-01 -8.12992989e-01  2.74516358e-01 -8.90915083e-01\n",
            " -1.15735526e+00 -3.12292251e-01 -1.57667016e-01  2.25672350e+00\n",
            " -7.04700276e-01  9.43260725e-01  7.47188334e-01 -1.18894496e+00\n",
            "  7.73252977e-01 -1.18388064e+00 -2.65917224e+00  6.06319524e-01\n",
            " -1.75589058e+00  4.50934462e-01 -6.84010898e-01  1.65955080e+00\n",
            "  1.06850940e+00 -4.53385804e-01 -6.87837611e-01 -1.21407740e+00\n",
            " -4.40922632e-01 -2.80355495e-01 -3.64693544e-01  1.56703855e-01\n",
            "  5.78521498e-01  3.49654457e-01 -7.64143924e-01 -1.43779147e+00\n",
            "  1.36453185e+00 -6.89449185e-01 -6.52293600e-01 -5.21189312e-01\n",
            " -1.84306955e+00 -4.77974004e-01 -4.79655814e-01  6.20358298e-01\n",
            "  6.98457149e-01  3.77088909e-03  9.31848374e-01  3.39964984e-01\n",
            " -1.56821116e-02  1.60928168e-01 -1.90653494e-01 -3.94849514e-01\n",
            " -2.67733537e-01 -1.12801133e+00  2.80441705e-01 -9.93123611e-01\n",
            "  8.41631264e-01 -2.49458580e-01  4.94949817e-02  4.93836776e-01\n",
            "  6.43314465e-01 -1.57062341e+00 -2.06903676e-01  8.80178912e-01\n",
            " -1.69810582e+00  3.87280475e-01 -2.25556423e+00 -1.02250684e+00\n",
            "  3.86305518e-02 -1.65671510e+00 -9.85510738e-01 -1.47183501e+00\n",
            "  1.64813493e+00  1.64227755e-01  5.67290278e-01 -2.22675101e-01\n",
            " -3.53431749e-01 -1.61647419e+00 -2.91837363e-01 -7.61492212e-01\n",
            "  8.57923924e-01  1.14110187e+00  1.46657872e+00  8.52551939e-01\n",
            " -5.98653937e-01 -1.11589699e+00  7.66663182e-01  3.56292817e-01\n",
            " -1.76853845e+00  3.55481793e-01  8.14519822e-01  5.89255892e-02\n",
            " -1.85053671e-01 -8.07648488e-01 -1.44653470e+00  8.00297949e-01\n",
            " -3.09114445e-01 -2.33466662e-01  1.73272119e+00  6.84501107e-01\n",
            "  3.70825001e-01  1.42061805e-01  1.51999486e+00  1.71958931e+00\n",
            "  9.29505111e-01  5.82224591e-01 -2.09460307e+00  1.23721914e-01\n",
            " -1.30106954e-01  9.39532294e-02  9.43046087e-01 -2.73967717e+00\n",
            " -5.69312053e-01  2.69904355e-01 -4.66845546e-01 -1.41690611e+00\n",
            "  8.68963487e-01  2.76871906e-01 -9.71104570e-01  3.14817205e-01\n",
            "  8.21585712e-01  5.29264630e-03  8.00564803e-01  7.82601752e-02\n",
            " -3.95228983e-01 -1.15942052e+00 -8.59307670e-02  1.94292938e-01\n",
            "  8.75832762e-01 -1.15107468e-01  4.57415606e-01 -9.64612014e-01\n",
            " -7.82629156e-01 -1.10389299e-01 -1.05462846e+00  8.20247837e-01\n",
            "  4.63130329e-01  2.79095764e-01  3.38904125e-01  2.02104356e+00\n",
            " -4.68864188e-01 -2.20144129e+00  1.99300197e-01 -5.06035410e-02\n",
            " -5.17519043e-01 -9.78829859e-01 -4.39189522e-01  1.81338429e-01\n",
            " -5.02816701e-01  2.41245368e+00 -9.60504382e-01 -7.93117363e-01\n",
            " -2.28862004e+00  2.51484415e-01 -2.01640663e+00 -5.39454633e-01\n",
            " -2.75670535e-01 -7.09727966e-01  1.73887268e+00  9.94394391e-01\n",
            "  1.31913688e+00 -8.82418819e-01  1.12859406e+00  4.96000946e-01\n",
            "  7.71405949e-01  1.02943883e+00 -9.08763246e-01 -4.24317621e-01\n",
            "  8.62596011e-01 -2.65561909e+00  1.51332808e+00  5.53132064e-01\n",
            " -4.57039607e-02  2.20507656e-01 -1.02993528e+00 -3.49943365e-01\n",
            "  1.10028434e+00  1.29802197e+00  2.69622405e+00 -7.39246663e-02\n",
            " -6.58552967e-01 -5.14233966e-01 -1.01804188e+00 -7.78547559e-02\n",
            "  3.82732430e-01 -3.42422805e-02  1.09634685e+00 -2.34215801e-01\n",
            " -3.47450652e-01 -5.81268477e-01 -1.63263453e+00 -1.56776772e+00\n",
            " -1.17915793e+00  1.30142807e+00  8.95260273e-01  1.37496407e+00\n",
            " -1.33221165e+00 -1.96862469e+00 -6.60056320e-01  1.75818953e-01\n",
            "  4.98690275e-01  1.04797216e+00  2.84279671e-01  1.74266878e+00\n",
            " -2.22605681e-01 -9.13079218e-01 -1.68121822e+00 -8.88971358e-01\n",
            "  2.42117961e-01 -8.88720257e-01  9.36742464e-01  1.41232771e+00\n",
            " -2.36958691e+00  8.64052300e-01 -2.23960406e+00  4.01499055e-01\n",
            "  1.22487056e+00  6.48561063e-02 -1.27968917e+00 -5.85431204e-01\n",
            " -2.61645446e-01 -1.82244784e-01 -2.02896841e-01 -1.09882779e-01\n",
            "  2.13480049e-01 -1.20857365e+00 -2.42019830e-01  1.51826117e+00\n",
            " -3.84645423e-01 -4.43836093e-01  1.07819730e+00 -2.55918467e+00\n",
            "  1.18137860e+00 -6.31903758e-01  1.63928572e-01  9.63213559e-02\n",
            "  9.42468119e-01 -2.67594746e-01 -6.78025782e-01  1.29784579e+00\n",
            " -2.36417382e+00  2.03341817e-02 -1.34792542e+00 -7.61573388e-01\n",
            "  2.01125668e+00 -4.45954265e-02  1.95069697e-01 -1.78156286e+00\n",
            " -7.29044659e-01  1.96557401e-01  3.54757693e-01  6.16886554e-01\n",
            "  8.62789892e-03  5.27004208e-01  4.53781913e-01 -1.82974041e+00\n",
            "  3.70057219e-02  7.67902408e-01  5.89879821e-01 -3.63858810e-01\n",
            " -8.05626508e-01 -1.11831192e+00 -1.31054012e-01  1.13307988e+00\n",
            " -1.95180410e+00 -6.59891730e-01 -1.13980246e+00  7.84957521e-01\n",
            " -5.54309627e-01 -4.70637658e-01 -2.16949570e-01  4.45393251e-01\n",
            " -3.92388998e-01 -3.04614305e+00  5.43311891e-01  4.39042958e-01\n",
            " -2.19541028e-01 -1.08403662e+00  3.51780111e-01  3.79235534e-01\n",
            " -4.70032883e-01 -2.16731471e-01 -9.30156503e-01 -1.78589092e-01\n",
            " -1.55042935e+00  4.17318821e-01 -9.44368491e-01  2.38103148e-01\n",
            " -1.40596292e+00 -5.90057646e-01 -1.10489405e-01 -1.66069981e+00\n",
            "  1.15147873e-01 -3.79147563e-01 -1.74235620e+00 -1.30324275e+00\n",
            "  6.05120084e-01  8.95555986e-01 -1.31908640e-01  4.04761812e-01\n",
            "  2.23843563e-01  3.29622982e-01  1.28598401e+00 -1.50699840e+00\n",
            "  6.76460732e-01 -3.82008956e-01 -2.24258934e-01 -3.02249730e-01\n",
            " -3.75147117e-01 -1.22619619e+00  1.83339199e-01  1.67094303e+00\n",
            " -5.61330204e-02 -1.38504274e-03 -6.87299037e-01 -1.17474546e-01\n",
            "  4.66166426e-01 -3.70242441e-01 -4.53804041e-01  4.03264540e-01\n",
            " -9.18004770e-01  2.52496627e-01  8.20321797e-01  1.35994854e+00\n",
            " -9.03820073e-02  1.36759724e+00  1.03440989e+00 -9.96212640e-01\n",
            " -1.21793851e+00 -3.04963638e-01  1.02893549e+00 -7.22870076e-02\n",
            " -6.00657558e-01  1.55224318e+00  2.86904488e-01 -2.32059428e+00\n",
            "  3.17160626e-01  5.20040615e-01  2.25608654e-01  4.49712100e-01\n",
            " -6.72756089e-02 -1.31839587e+00 -3.70704003e-01 -9.45615796e-01\n",
            " -9.32740911e-01 -1.26306835e+00  4.52489093e-01  9.78961454e-02\n",
            " -4.48165363e-01 -6.49337928e-01 -2.34231050e-02  1.07919473e+00\n",
            " -2.00421572e+00  3.76876521e-01 -5.45711974e-01 -1.88458584e+00\n",
            " -1.94570308e+00 -9.12783494e-01  2.19509556e-01  3.93062934e-01\n",
            " -9.38981573e-01  1.01702099e+00  1.42298350e+00  3.96086585e-01\n",
            " -5.91402668e-01  1.12441918e+00  7.55395696e-01  8.67407411e-01\n",
            " -6.56463675e-01 -2.83455451e+00  2.11679102e+00 -1.61087840e+00\n",
            " -3.57680719e-02  2.38074535e+00  3.30576756e-01  9.49246474e-01\n",
            " -1.50239657e+00 -1.77766695e+00 -5.32702792e-01  1.09074973e+00\n",
            " -3.46249448e-01 -7.94636321e-01  1.97967290e-01  1.08193522e+00\n",
            " -1.44494020e+00 -1.21054299e+00 -7.88669255e-01  1.09463837e+00\n",
            "  2.34821526e-01  2.13215341e+00  9.36445726e-01 -3.50951769e-02\n",
            "  1.26507784e+00  2.11497013e-01 -7.04921353e-01  6.79974844e-01\n",
            " -6.96326654e-01 -2.90397101e-01  1.32778270e+00 -1.01281486e-01\n",
            " -8.03141387e-01 -4.64337691e-01  1.02179059e+00 -5.52540673e-01\n",
            " -3.86870847e-01 -5.10292740e-01  1.83925494e-01 -3.85489760e-01\n",
            " -1.60183605e+00 -8.87180942e-01 -9.32789042e-01  1.24331938e+00\n",
            "  8.12674042e-01  5.87259379e-01 -5.05358317e-01 -8.15791542e-01\n",
            " -5.07517602e-01 -1.05188010e+00  2.49720039e+00 -2.24532165e+00\n",
            "  5.64008535e-01 -1.28455230e+00 -1.04343491e-01 -9.88001942e-01\n",
            " -1.17762896e+00 -1.14019630e+00  1.75498615e+00 -1.32988422e-01\n",
            " -7.65702194e-01  5.55786964e-01  1.03493146e-02  7.20033759e-01\n",
            " -1.82425666e+00  3.03603904e-01  7.72694837e-01 -1.66159829e+00\n",
            "  4.48195284e-01  1.69618157e+00 -1.48577034e-02  8.21405937e-01\n",
            "  6.70570450e-01 -7.07505698e-01  3.97667346e-02 -1.56699471e+00\n",
            " -4.51303037e-01  2.65687975e-01  7.23100494e-01  2.46121252e-02\n",
            "  7.19983730e-01 -1.10290621e+00 -1.01697275e-01  1.92793845e-02\n",
            "  1.84959125e+00 -2.14166656e-01 -4.99016638e-01  2.13512238e-02\n",
            " -9.19113445e-01  1.92753849e-01 -3.65055217e-01 -1.79132755e+00\n",
            " -5.85865511e-02 -3.17543094e-01 -1.63242330e+00 -6.71341546e-02\n",
            "  1.48935596e+00  5.21303748e-01  6.11927193e-01 -1.34149673e+00\n",
            "  4.76898369e-01  1.48449581e-01  5.29045238e-01  4.22628622e-01\n",
            " -1.35978073e+00 -4.14008116e-02 -7.57870860e-01 -5.00840943e-02\n",
            " -8.97400927e-01  1.31247037e+00 -8.58972388e-01 -8.98942156e-01\n",
            "  7.45864065e-02 -1.07709907e+00 -4.24663302e-01 -8.29964598e-01\n",
            "  1.41117206e+00  7.85803827e-01 -5.74695185e-02 -3.91217052e-01\n",
            "  9.40917615e-01  4.05204080e-01  4.98052405e-01 -2.61922373e-02\n",
            " -1.68823003e+00 -1.12465983e-01 -5.32489919e-01  6.45055273e-01\n",
            "  1.01184243e+00 -6.57951045e-01  4.68385234e-01  1.73587900e+00\n",
            " -6.67712721e-01  1.68192174e+00 -8.52585847e-01  2.29597556e-02\n",
            " -1.11456118e-02  1.14988999e-02 -8.37678042e-01 -5.91183104e-01\n",
            " -6.67720286e-01  3.26962595e-01  3.30035115e-01  2.22594433e+00\n",
            "  1.37098901e+00 -5.09843242e-01  3.24869616e-01  9.97117981e-01\n",
            "  3.06018243e-02 -6.96415784e-02  5.15749428e-02  8.67276629e-01\n",
            " -8.48320523e-01 -3.25669469e-01  4.70433145e-01  3.11447072e-01\n",
            "  2.39582760e-01 -3.69801166e-01  9.72535789e-01  2.13386825e+00\n",
            "  4.06415494e-01 -1.93176702e-01  7.55740289e-01 -5.39132637e-01\n",
            " -7.49690345e-01  3.28087476e-02 -2.58279663e+00 -1.15395036e+00\n",
            " -3.47961856e-01 -1.35338886e+00 -1.03264310e+00 -4.36748337e-01\n",
            " -1.64296529e+00 -4.06071796e-01 -5.35270165e-01  2.54052084e-02\n",
            "  1.15418403e+00  1.72504416e-01  2.10620213e-02  9.94544570e-02\n",
            "  2.27392775e-01 -1.01673865e+00 -1.14775325e-01  3.08751242e-01\n",
            " -1.37075998e+00  8.65652923e-01  1.08137603e+00 -6.31375988e-01\n",
            " -2.41337791e-01 -8.78190343e-01  6.99380484e-01 -1.06122229e+00\n",
            " -2.22477010e-01 -8.58919908e-01  5.09542770e-02 -1.79422927e+00\n",
            "  1.32646164e+00 -9.64606424e-01  5.98946831e-02 -2.12523045e-01\n",
            " -7.62114512e-01 -8.87780137e-01  9.36398544e-01 -5.25640593e-01\n",
            "  2.71170185e-01 -8.01496885e-01 -6.47181432e-01  4.72247150e-01\n",
            "  9.30408496e-01 -1.75316402e-01 -1.42191987e+00  1.99795608e+00\n",
            " -8.56549308e-01 -1.54158740e+00  2.59442459e+00 -4.04032294e-01\n",
            " -1.46173269e+00 -6.83439767e-01  3.67544896e-01  1.90311558e-01\n",
            " -8.51729197e-01  1.82272360e+00 -5.21579678e-01 -1.18468659e+00\n",
            "  9.60693398e-01  1.32906285e+00 -8.17493098e-01 -1.40134729e+00\n",
            "  1.03043827e+00 -2.04732361e+00 -1.22662166e+00  9.67446150e-01\n",
            " -5.53525480e-02 -2.63937349e-01  3.52816606e-01 -1.52774424e-01\n",
            " -1.29868672e+00  1.27607535e+00  1.32501405e+00  2.05332564e-01\n",
            "  4.51340154e-02  2.33962481e+00 -2.76432845e-01 -2.59576982e-01\n",
            "  3.64481249e-01  1.47132196e+00  1.59277075e+00 -2.58572632e-01\n",
            "  3.08331246e-01 -1.37808347e+00 -3.11976108e-01 -8.40290395e-01\n",
            " -1.00683175e+00  1.68157672e+00 -7.92286662e-01 -5.31605908e-01\n",
            "  3.65848788e-01  1.29782527e+00  4.81115126e-01  2.75935511e+00\n",
            " -7.46679783e-02  2.58716440e-01  2.75600674e-01  1.43504939e+00\n",
            "  5.07238951e-01 -1.16229700e-01 -9.47488595e-01  2.44443456e-01\n",
            "  1.40134483e+00 -4.10381794e-01  5.28943618e-01  2.46147789e-01\n",
            "  8.63519658e-01 -8.04753741e-01  2.34664703e+00 -1.27916111e+00\n",
            " -3.65551090e-01  9.38092541e-01  2.96733172e-01  8.29986159e-01\n",
            " -4.96102334e-01 -7.48049827e-02  1.22319836e-02  1.56925961e+00\n",
            "  6.90429024e-01  7.96672108e-01 -6.57926093e-01  9.68882639e-01\n",
            "  2.25581664e-01  1.38914532e+00  2.01406015e+00 -3.06765776e-01\n",
            " -4.06303130e-01 -8.64044991e-01 -1.43579512e-01 -3.82025449e-01\n",
            "  3.59504400e-01 -1.44566817e-01 -3.61599281e-01  1.06458514e+00\n",
            " -9.37880231e-01  4.33107953e-01 -4.05941727e-01  7.24368505e-01\n",
            "  1.38526155e+00 -3.03098253e-01  4.41032907e-01  1.78792866e-01\n",
            " -7.99422400e-01  2.40787510e-01  2.89120505e-01  4.12870820e-01\n",
            " -1.98398897e-01  9.41923003e-02 -1.14761094e+00 -3.58114075e-01]\n"
          ]
        }
      ],
      "source": [
        "print(x)"
      ]
    },
    {
      "cell_type": "markdown",
      "metadata": {
        "id": "0VjybpqJdh-b"
      },
      "source": [
        "The first statement sets the seed of the NumPy random number generator with seed(),sehingga Anda bisa mendapatkan hasil yang sama setiap kali Anda menjalankan kode. Anda tidak harus sets the seed, tetapi jika Anda tidak menentukan nilai ini, maka Anda akan mendapatkan hasil yang berbeda setiap kali.\n",
        "\n",
        "Pernyataan lain menghasilkan tiga array NumPy dengan nomor pseudo-acak terdistribusi normal. x mengacu pada larik dengan 1000 item, y memiliki 100, dan z berisi 10 item. Sekarang setelah Anda memiliki data untuk dikerjakan, Anda dapat menerapkan .boxplot() untuk mendapatkan plot kotak:"
      ]
    },
    {
      "cell_type": "code",
      "execution_count": 110,
      "metadata": {
        "colab": {
          "base_uri": "https://localhost:8080/",
          "height": 320
        },
        "id": "dzmYh_O2eHvY",
        "outputId": "6447cfa5-2ed2-4f3d-bbed-edbbeeeda853"
      },
      "outputs": [
        {
          "data": {
            "image/png": "[encoded data removed]",
            "text/plain": [
              "<Figure size 640x480 with 1 Axes>"
            ]
          },
          "metadata": {},
          "output_type": "display_data"
        }
      ],
      "source": [
        "fig, ax = plt.subplots()\n",
        "ax.boxplot((x, y, z), vert=False, showmeans=True, meanline=True,           labels=('x', 'y', 'z'), patch_artist=True,           medianprops={'linewidth': 2, 'color': 'purple'},           meanprops={'linewidth': 2, 'color': 'red'})\n",
        "plt.show()"
      ]
    },
    {
      "cell_type": "markdown",
      "metadata": {
        "id": "MTZdLm4Pdh3y"
      },
      "source": [
        "The parameters of .boxplot() define the following:\n",
        "\n",
        "x adalah data. \n",
        "vert mengatur orientasi plot ke horizontal ketika False. Orientasi default adalah vertikal. showmeans menunjukkan rata-rata data Anda ketika Benar. meanline mewakili mean sebagai garis ketika Benar. Representasi default adalah titik. labels: label data Anda. patch_artist menentukan cara menggambar grafik. medianprops menunjukkan sifat-sifat garis yang mewakili median. meanprops menunjukkan sifat-sifat garis atau titik yang mewakili mean. Kode di atas menghasilkan gambar seperti ini:"
      ]
    },
    {
      "cell_type": "markdown",
      "metadata": {
        "id": "vpIL-B8Odhyw"
      },
      "source": [
        "Anda dapat melihat tiga plot kotak. Masing-masing sesuai dengan satu set data (x, y, atau z) dan menunjukkan hal berikut:\n",
        "\n",
        "Berarti adalah garis putus-putus merah. Median adalah garis ungu. Kuartil pertama adalah tepi kiri persegi panjang biru. Kuartil ketiga adalah tepi kanan persegi panjang biru. Jangkauan antarkuartil adalah panjang persegi panjang biru. Rentang berisi semuanya dari kiri ke kanan. Outlier adalah titik-titik di kiri dan kanan. Plot kotak dapat menampilkan begitu banyak informasi dalam satu gambar!\n",
        "\n",
        "Histogram Histogram sangat berguna ketika ada sejumlah besar nilai unik dalam kumpulan data. Histogram membagi nilai dari kumpulan data yang diurutkan ke dalam interval, juga disebut bin. Seringkali, semua tempat sampah memiliki lebar yang sama, meskipun hal ini tidak harus terjadi. Nilai batas bawah dan atas bin disebut tepi bin.\n",
        "\n",
        "Frekuensi adalah nilai tunggal yang sesuai dengan setiap bin. Ini adalah jumlah elemen dataset dengan nilai di antara tepi bin. Secara konvensi, semua tempat sampah kecuali yang paling kanan setengah terbuka. Mereka menyertakan nilai yang sama dengan batas bawah, tetapi mengecualikan nilai yang sama dengan batas atas. Bin paling kanan ditutup karena mencakup kedua batas. Jika Anda membagi dataset dengan tepi bin 0, 5, 10, dan 15, maka ada tiga bin:\n",
        "\n",
        "Bin pertama dan paling kiri berisi nilai lebih besar atau sama dengan 0 dan kurang dari 5. Bin kedua berisi nilai lebih besar atau sama dengan 5 dan kurang dari 10. Bin ketiga dan paling kanan berisi nilai lebih besar atau sama dengan 10 dan kurang dari atau sama dengan 15. Fungsi np.histogram() adalah cara mudah untuk mendapatkan data untuk histogram:\n",
        "\n"
      ]
    },
    {
      "cell_type": "code",
      "execution_count": 111,
      "metadata": {
        "colab": {
          "base_uri": "https://localhost:8080/"
        },
        "id": "M8u90I--MjpF",
        "outputId": "88dbbb8e-d78a-4931-bba3-6311ff56a313"
      },
      "outputs": [
        {
          "data": {
            "text/plain": [
              "array([  9,  20,  70, 146, 217, 239, 160,  86,  38,  15])"
            ]
          },
          "execution_count": 111,
          "metadata": {},
          "output_type": "execute_result"
        }
      ],
      "source": [
        "hist, bin_edges = np.histogram(x, bins=10)\n",
        "hist \n"
      ]
    },
    {
      "cell_type": "code",
      "execution_count": 112,
      "metadata": {
        "colab": {
          "base_uri": "https://localhost:8080/"
        },
        "id": "dd1q5K_sMrb-",
        "outputId": "6c7ec37f-810b-480f-fa54-8a2e0208e99d"
      },
      "outputs": [
        {
          "data": {
            "text/plain": [
              "array([-3.04614305, -2.46559324, -1.88504342, -1.3044936 , -0.72394379,\n",
              "       -0.14339397,  0.43715585,  1.01770566,  1.59825548,  2.1788053 ,\n",
              "        2.75935511])"
            ]
          },
          "execution_count": 112,
          "metadata": {},
          "output_type": "execute_result"
        }
      ],
      "source": [
        "bin_edges"
      ]
    },
    {
      "cell_type": "markdown",
      "metadata": {
        "id": "EMykZNtoMiaU"
      },
      "source": [
        "Dibutuhkan array dengan data Anda dan jumlah (atau tepi) tempat sampah dan mengembalikan dua array NumPy:\n",
        "\n",
        "hist berisi frekuensi atau jumlah item yang sesuai dengan setiap bin.\n",
        "bin_edges berisi tepi atau batas bin.\n",
        "Apa yang dihitung histogram(), .hist() dapat ditampilkan secara grafis:"
      ]
    },
    {
      "cell_type": "code",
      "execution_count": 113,
      "metadata": {
        "colab": {
          "base_uri": "https://localhost:8080/",
          "height": 286
        },
        "id": "fwEZYQtZd96f",
        "outputId": "f771e7ad-8025-4918-e428-214381516b82"
      },
      "outputs": [
        {
          "data": {
            "image/png": "[encoded data removed]",
            "text/plain": [
              "<Figure size 640x480 with 1 Axes>"
            ]
          },
          "metadata": {},
          "output_type": "display_data"
        }
      ],
      "source": [
        "fig, ax = plt.subplots()\n",
        "ax.hist(x, bin_edges, cumulative=False)\n",
        "ax.set_xlabel('x')\n",
        "ax.set_ylabel('Frequency')\n",
        "plt.show()"
      ]
    },
    {
      "cell_type": "markdown",
      "metadata": {
        "id": "6Bxmp6MsdhvR"
      },
      "source": [
        "Argumen pertama .hist() adalah urutan dengan data Anda. Argumen kedua mendefinisikan tepi tempat sampah. Yang ketiga menonaktifkan opsi untuk membuat histogram dengan nilai kumulatif. Kode di atas menghasilkan gambar seperti ini:"
      ]
    },
    {
      "cell_type": "markdown",
      "metadata": {
        "id": "U7gVPNEydhrO"
      },
      "source": [
        "Anda dapat melihat tepi bin pada sumbu horizontal dan frekuensi pada sumbu vertikal.\n",
        "\n",
        "Dimungkinkan untuk mendapatkan histogram dengan jumlah item kumulatif jika Anda memberikan argumen kumulatif=True ke .hist():"
      ]
    },
    {
      "cell_type": "code",
      "execution_count": null,
      "metadata": {
        "colab": {
          "base_uri": "https://localhost:8080/",
          "height": 282
        },
        "id": "StWJxxIZd4Ww",
        "outputId": "a47f613d-262f-48e0-d9b3-143fc9f06552"
      },
      "outputs": [
        {
          "data": {
            "image/png": "[encoded data removed]",
            "text/plain": [
              "<Figure size 432x288 with 1 Axes>"
            ]
          },
          "metadata": {},
          "output_type": "display_data"
        }
      ],
      "source": [
        "fig, ax = plt.subplots()\n",
        "ax.hist(x, bin_edges, cumulative=True)\n",
        "ax.set_xlabel('x')\n",
        "ax.set_ylabel('Frequency')\n",
        "plt.show()"
      ]
    },
    {
      "cell_type": "markdown",
      "metadata": {
        "id": "swrhToFXdhmY"
      },
      "source": [
        "Ini menunjukkan histogram dengan nilai kumulatif. Frekuensi bin pertama dan paling kiri adalah jumlah item dalam bin ini. Frekuensi bin kedua adalah jumlah dari jumlah item di bin pertama dan kedua. Tempat sampah lainnya mengikuti pola yang sama. Akhirnya, frekuensi bin terakhir dan paling kanan adalah jumlah total item dalam dataset (dalam hal ini, 1000). Anda juga dapat langsung menggambar histogram dengan pd.Series.hist() menggunakan matplotlib di latar belakang.\n",
        "\n",
        "## Pie Charts\n",
        "Diagram lingkaran mewakili data dengan sejumlah kecil label dan frekuensi relatif yang diberikan. Mereka bekerja dengan baik bahkan dengan label yang tidak dapat dipesan (seperti data nominal). Diagram lingkaran adalah lingkaran yang dibagi menjadi beberapa bagian. Setiap irisan sesuai dengan satu label berbeda dari kumpulan data dan memiliki luas yang sebanding dengan frekuensi relatif yang terkait dengan label tersebut.\n",
        "\n",
        "Mari kita definisikan data yang terkait dengan tiga label:"
      ]
    },
    {
      "cell_type": "code",
      "execution_count": 114,
      "metadata": {
        "id": "0SWTiBNwdvfk"
      },
      "outputs": [],
      "source": [
        "# Now, create a pie chart with .pie():\n",
        "x, y, z = 128, 256, 1024\n"
      ]
    },
    {
      "cell_type": "code",
      "execution_count": 115,
      "metadata": {
        "colab": {
          "base_uri": "https://localhost:8080/",
          "height": 248
        },
        "id": "BhzlEfzKdsvw",
        "outputId": "65ab225a-91f2-477d-ef95-dbcb1e4a77c6"
      },
      "outputs": [
        {
          "data": {
            "image/png": "[encoded data removed]",
            "text/plain": [
              "<Figure size 640x480 with 1 Axes>"
            ]
          },
          "metadata": {},
          "output_type": "display_data"
        }
      ],
      "source": [
        "fig, ax = plt.subplots()\n",
        "ax.pie((x, y, z), labels=('x', 'y', 'z'), autopct='%1.1f%%')\n",
        "plt.show()"
      ]
    },
    {
      "cell_type": "markdown",
      "metadata": {
        "id": "GdkfQHGOdhis"
      },
      "source": [
        "The first argument of .pie() is your data, and the second is the sequence of the corresponding labels. autopct defines the format of the relative frequencies shown on the figure. You’ll get a figure that looks like this:"
      ]
    },
    {
      "cell_type": "markdown",
      "metadata": {
        "id": "xlEwE-37dhSa"
      },
      "source": [
        "Pie Charts menunjukkan x sebagai bagian terkecil dari lingkaran, y sebagai bagian terbesar berikutnya, dan kemudian z sebagai bagian terbesar. Persentase menunjukkan ukuran relatif dari setiap nilai dibandingkan dengan jumlah mereka.\n",
        "\n",
        "# Bar Charts\n",
        "Bagan batang juga menggambarkan data yang sesuai dengan label yang diberikan atau nilai numerik diskrit. Mereka dapat menunjukkan pasangan data dari dua kumpulan data. Item dari satu set adalah label, sedangkan item yang sesuai dari yang lain adalah frekuensinya. Secara opsional, mereka juga dapat menunjukkan kesalahan yang terkait dengan frekuensi.\n",
        "\n",
        "Diagram batang menunjukkan persegi panjang paralel yang disebut batang. Setiap batang sesuai dengan satu label dan memiliki tinggi yang sebanding dengan frekuensi atau frekuensi relatif labelnya. Mari kita buat tiga set data, masing-masing dengan 21 item:\n"
      ]
    },
    {
      "cell_type": "code",
      "execution_count": 119,
      "metadata": {
        "id": "1tlyeVUPM7F8"
      },
      "outputs": [],
      "source": [
        "x = np.arange(21)\n",
        "y = np.random.randint(21, size=21)\n",
        "err = np.random.randn(21)\n"
      ]
    },
    {
      "cell_type": "markdown",
      "metadata": {
        "id": "D5p6TKE3M5wV"
      },
      "source": [
        "Anda menggunakan np.arange() untuk mendapatkan x, atau larik bilangan bulat berurutan dari 0 hingga 20. Anda akan menggunakan ini untuk mewakili label. y adalah larik bilangan bulat acak terdistribusi seragam, juga antara 0 dan 20. Larik ini akan mewakili frekuensi. err berisi angka floating-point terdistribusi normal, yang merupakan kesalahan. Nilai-nilai ini opsional.\n",
        "\n",
        "Anda dapat membuat diagram batang dengan .bar() jika Anda menginginkan batang vertikal atau .barh() jika Anda ingin batang horizontal:"
      ]
    },
    {
      "cell_type": "code",
      "execution_count": 120,
      "metadata": {
        "colab": {
          "base_uri": "https://localhost:8080/",
          "height": 282
        },
        "id": "-xI5hb7xdkVd",
        "outputId": "5d5855c4-4f2d-4420-fa3e-6f98c2b9fc39"
      },
      "outputs": [
        {
          "ename": "ValueError",
          "evalue": "'yerr' must not contain negative values",
          "output_type": "error",
          "traceback": [
            "\u001b[0;31m---------------------------------------------------------------------------\u001b[0m",
            "\u001b[0;31mValueError\u001b[0m                                Traceback (most recent call last)",
            "Cell \u001b[0;32mIn[120], line 2\u001b[0m\n\u001b[1;32m      1\u001b[0m fig, ax \u001b[39m=\u001b[39m plt\u001b[39m.\u001b[39msubplots()\n\u001b[0;32m----> 2\u001b[0m ax\u001b[39m.\u001b[39;49mbar(x, y, yerr\u001b[39m=\u001b[39;49merr)\n\u001b[1;32m      3\u001b[0m ax\u001b[39m.\u001b[39mset_xlabel(\u001b[39m'\u001b[39m\u001b[39mx\u001b[39m\u001b[39m'\u001b[39m)\n\u001b[1;32m      4\u001b[0m ax\u001b[39m.\u001b[39mset_ylabel(\u001b[39m'\u001b[39m\u001b[39my\u001b[39m\u001b[39m'\u001b[39m)\n",
            "File \u001b[0;32m~/.pyenv/versions/3.10.8/lib/python3.10/site-packages/matplotlib/__init__.py:1442\u001b[0m, in \u001b[0;36m_preprocess_data.<locals>.inner\u001b[0;34m(ax, data, *args, **kwargs)\u001b[0m\n\u001b[1;32m   1439\u001b[0m \u001b[39m@functools\u001b[39m\u001b[39m.\u001b[39mwraps(func)\n\u001b[1;32m   1440\u001b[0m \u001b[39mdef\u001b[39;00m \u001b[39minner\u001b[39m(ax, \u001b[39m*\u001b[39margs, data\u001b[39m=\u001b[39m\u001b[39mNone\u001b[39;00m, \u001b[39m*\u001b[39m\u001b[39m*\u001b[39mkwargs):\n\u001b[1;32m   1441\u001b[0m     \u001b[39mif\u001b[39;00m data \u001b[39mis\u001b[39;00m \u001b[39mNone\u001b[39;00m:\n\u001b[0;32m-> 1442\u001b[0m         \u001b[39mreturn\u001b[39;00m func(ax, \u001b[39m*\u001b[39;49m\u001b[39mmap\u001b[39;49m(sanitize_sequence, args), \u001b[39m*\u001b[39;49m\u001b[39m*\u001b[39;49mkwargs)\n\u001b[1;32m   1444\u001b[0m     bound \u001b[39m=\u001b[39m new_sig\u001b[39m.\u001b[39mbind(ax, \u001b[39m*\u001b[39margs, \u001b[39m*\u001b[39m\u001b[39m*\u001b[39mkwargs)\n\u001b[1;32m   1445\u001b[0m     auto_label \u001b[39m=\u001b[39m (bound\u001b[39m.\u001b[39marguments\u001b[39m.\u001b[39mget(label_namer)\n\u001b[1;32m   1446\u001b[0m                   \u001b[39mor\u001b[39;00m bound\u001b[39m.\u001b[39mkwargs\u001b[39m.\u001b[39mget(label_namer))\n",
            "File \u001b[0;32m~/.pyenv/versions/3.10.8/lib/python3.10/site-packages/matplotlib/axes/_axes.py:2510\u001b[0m, in \u001b[0;36mAxes.bar\u001b[0;34m(self, x, height, width, bottom, align, **kwargs)\u001b[0m\n\u001b[1;32m   2506\u001b[0m         ey \u001b[39m=\u001b[39m [b \u001b[39m+\u001b[39m \u001b[39m0.5\u001b[39m \u001b[39m*\u001b[39m h \u001b[39mfor\u001b[39;00m b, h \u001b[39min\u001b[39;00m \u001b[39mzip\u001b[39m(bottom, height)]\n\u001b[1;32m   2508\u001b[0m     error_kw\u001b[39m.\u001b[39msetdefault(\u001b[39m\"\u001b[39m\u001b[39mlabel\u001b[39m\u001b[39m\"\u001b[39m, \u001b[39m'\u001b[39m\u001b[39m_nolegend_\u001b[39m\u001b[39m'\u001b[39m)\n\u001b[0;32m-> 2510\u001b[0m     errorbar \u001b[39m=\u001b[39m \u001b[39mself\u001b[39;49m\u001b[39m.\u001b[39;49merrorbar(ex, ey,\n\u001b[1;32m   2511\u001b[0m                              yerr\u001b[39m=\u001b[39;49myerr, xerr\u001b[39m=\u001b[39;49mxerr,\n\u001b[1;32m   2512\u001b[0m                              fmt\u001b[39m=\u001b[39;49m\u001b[39m'\u001b[39;49m\u001b[39mnone\u001b[39;49m\u001b[39m'\u001b[39;49m, \u001b[39m*\u001b[39;49m\u001b[39m*\u001b[39;49merror_kw)\n\u001b[1;32m   2513\u001b[0m \u001b[39melse\u001b[39;00m:\n\u001b[1;32m   2514\u001b[0m     errorbar \u001b[39m=\u001b[39m \u001b[39mNone\u001b[39;00m\n",
            "File \u001b[0;32m~/.pyenv/versions/3.10.8/lib/python3.10/site-packages/matplotlib/__init__.py:1442\u001b[0m, in \u001b[0;36m_preprocess_data.<locals>.inner\u001b[0;34m(ax, data, *args, **kwargs)\u001b[0m\n\u001b[1;32m   1439\u001b[0m \u001b[39m@functools\u001b[39m\u001b[39m.\u001b[39mwraps(func)\n\u001b[1;32m   1440\u001b[0m \u001b[39mdef\u001b[39;00m \u001b[39minner\u001b[39m(ax, \u001b[39m*\u001b[39margs, data\u001b[39m=\u001b[39m\u001b[39mNone\u001b[39;00m, \u001b[39m*\u001b[39m\u001b[39m*\u001b[39mkwargs):\n\u001b[1;32m   1441\u001b[0m     \u001b[39mif\u001b[39;00m data \u001b[39mis\u001b[39;00m \u001b[39mNone\u001b[39;00m:\n\u001b[0;32m-> 1442\u001b[0m         \u001b[39mreturn\u001b[39;00m func(ax, \u001b[39m*\u001b[39;49m\u001b[39mmap\u001b[39;49m(sanitize_sequence, args), \u001b[39m*\u001b[39;49m\u001b[39m*\u001b[39;49mkwargs)\n\u001b[1;32m   1444\u001b[0m     bound \u001b[39m=\u001b[39m new_sig\u001b[39m.\u001b[39mbind(ax, \u001b[39m*\u001b[39margs, \u001b[39m*\u001b[39m\u001b[39m*\u001b[39mkwargs)\n\u001b[1;32m   1445\u001b[0m     auto_label \u001b[39m=\u001b[39m (bound\u001b[39m.\u001b[39marguments\u001b[39m.\u001b[39mget(label_namer)\n\u001b[1;32m   1446\u001b[0m                   \u001b[39mor\u001b[39;00m bound\u001b[39m.\u001b[39mkwargs\u001b[39m.\u001b[39mget(label_namer))\n",
            "File \u001b[0;32m~/.pyenv/versions/3.10.8/lib/python3.10/site-packages/matplotlib/axes/_axes.py:3642\u001b[0m, in \u001b[0;36mAxes.errorbar\u001b[0;34m(self, x, y, yerr, xerr, fmt, ecolor, elinewidth, capsize, barsabove, lolims, uplims, xlolims, xuplims, errorevery, capthick, **kwargs)\u001b[0m\n\u001b[1;32m   3639\u001b[0m res \u001b[39m=\u001b[39m np\u001b[39m.\u001b[39mzeros(err\u001b[39m.\u001b[39mshape, dtype\u001b[39m=\u001b[39m\u001b[39mbool\u001b[39m)  \u001b[39m# Default in case of nan\u001b[39;00m\n\u001b[1;32m   3640\u001b[0m \u001b[39mif\u001b[39;00m np\u001b[39m.\u001b[39many(np\u001b[39m.\u001b[39mless(err, \u001b[39m-\u001b[39merr, out\u001b[39m=\u001b[39mres, where\u001b[39m=\u001b[39m(err \u001b[39m==\u001b[39m err))):\n\u001b[1;32m   3641\u001b[0m     \u001b[39m# like err<0, but also works for timedelta and nan.\u001b[39;00m\n\u001b[0;32m-> 3642\u001b[0m     \u001b[39mraise\u001b[39;00m \u001b[39mValueError\u001b[39;00m(\n\u001b[1;32m   3643\u001b[0m         \u001b[39mf\u001b[39m\u001b[39m\"\u001b[39m\u001b[39m'\u001b[39m\u001b[39m{\u001b[39;00mdep_axis\u001b[39m}\u001b[39;00m\u001b[39merr\u001b[39m\u001b[39m'\u001b[39m\u001b[39m must not contain negative values\u001b[39m\u001b[39m\"\u001b[39m)\n\u001b[1;32m   3644\u001b[0m \u001b[39m# This is like\u001b[39;00m\n\u001b[1;32m   3645\u001b[0m \u001b[39m#     elow, ehigh = np.broadcast_to(...)\u001b[39;00m\n\u001b[1;32m   3646\u001b[0m \u001b[39m#     return dep - elow * ~lolims, dep + ehigh * ~uplims\u001b[39;00m\n\u001b[1;32m   3647\u001b[0m \u001b[39m# except that broadcast_to would strip units.\u001b[39;00m\n\u001b[1;32m   3648\u001b[0m low, high \u001b[39m=\u001b[39m dep \u001b[39m+\u001b[39m np\u001b[39m.\u001b[39mrow_stack([\u001b[39m-\u001b[39m(\u001b[39m1\u001b[39m \u001b[39m-\u001b[39m lolims), \u001b[39m1\u001b[39m \u001b[39m-\u001b[39m uplims]) \u001b[39m*\u001b[39m err\n",
            "\u001b[0;31mValueError\u001b[0m: 'yerr' must not contain negative values"
          ]
        },
        {
          "data": {
            "image/png": "[encoded data removed]",
            "text/plain": [
              "<Figure size 640x480 with 1 Axes>"
            ]
          },
          "metadata": {},
          "output_type": "display_data"
        }
      ],
      "source": [
        "fig, ax = plt.subplots()\n",
        "ax.bar(x, y, yerr=err)\n",
        "ax.set_xlabel('x')\n",
        "ax.set_ylabel('y')\n",
        "plt.show()"
      ]
    },
    {
      "cell_type": "markdown",
      "metadata": {
        "id": "EwZdTXCidEqm"
      },
      "source": [
        "Ketinggian batang merah sesuai dengan frekuensi y, sedangkan panjang garis hitam menunjukkan kesalahan err. Jika Anda tidak ingin menyertakan kesalahan, hilangkan parameter yerr dari .bar().\n",
        "\n",
        "Plot X-Y Plot xy atau plot sebar mewakili pasangan data dari dua kumpulan data. Sumbu x horizontal menunjukkan nilai dari himpunan x, sedangkan sumbu y vertikal menunjukkan nilai yang sesuai dari himpunan y. Anda dapat secara opsional memasukkan garis regresi dan koefisien korelasi. Mari buat dua kumpulan data dan lakukan regresi linier dengan scipy.stats.linregress():"
      ]
    },
    {
      "cell_type": "code",
      "execution_count": null,
      "metadata": {
        "colab": {
          "base_uri": "https://localhost:8080/"
        },
        "id": "apoyAiTGNOQZ",
        "outputId": "f09e0e52-6c39-435a-b16a-2fa957d10e8f"
      },
      "outputs": [
        {
          "name": "stdout",
          "output_type": "stream",
          "text": [
            "Regression line: y=5.49+2.02x, r=0.99\n"
          ]
        }
      ],
      "source": [
        "x = np.arange(21)\n",
        "y = 5 + 2 * x + 2 * np.random.randn(21)\n",
        "slope, intercept, r, *__ = scipy.stats.linregress(x, y)\n",
        "line = f'Regression line: y={intercept:.2f}+{slope:.2f}x, r={r:.2f}'\n",
        "print(line)"
      ]
    },
    {
      "cell_type": "markdown",
      "metadata": {
        "id": "7fy26xIHdFGE"
      },
      "source": []
    },
    {
      "cell_type": "markdown",
      "metadata": {
        "id": "aXSMB5qQdFk8"
      },
      "source": [
        "Dataset x  array dengan bilangan bulat dari 0 hingga 20. y dihitung sebagai fungsi linier dari x yang terdistorsi dengan beberapa random noise.\n",
        "\n",
        "linregress mengembalikan beberapa nilai. Anda akan membutuhkan kemiringan dan intersep dari garis regresi, serta koefisien korelasi r. Kemudian Anda dapat menerapkan .plot() untuk mendapatkan plot xy:"
      ]
    },
    {
      "cell_type": "code",
      "execution_count": null,
      "metadata": {
        "colab": {
          "base_uri": "https://localhost:8080/",
          "height": 282
        },
        "id": "rOEfib5TdZYr",
        "outputId": "c70ca477-93ef-44ce-c3c6-a8869416405b"
      },
      "outputs": [
        {
          "data": {
            "image/png": "[encoded data removed]",
            "text/plain": [
              "<Figure size 432x288 with 1 Axes>"
            ]
          },
          "metadata": {},
          "output_type": "display_data"
        }
      ],
      "source": [
        "fig, ax = plt.subplots()\n",
        "ax.plot(x, y, linewidth=0, marker='s', label='Data points')\n",
        "ax.plot(x, intercept + slope * x, label=line)\n",
        "ax.set_xlabel('x')\n",
        "ax.set_ylabel('y')\n",
        "ax.legend(facecolor='white')\n",
        "plt.show()"
      ]
    },
    {
      "cell_type": "markdown",
      "metadata": {
        "id": "52NB3UR-dF75"
      },
      "source": [
        "Anda dapat melihat titik data (pasangan xy) sebagai kotak merah, serta garis regresi biru.\n",
        "\n",
        "Heatmaps dapat digunakan untuk menampilkan matriks secara visual. Warna mewakili angka atau elemen matriks. Peta panas sangat berguna untuk menggambarkan matriks kovarians dan korelasi. Anda dapat membuat peta panas untuk matriks kovarians dengan .imshow():"
      ]
    },
    {
      "cell_type": "code",
      "execution_count": null,
      "metadata": {
        "colab": {
          "base_uri": "https://localhost:8080/",
          "height": 265
        },
        "id": "uiTL2HsXdRd3",
        "outputId": "672a09bd-ab86-45ce-e65e-76be465edf15"
      },
      "outputs": [
        {
          "data": {
            "image/png": "[encoded data removed]",
            "text/plain": [
              "<Figure size 432x288 with 1 Axes>"
            ]
          },
          "metadata": {},
          "output_type": "display_data"
        }
      ],
      "source": [
        "matrix = np.cov(x, y).round(decimals=2)\n",
        "fig, ax = plt.subplots()\n",
        "ax.imshow(matrix)\n",
        "ax.grid(False)\n",
        "ax.xaxis.set(ticks=(0, 1), ticklabels=('x', 'y'))\n",
        "ax.yaxis.set(ticks=(0, 1), ticklabels=('x', 'y'))\n",
        "ax.set_ylim(1.5, -0.5)\n",
        "for i in range(2):    \n",
        "  for j in range(2):        \n",
        "    ax.text(j, i, matrix[i, j], ha='center', va='center', color='w')\n",
        "plt.show()"
      ]
    },
    {
      "cell_type": "markdown",
      "metadata": {
        "id": "qvPwjgvCdSyi"
      },
      "source": [
        "Here, the heatmap berisi label 'x' dan 'y' serta angka-angka dari matriks kovarians. Anda akan mendapatkan angka seperti ini:\n",
        "\n",
        "\n",
        "\n"
      ]
    },
    {
      "cell_type": "markdown",
      "metadata": {
        "id": "12_cWuILdGlx"
      },
      "source": [
        "Bidang kuning mewakili elemen terbesar dari matriks 130.34, sedangkan bidang ungu sesuai dengan elemen terkecil 38.5. Kotak biru di antaranya terkait dengan nilai 69,9.\n",
        "\n",
        "Anda dapat memperoleh peta panas untuk matriks koefisien korelasi mengikuti logika yang sama:"
      ]
    },
    {
      "cell_type": "code",
      "execution_count": null,
      "metadata": {
        "colab": {
          "base_uri": "https://localhost:8080/",
          "height": 265
        },
        "id": "w89JOZ_ndHOh",
        "outputId": "54362230-19ec-415a-f3c4-221d08a4fd7b"
      },
      "outputs": [
        {
          "data": {
            "image/png": "[encoded data removed]",
            "text/plain": [
              "<Figure size 432x288 with 1 Axes>"
            ]
          },
          "metadata": {},
          "output_type": "display_data"
        }
      ],
      "source": [
        "matrix = np.corrcoef(x, y).round(decimals=2)\n",
        "fig, ax = plt.subplots()\n",
        "ax.imshow(matrix)\n",
        "ax.grid(False)\n",
        "ax.xaxis.set(ticks=(0, 1), ticklabels=('x', 'y'))\n",
        "ax.yaxis.set(ticks=(0, 1), ticklabels=('x', 'y'))\n",
        "ax.set_ylim(1.5, -0.5)\n",
        "for i in range(2):    \n",
        "  for j in range(2):        \n",
        "    ax.text(j, i, matrix[i, j], ha='center', va='center', color='w')\n",
        "plt.show()"
      ]
    },
    {
      "cell_type": "markdown",
      "metadata": {
        "id": "Ka7fAXlHdH7l"
      },
      "source": [
        "The yellow color represents the value 1.0, and the purple color shows 0.99.\n",
        "\n"
      ]
    },
    {
      "cell_type": "markdown",
      "metadata": {
        "id": "8KvusiSfUOTQ"
      },
      "source": [
        "## Additional Materi"
      ]
    },
    {
      "cell_type": "code",
      "execution_count": 6,
      "metadata": {
        "id": "cUpkJjfbgguo"
      },
      "outputs": [],
      "source": [
        "import random \n",
        "import pandas as pd \n",
        "import seaborn as sns \n",
        "import matplotlib.pyplot as plt\n",
        "import numpy as np\n",
        "random.seed(101)\n",
        "data_gaji =[int(random.gauss(5000, 1000)) for num in range(1000)]\n",
        "dfGaji = pd.DataFrame(data_gaji, columns = ['Gaji ($)'])"
      ]
    },
    {
      "cell_type": "code",
      "execution_count": 7,
      "metadata": {
        "colab": {
          "base_uri": "https://localhost:8080/",
          "height": 200
        },
        "id": "v9eKBTakghVq",
        "outputId": "f5cdefcd-6697-43ca-a23f-cee8ef704a31"
      },
      "outputs": [
        {
          "data": {
            "text/html": [
              "<div>\n",
              "<style scoped>\n",
              "    .dataframe tbody tr th:only-of-type {\n",
              "        vertical-align: middle;\n",
              "    }\n",
              "\n",
              "    .dataframe tbody tr th {\n",
              "        vertical-align: top;\n",
              "    }\n",
              "\n",
              "    .dataframe thead th {\n",
              "        text-align: right;\n",
              "    }\n",
              "</style>\n",
              "<table border=\"1\" class=\"dataframe\">\n",
              "  <thead>\n",
              "    <tr style=\"text-align: right;\">\n",
              "      <th></th>\n",
              "      <th>Gaji ($)</th>\n",
              "    </tr>\n",
              "  </thead>\n",
              "  <tbody>\n",
              "    <tr>\n",
              "      <th>0</th>\n",
              "      <td>4425</td>\n",
              "    </tr>\n",
              "    <tr>\n",
              "      <th>1</th>\n",
              "      <td>4678</td>\n",
              "    </tr>\n",
              "    <tr>\n",
              "      <th>2</th>\n",
              "      <td>7216</td>\n",
              "    </tr>\n",
              "    <tr>\n",
              "      <th>3</th>\n",
              "      <td>4508</td>\n",
              "    </tr>\n",
              "    <tr>\n",
              "      <th>4</th>\n",
              "      <td>3555</td>\n",
              "    </tr>\n",
              "  </tbody>\n",
              "</table>\n",
              "</div>"
            ],
            "text/plain": [
              "   Gaji ($)\n",
              "0      4425\n",
              "1      4678\n",
              "2      7216\n",
              "3      4508\n",
              "4      3555"
            ]
          },
          "execution_count": 7,
          "metadata": {},
          "output_type": "execute_result"
        }
      ],
      "source": [
        "dfGaji.head()"
      ]
    },
    {
      "cell_type": "code",
      "execution_count": 8,
      "metadata": {
        "colab": {
          "base_uri": "https://localhost:8080/",
          "height": 290
        },
        "id": "oM9ixe9HgnLO",
        "outputId": "4f57f7b2-8daa-4f78-b703-d85ef9433c95"
      },
      "outputs": [
        {
          "data": {
            "text/html": [
              "<div>\n",
              "<style scoped>\n",
              "    .dataframe tbody tr th:only-of-type {\n",
              "        vertical-align: middle;\n",
              "    }\n",
              "\n",
              "    .dataframe tbody tr th {\n",
              "        vertical-align: top;\n",
              "    }\n",
              "\n",
              "    .dataframe thead th {\n",
              "        text-align: right;\n",
              "    }\n",
              "</style>\n",
              "<table border=\"1\" class=\"dataframe\">\n",
              "  <thead>\n",
              "    <tr style=\"text-align: right;\">\n",
              "      <th></th>\n",
              "      <th>Gaji ($)</th>\n",
              "    </tr>\n",
              "  </thead>\n",
              "  <tbody>\n",
              "    <tr>\n",
              "      <th>count</th>\n",
              "      <td>1000.000000</td>\n",
              "    </tr>\n",
              "    <tr>\n",
              "      <th>mean</th>\n",
              "      <td>5024.404000</td>\n",
              "    </tr>\n",
              "    <tr>\n",
              "      <th>std</th>\n",
              "      <td>1034.981682</td>\n",
              "    </tr>\n",
              "    <tr>\n",
              "      <th>min</th>\n",
              "      <td>1573.000000</td>\n",
              "    </tr>\n",
              "    <tr>\n",
              "      <th>25%</th>\n",
              "      <td>4338.750000</td>\n",
              "    </tr>\n",
              "    <tr>\n",
              "      <th>50%</th>\n",
              "      <td>5060.000000</td>\n",
              "    </tr>\n",
              "    <tr>\n",
              "      <th>75%</th>\n",
              "      <td>5765.250000</td>\n",
              "    </tr>\n",
              "    <tr>\n",
              "      <th>max</th>\n",
              "      <td>8719.000000</td>\n",
              "    </tr>\n",
              "  </tbody>\n",
              "</table>\n",
              "</div>"
            ],
            "text/plain": [
              "          Gaji ($)\n",
              "count  1000.000000\n",
              "mean   5024.404000\n",
              "std    1034.981682\n",
              "min    1573.000000\n",
              "25%    4338.750000\n",
              "50%    5060.000000\n",
              "75%    5765.250000\n",
              "max    8719.000000"
            ]
          },
          "execution_count": 8,
          "metadata": {},
          "output_type": "execute_result"
        }
      ],
      "source": [
        "dfGaji.describe()\n"
      ]
    },
    {
      "cell_type": "code",
      "execution_count": 10,
      "metadata": {
        "colab": {
          "base_uri": "https://localhost:8080/",
          "height": 572
        },
        "id": "A4e_mK7wgoke",
        "outputId": "81e22b2e-7021-40a3-c5a5-f3b119a3a729"
      },
      "outputs": [
        {
          "data": {
            "text/plain": [
              "Text(1573, 0.2, 'Outlier')"
            ]
          },
          "execution_count": 10,
          "metadata": {},
          "output_type": "execute_result"
        },
        {
          "data": {
            "image/png": "[encoded data removed]",
            "text/plain": [
              "<Figure size 800x800 with 1 Axes>"
            ]
          },
          "metadata": {},
          "output_type": "display_data"
        }
      ],
      "source": [
        "plt.figure(figsize = (8,8))\n",
        "sns.boxplot(data_gaji)\n",
        "plt.title('Boxplot data gaji', fontsize = 20)\n",
        "plt.annotate('Q1', (np.percentile(data_gaji, 25), 0.4), xytext = (np.percentile(data_gaji, 25), 0.5),arrowprops = dict(facecolor = 'black'), fontsize = 12 )\n",
        "plt.annotate('Q2', (np.percentile(data_gaji, 50), 0.4), xytext = (np.percentile(data_gaji, 50), 0.5),arrowprops = dict(facecolor = 'black'), fontsize = 12 )\n",
        "plt.annotate('Q3', (np.percentile(data_gaji, 75), 0.4), xytext = (np.percentile(data_gaji, 75), 0.5),arrowprops = dict(facecolor = 'black'), fontsize = 12 )\n",
        "IQR = np.percentile(data_gaji, 75) - np.percentile(data_gaji, 25)\n",
        "batas_bawah = np.percentile(data_gaji, 25) - (1.5 * IQR)\n",
        "batas_atas =  np.percentile(data_gaji, 75) + (1.5 * IQR)\n",
        "plt.annotate('Batas bawah',(batas_bawah+50, 0.2), xytext = (batas_bawah, 0.35)\n",
        "             ,arrowprops = dict(facecolor = 'blue'), fontsize = 12 )\n",
        "plt.annotate('Batas atas', (batas_atas-100, 0.2), xytext = (batas_atas, 0.35),arrowprops = dict(facecolor = 'red'), fontsize = 12 )\n",
        "plt.annotate('Outlier', (min(data_gaji), 0.04), xytext = (min(data_gaji), 0.2),arrowprops = dict(facecolor = 'green'), fontsize = 12 )"
      ]
    },
    {
      "cell_type": "markdown",
      "metadata": {
        "id": "J1Df5vEAhQ45"
      },
      "source": [
        "Boxplot diatas menunjukkan bagaimana data kita tersebar. Dapat terlihat bahwa antara Q1 hingga Q3 (atau 50% data) tersebar hanya dia antara $4000an hingga $6000an dengan 50% data yang lain tersebar di luar dari itu. Dengan menggunakan metode IQR juga kita mampu mendapatkan batas bawah dan atas untuk membedakan data mana yang termasuk outlier (ditandakan dengan titik hitam).\n",
        "\n",
        "Selain itu, melalui standard deviation juga kita bisa melihat bahwa data kita tersebar sebesar $1034 dari mean. Dengan menggunakan Empirical rule sebelumnya, kita bisa memperkirakan persebaran data kita seperti gambar dibawah\n"
      ]
    },
    {
      "cell_type": "code",
      "execution_count": 11,
      "metadata": {
        "colab": {
          "base_uri": "https://localhost:8080/",
          "height": 615
        },
        "id": "g1xMy-PFgyPV",
        "outputId": "c7815270-7249-4141-a207-f2b8e0fa58a4"
      },
      "outputs": [
        {
          "name": "stderr",
          "output_type": "stream",
          "text": [
            "/var/folders/gh/bm95p3ys6sd6jvzbfl061_3c0000gn/T/ipykernel_54701/362682615.py:2: UserWarning: \n",
            "\n",
            "`distplot` is a deprecated function and will be removed in seaborn v0.14.0.\n",
            "\n",
            "Please adapt your code to use either `displot` (a figure-level function with\n",
            "similar flexibility) or `histplot` (an axes-level function for histograms).\n",
            "\n",
            "For a guide to updating your code to use the new functions, please see\n",
            "https://gist.github.com/mwaskom/de44147ed2974457ad6372750bbe5751\n",
            "\n",
            "  sns.distplot(data_gaji)\n"
          ]
        },
        {
          "data": {
            "text/plain": [
              "Text(8127.796184860947, 0.00045, '3 * STD')"
            ]
          },
          "execution_count": 11,
          "metadata": {},
          "output_type": "execute_result"
        },
        {
          "data": {
            "image/png": "[encoded data removed]",
            "text/plain": [
              "<Figure size 800x800 with 1 Axes>"
            ]
          },
          "metadata": {},
          "output_type": "display_data"
        }
      ],
      "source": [
        "plt.figure(figsize = (8,8))\n",
        "sns.distplot(data_gaji)\n",
        "plt.axvline(x = np.mean(data_gaji), ls = '--', c ='red')\n",
        "plt.axvline(x = np.mean(data_gaji) - np.std(data_gaji), ls = '--', c = 'blue')\n",
        "plt.axvline(x = np.mean(data_gaji) + np.std(data_gaji), ls = '--', c = 'blue')\n",
        "plt.axvline(x = np.mean(data_gaji) - 2*np.std(data_gaji), ls = '--', c = 'green')\n",
        "plt.axvline(x = np.mean(data_gaji) + 2*np.std(data_gaji), ls = '--', c = 'green')\n",
        "plt.axvline(x = np.mean(data_gaji) - 3*np.std(data_gaji), ls = '--', c = 'black')\n",
        "plt.axvline(x = np.mean(data_gaji) + 3*np.std(data_gaji), ls = '--', c = 'black')\n",
        "plt.annotate('Mean', (np.mean(data_gaji), 0.0004), xytext = (np.mean(data_gaji), 0.00045),arrowprops = dict(facecolor = 'red'), fontsize = 12 )\n",
        "plt.annotate('1 * STD', ((np.mean(data_gaji) - np.std(data_gaji)), 0.0004), xytext = ((np.mean(data_gaji) - np.std(data_gaji)), 0.00045),arrowprops = dict(facecolor = 'blue') )\n",
        "plt.annotate('1 * STD', ((np.mean(data_gaji) + np.std(data_gaji)), 0.0004), xytext = ((np.mean(data_gaji) + np.std(data_gaji)), 0.00045),arrowprops = dict(facecolor = 'blue') )\n",
        "plt.annotate('2 * STD', ((np.mean(data_gaji) - 2*np.std(data_gaji)), 0.0004),xytext = ((np.mean(data_gaji) - 2*np.std(data_gaji)), 0.00045),arrowprops = dict(facecolor = 'green') )\n",
        "plt.annotate('2 * STD', ((np.mean(data_gaji) + 2*np.std(data_gaji)), 0.0004), xytext = ((np.mean(data_gaji) + 2*np.std(data_gaji)), 0.00045),arrowprops = dict(facecolor = 'green') )\n",
        "plt.annotate('3 * STD', ((np.mean(data_gaji) - 3*np.std(data_gaji)), 0.0004),xytext = ((np.mean(data_gaji) - 3*np.std(data_gaji)), 0.00045),arrowprops = dict(facecolor = 'black') )\n",
        "plt.annotate('3 * STD', ((np.mean(data_gaji) + 3*np.std(data_gaji)), 0.0004),xytext = ((np.mean(data_gaji) + 3*np.std(data_gaji)), 0.00045),arrowprops = dict(facecolor = 'black') )\n"
      ]
    },
    {
      "cell_type": "markdown",
      "metadata": {
        "id": "WqdFMEqyhB8h"
      },
      "source": [
        "1*STD adalah 68% data kita yang berada di antara mean ± 1 * Standard Deviation data, 2*STD adalah 95% data kita yang berada di antara mean ± 2* Standard Deviation, dan 3*STD adalah 99.7% data kita yang berada di antara mean ± 3 * Standard Deviation sehingga kita menggangap bahwa data yang sudah melebihi dari 3 * STD sudah berada di posisi 0.3% yang terlalu jauh posisinya dibandingkan mean sehingga bisa dianggap sebagai outlier."
      ]
    },
    {
      "cell_type": "markdown",
      "metadata": {
        "id": "e_VZrSjLMk_T"
      },
      "source": [
        "--------"
      ]
    },
    {
      "cell_type": "markdown",
      "metadata": {
        "id": "LoLOu4EWMo37"
      },
      "source": [
        "\n",
        "**Tipe Data**\n",
        "\n",
        "| Data Kualitatif  |  Data Kuantitatif |\n",
        "|:-----------------|:------------------|\n",
        "| Data non numerik  | Data numerik dihasilkan dari |\n",
        "| * Atribute  | * Perhitungan | \n",
        "|  * label  | * Pengukuran |\n",
        " \n",
        "\n",
        "\n",
        "Contoh  : Menu dan Harga \n",
        "\n"
      ]
    },
    {
      "cell_type": "markdown",
      "metadata": {
        "id": "3dSKjiXRMqyh"
      },
      "source": []
    },
    {
      "cell_type": "markdown",
      "metadata": {
        "id": "inGpsTULOB14"
      },
      "source": [
        "**Skala Pengukuran (Level of Measurements)**\n",
        "\n",
        "Terdapat 4 Skala Pengukuran (Level of Measurements) dalam bidang statistika:\n",
        "1. Nominal\n",
        "2. Ordinal\n",
        "3. Interval\n",
        "4. Rasio (Ratio)\n"
      ]
    },
    {
      "cell_type": "markdown",
      "metadata": {
        "id": "aUtEzl_aOLQH"
      },
      "source": [
        "**Skala Pengukuran Nominal**\n",
        ">> Berasosiasi dengan tipe data kualitatif\n",
        "\n",
        ">> Berfokus pada pengelompokkan atau pengkategorian data berdasarkan nama, label, atau kualitas\n",
        "\n",
        ">> Tidak dapat dikenakan operasi matematika\n",
        ">>>Contoh: \n",
        ">>>>merk kendaraan bermotor\n",
        "\n",
        ">>>>kota kelahiran\n",
        "\n",
        ">>>>nama siswa, nama bulan, nama hari\n",
        "\n",
        ">>>>nomor kendaraan bermotor, nomor induk siswa\n"
      ]
    },
    {
      "cell_type": "markdown",
      "metadata": {
        "id": "TCovVh0XPSzj"
      },
      "source": [
        "**Skala Pengukuran Ordinal**\n",
        "\n",
        "* Berasosiasi dengan tipe data kualitatif\n",
        "\n",
        "* Data dapat dikelompokkan\n",
        "\n",
        "* ***Data dapat disusun berdasarkan urutan, peringkat, atau ranking***\n",
        "* Tidak dapat dikenakan operasi matematika\n",
        "\n",
        "Contoh: \n",
        "* tingkat kepuasan pelanggan: sangat puas, puas, cukup, kecewa, sangat kecewa\n",
        "* temperatur udara: panas, sejuk, dingin\n",
        "* peringkat siswa di kelas\n"
      ]
    },
    {
      "cell_type": "code",
      "execution_count": null,
      "metadata": {
        "id": "MeU4DC_qPSZq"
      },
      "outputs": [],
      "source": []
    },
    {
      "cell_type": "markdown",
      "metadata": {
        "id": "bEsnyfsMOREF"
      },
      "source": [
        "**Skala Pengukuran Rasio (Ratio)**\n",
        "\n",
        "* Berasosiasi dengan tipe data kuantitatif\n",
        "* Data dapat dikelompokkan\n",
        "* Data dapat disusun berdasarkan urutan, peringkat, atau ranking\n",
        "* ***Dapat dikenakan operasi matematika untuk menghitung*** selisih nilai\n",
        "* ***Memiliki nilai nol yang absolut (inherent zero)***\n",
        "* *Dapat dikenakan operasi matematika terkait perkalian*\n",
        "\n",
        "Contoh: \n",
        "* usia anak 7 tahun\n",
        "* berat badan 65 Kg\n",
        "* harga nasi goreng Rp 25,000\n"
      ]
    },
    {
      "cell_type": "markdown",
      "metadata": {
        "id": "13CbBdzBPKaW"
      },
      "source": [
        "**Skala Pengukuran Interval**\n",
        "\n",
        "* Berasosiasi dengan tipe data kuantitatif\n",
        "* Data dapat dikelompokkan\n",
        "* Data dapat disusun berdasarkan urutan, peringkat, atau ranking\n",
        "* Dapat dikenakan operasi matematika untuk menghitung selisih nilai\n",
        "* Nilai numerik merepresentasikan posisi pada suatu skala ukur tertentu\n",
        "* ***Tidak memiliki nilai nol yang absolut (no inherent zero)***\n",
        "* **Tidak dapat dikenakan operasi matematika terkait perkalian**\n",
        "\n",
        "Contoh: \n",
        "* temperatur udara 32 derajad celsius\n",
        "* tahun 2020\n"
      ]
    },
    {
      "cell_type": "markdown",
      "metadata": {
        "id": "EBiXJxCnMgvr"
      },
      "source": [
        "---------"
      ]
    },
    {
      "cell_type": "markdown",
      "metadata": {
        "id": "WezCMkznJSPn"
      },
      "source": [
        "| Type of Variabel  | Best measure of central tendency |\n",
        "|:-----------------:|:--------------------------------|\n",
        "| Nominal | Mode | \n",
        "| Ordinal | Median |\n",
        "| Interval / Ratio (not skewed) | Mean |\n",
        "| Internal / Ratio (skewed) | Median  |"
      ]
    },
    {
      "cell_type": "markdown",
      "metadata": {
        "id": "rXDrAkteZwRc"
      },
      "source": [
        "## Mean\n",
        "\n",
        "**Kelebihan**\n",
        "* Rata-rata lebih populer dan lebih mudah digunakan.\n",
        "* Dalam satu set data, rata-rata selalu ada dan hanya ada satu rata-rata.\n",
        "* Dalam penghitungannya selalu mempertimbangkan semua nilai data.\n",
        "* Tidak peka terhadap penambahan jumlah data.\n",
        "* Variasinya paling stabil.\n",
        "* Cocok digunakan untuk data yang homogen.\n",
        "\n",
        "**Kelemahan**\n",
        "* Sangat peka terhadap data ekstrim. Jika data ekstrimnya banyak, rata-rata menjadi kurang mewakili (representatif).\n",
        "* Tidak dapat digunakan untuk data kualitatif.\n",
        "* Tidak cocok untuk data heterogen.\n",
        "\n",
        "\n",
        "\n",
        "## Median\n",
        "\n",
        "**Kelebihan**\n",
        "* Tidak dipengaruhi oleh data ekstrim.\n",
        "* Dapat digunakan untuk data kualitatif maupun kuantitatif.\n",
        "* Cocok untuk data heterogen.\n",
        "\n",
        "**Kelemahan**\n",
        "* Tidak mempertimbangkan semua nilai data.\n",
        "* Kurang menggambarkan rata-rata populasi.\n",
        "* Peka terhadap penambahan jumlah data.\n",
        "\n",
        "\n",
        "\n",
        "## Modus\n",
        "\n",
        "**Kelebihan**\n",
        "* Tidak dipengaruhi oleh data ekstrim.\n",
        "* Cocok digunakan untuk data kuantitatif maupun kualitatif.\n",
        "\n",
        "**Kelemahan**\n",
        "* Modus tidak selalu ada dalam satu set data.\n",
        "* Kadang dalam satu set data terdapat dua atau lebih modus. Jika hal itu terjadi modus menjadi sulit digunakan.\n",
        "* Kurang mempertimbangkan semua nilai.\n",
        "* Peka terhadap penambahan jumlah data."
      ]
    },
    {
      "cell_type": "markdown",
      "metadata": {
        "id": "uOYkw1o6RNh6"
      },
      "source": [
        "## Pertanyaan level Data menggunakan Dataset titanic\n",
        "\n",
        "Menganalisa Data titatinc \n"
      ]
    },
    {
      "cell_type": "markdown",
      "metadata": {
        "id": "StrLF5UzRNBk"
      },
      "source": [
        "\n",
        "\n",
        "| “Feature in the dataset” | What it represent | Level of Data | \n",
        "|:---------|:----------|:-----------|\n",
        "|PassengerId |“Identity number of passenger” | Nominal | \n",
        "|Pclass|“Passenger class (1:1st class; 2: 2nd class; 3: 3rd class), passenger class is used as a measure of the socioeconomic status of the passenger” | Ordinal | \n",
        "| Survived |  “Survival status (0:Not survived; 1:Survived)” | Nominal | \n",
        "| Name |  Name | Nominal | \n",
        "| Sibsp | “Number of siblings/spouses aboard | Ratio | \n",
        "|Ticket | Ticket Number | Nominal | \n",
        "| Cabin | Cabin Number | Nominal | \n",
        "| Sex | Gender pesenger | Nominal | \n",
        "| Age | Age | Ratio | \n",
        "|Parch | Number of Parent/ Childer board | Ratio | \n",
        "| Fare | Passenger fare (Britsh pound)  | Ratio | \n",
        "| Embarked | Port of embarkation (with c being Cherbourg , Q : Quenstown , S : Southampton | Nominal | \n",
        "\n",
        "\n"
      ]
    },
    {
      "cell_type": "markdown",
      "metadata": {
        "id": "_3fn5gxPRMs2"
      },
      "source": [
        "## Q/A "
      ]
    },
    {
      "cell_type": "markdown",
      "metadata": {
        "id": "hXRsc85VKTl6"
      },
      "source": [
        "\n",
        "\n",
        "**Apa yang paling baik dalam mengukur pusat data?** \n",
        "\n",
        "*Tidak ada yang paling baik antara mean, median dan modus dalam mengukur pemusatan data. Hal ini disebakan karena metode pengukuran yang digunakan akan bergantung jenis data yang kita miliki seperti: apakah data yang kita miliki berupa data nominal atau kontinyu ,apakah pada data kita terdapat outlier atau tidak, apakah data kita berdistribusi normal atau memiliki kemencengan (skewed), serta apa yang hendak kita tampilkan dari data kita.*\n",
        "\n",
        "**Pada strongly skewed data, indicator apa yang dapat digunakan untuk mengukur pemusatan data?**\n",
        "\n",
        "*Pada kondisi tersebut indikator terbaik untuk menunjukkan ukuran pemusatan data adalah median atau modus, dimana median biasanya lebih disukai.*"
      ]
    },
    {
      "cell_type": "markdown",
      "metadata": {
        "id": "uOiDbPyxKkYK"
      },
      "source": [
        " **Apakah setiap data memiliki median,modus, dan mean?**\n",
        "\n",
        "*Bisa ya bisa tidak. Setiap data kontinyu memiliki median,modus, dan mean. untuk data ordinal memiliki median dan modus. untuk data nominal hanya memiliki modus. Sampai saat ini tidak ada kesepakatan apakah mean dapat digunakan pada data ordinal.*\n",
        "\n",
        "**Kapan nilai mean dapat digunakan dengan sangat baik dalam mengukur pemusatan data?**\n",
        "\n",
        "*Nilai mean sangat baik digunakan saat distribusi data kita simetris atau berdistribusi normal. Selain itu nilai rata-rata digunakan jika jenis data kita adalah interval dan rasio.*\n"
      ]
    },
    {
      "cell_type": "markdown",
      "metadata": {
        "id": "pafjR5wUKIk4"
      },
      "source": [
        "\n",
        "\n",
        "**Kapan nilai modus dapat digunakan dengan sangat baik dalam mengukur pemusatan data?**\n",
        "\n",
        "*Modus sangat baiik untuk mengukur ukuran pemusatan data jika data kita merupakan data nominal. Selain itu modus juga dapat digunakan jika distribusi dari data kita berdistribusi normal.*\n",
        "\n",
        "**Kapan nilai median dapat digunakan dengan sangat baik dalam mengukur pemusatan data?**\n",
        "\n",
        "*Median sangat baik digunakan jika data kita miring (skewed) atau ketika data kita adalah ordinal.*\n",
        "\n",
        "\n"
      ]
    },
    {
      "cell_type": "markdown",
      "metadata": {
        "id": "S_8YJQIbKLJL"
      },
      "source": [
        "\n",
        "**Indikator apakah yang digunakan untuk mengukur pemusatan data jika data kita memiliki outlier?**\n",
        "\n",
        "*Median bisanya digunakan dalam kondisi ini. Nilai mean cenderung akan dihindari karena nilai mean cenderung sensitive terhadap adanya outlier.*\n",
        "\n",
        "**Jika data kita berdistribusi normal, indicator apakah yang dapat digunakan untuk mengukur pemusatan data?**\n",
        "\n",
        "*Pada kondisi tersebut seluruh indikator pemusatan data dapat digunakan sama baiknya.*"
      ]
    },
    {
      "cell_type": "markdown",
      "metadata": {
        "id": "y4RMgBi2a9Zr"
      },
      "source": [
        "* Box plots: Ordinal, ratio, interval\n",
        "* Histograms: Ratio, interval\n",
        "* Pie charts: Nominal, ordinal\n",
        "* Scatter plots: Ratio, interval\n",
        "* Stacked bar charts: Nominal, ordinal”\n"
      ]
    },
    {
      "cell_type": "code",
      "execution_count": null,
      "metadata": {
        "id": "SoryPN47a9Hc"
      },
      "outputs": [],
      "source": []
    },
    {
      "cell_type": "markdown",
      "metadata": {
        "id": "UJ-9uLXsdLbh"
      },
      "source": [
        "# Pertanyaan "
      ]
    },
    {
      "cell_type": "markdown",
      "metadata": {
        "id": "U04scwdib9Wo"
      },
      "source": [
        "Klasifikasikan variabel-variabel berikut berdasarkan jenis datanya.\n",
        "\n",
        "* pH scale\n",
        "* Language proficiency\n",
        "* Likert Scale (used in surveys)\n",
        "* Work experience\n",
        "* Time of the day\n",
        "* Social security number\n",
        "* Distance\n",
        "* Year of birth\n"
      ]
    },
    {
      "cell_type": "markdown",
      "metadata": {
        "id": "mnhd-9mvdGrA"
      },
      "source": [
        "## Jawaban"
      ]
    },
    {
      "cell_type": "markdown",
      "metadata": {
        "id": "71ARf82ebc8W"
      },
      "source": [
        "* pH scale: Interval\n",
        "\n",
        "Skala pH tidak memiliki titik nol mutlak. Meskipun nilainya dapat dibandingkan, kita tidak dapat menghitung rasio.\n",
        "\n",
        "* Language proficiency: Ordinal \n",
        "  \n",
        "Kemahiran dalam suatu bahasa memiliki berbagai tingkatan seperti \"pemula\", \"menengah\", dan \"lanjutan\" yang dipesan, dan karenanya berada di bawah skala ordinal.\n",
        "\n",
        "* Likert Scale (used in surveys): Ordinal.\n",
        "\n",
        "Skala Likert sering digunakan dalam survei, dengan nilai-nilai seperti “tidak puas”, “puas”, dan “sangat puas”. Nilai-nilai ini membentuk urutan logis, dan oleh karena itu setiap variabel yang mewakili Skala Likert adalah variabel ordinal.\n",
        "\n",
        "* Work experience: Ratio\n",
        "  \n",
        "Karena ada nol mutlak untuk variabel ini dan seseorang dapat melakukan operasi aritmatika, termasuk perhitungan rasio, variabel ini adalah variabel rasio.\n",
        "\n",
        "* Time of the day: Interval\n",
        "  \n",
        "Waktu (dalam skala 12 jam) tidak memiliki titik nol mutlak. Kita dapat menghitung perbedaan antara dua titik waktu, tetapi tidak dapat menghitung rasio.\n",
        "\n",
        "* Social security number: Nominal\n",
        "  \n",
        "  Nilai untuk pengidentifikasi seperti nomor jaminan sosial tidak diurutkan dan tidak cocok untuk operasi matematika.\n",
        "\n",
        "* Distance: Ratio\n",
        "\n",
        "Dengan titik acuan sebagai 0 dan nilai-nilai yang dapat ditambahkan, dikurangi, dikalikan, dan dibagi, jarak adalah variabel rasio.\n",
        "\n",
        "* Year of birth: Interval\n",
        "  \n",
        "Tidak ada titik nol mutlak untuk variabel seperti itu. Anda dapat menghitung selisih antara dua tahun, tetapi kami tidak dapat mengetahui rasionya.”\n"
      ]
    },
    {
      "cell_type": "code",
      "execution_count": 12,
      "metadata": {},
      "outputs": [
        {
          "name": "stdout",
          "output_type": "stream",
          "text": [
            "\u001b[33mDEPRECATION: Configuring installation scheme with distutils config files is deprecated and will no longer work in the near future. If you are using a Homebrew or Linuxbrew Python, please see discussion at https://github.com/Homebrew/homebrew-core/issues/76621\u001b[0m\u001b[33m\n",
            "\u001b[0mRequirement already satisfied: seaborn in /usr/local/lib/python3.9/site-packages (0.12.2)\n",
            "Requirement already satisfied: pandas>=0.25 in /usr/local/lib/python3.9/site-packages (from seaborn) (1.5.3)\n",
            "Requirement already satisfied: matplotlib!=3.6.1,>=3.1 in /usr/local/lib/python3.9/site-packages (from seaborn) (3.6.3)\n",
            "Requirement already satisfied: numpy!=1.24.0,>=1.17 in /usr/local/lib/python3.9/site-packages (from seaborn) (1.21.2)\n",
            "Requirement already satisfied: python-dateutil>=2.7 in /Users/iketutg/Library/Python/3.9/lib/python/site-packages (from matplotlib!=3.6.1,>=3.1->seaborn) (2.8.2)\n",
            "Requirement already satisfied: fonttools>=4.22.0 in /usr/local/lib/python3.9/site-packages (from matplotlib!=3.6.1,>=3.1->seaborn) (4.38.0)\n",
            "Requirement already satisfied: pyparsing>=2.2.1 in /usr/local/lib/python3.9/site-packages (from matplotlib!=3.6.1,>=3.1->seaborn) (3.0.9)\n",
            "Requirement already satisfied: cycler>=0.10 in /usr/local/lib/python3.9/site-packages (from matplotlib!=3.6.1,>=3.1->seaborn) (0.11.0)\n",
            "Requirement already satisfied: pillow>=6.2.0 in /usr/local/lib/python3.9/site-packages (from matplotlib!=3.6.1,>=3.1->seaborn) (9.4.0)\n",
            "Requirement already satisfied: packaging>=20.0 in /Users/iketutg/Library/Python/3.9/lib/python/site-packages (from matplotlib!=3.6.1,>=3.1->seaborn) (23.0)\n",
            "Requirement already satisfied: kiwisolver>=1.0.1 in /usr/local/lib/python3.9/site-packages (from matplotlib!=3.6.1,>=3.1->seaborn) (1.4.4)\n",
            "Requirement already satisfied: contourpy>=1.0.1 in /usr/local/lib/python3.9/site-packages (from matplotlib!=3.6.1,>=3.1->seaborn) (1.0.7)\n",
            "Requirement already satisfied: pytz>=2020.1 in /usr/local/lib/python3.9/site-packages (from pandas>=0.25->seaborn) (2022.7.1)\n",
            "Requirement already satisfied: six>=1.5 in /usr/local/lib/python3.9/site-packages (from python-dateutil>=2.7->matplotlib!=3.6.1,>=3.1->seaborn) (1.16.0)\n",
            "\u001b[33mDEPRECATION: Configuring installation scheme with distutils config files is deprecated and will no longer work in the near future. If you are using a Homebrew or Linuxbrew Python, please see discussion at https://github.com/Homebrew/homebrew-core/issues/76621\u001b[0m\u001b[33m\n",
            "\u001b[0mNote: you may need to restart the kernel to use updated packages.\n"
          ]
        }
      ],
      "source": [
        "pip install seaborn "
      ]
    },
    {
      "cell_type": "code",
      "execution_count": 13,
      "metadata": {},
      "outputs": [],
      "source": [
        "import seaborn as sns\n",
        "import pandas as pd\n",
        "\n",
        "tips = sns.load_dataset(\"tips\")"
      ]
    },
    {
      "cell_type": "code",
      "execution_count": 14,
      "metadata": {},
      "outputs": [
        {
          "name": "stdout",
          "output_type": "stream",
          "text": [
            "0.6757341092113641\n"
          ]
        }
      ],
      "source": [
        "corr = tips[\"total_bill\"].corr(tips[\"tip\"])\n",
        "print(corr)\n"
      ]
    },
    {
      "cell_type": "code",
      "execution_count": 15,
      "metadata": {},
      "outputs": [
        {
          "data": {
            "text/plain": [
              "<AxesSubplot: xlabel='total_bill', ylabel='tip'>"
            ]
          },
          "execution_count": 15,
          "metadata": {},
          "output_type": "execute_result"
        },
        {
          "data": {
            "image/png": "[encoded data removed]",
            "text/plain": [
              "<Figure size 640x480 with 1 Axes>"
            ]
          },
          "metadata": {},
          "output_type": "display_data"
        }
      ],
      "source": [
        "sns.regplot(x=\"total_bill\", y=\"tip\", data=tips)\n"
      ]
    },
    {
      "cell_type": "markdown",
      "metadata": {
        "id": "jLBBxbIweC1F"
      },
      "source": [
        "Visualisasi : \n",
        "\n",
        "\n",
        "\n",
        "Cluster Bar Chart \n",
        "\n",
        "Sex , Survived dan die  berdasarkan jumlah \n",
        "\n",
        "Scatter Plot : \n",
        "\n",
        "Relation beetwen Variabel \n",
        "\n",
        "\n",
        "\n",
        "Box Plot \n",
        "\n",
        "Age & Survived \n",
        "\n",
        "\n",
        "Histogram \n",
        "\n",
        "Age & Fare \n",
        "\n",
        "\n",
        "\n",
        "Pie : \n",
        "Passeger Class \n",
        "\n",
        "\n",
        "Bar \n",
        "\n",
        "Pria dan Wanita \n",
        "\n",
        "Age & Fare \n"
      ]
    }
  ],
  "metadata": {
    "colab": {
      "collapsed_sections": [],
      "provenance": [],
      "toc_visible": true
    },
    "kernelspec": {
      "display_name": "Python 3",
      "language": "python",
      "name": "python3"
    },
    "language_info": {
      "codemirror_mode": {
        "name": "ipython",
        "version": 3
      },
      "file_extension": ".py",
      "mimetype": "text/x-python",
      "name": "python",
      "nbconvert_exporter": "python",
      "pygments_lexer": "ipython3",
      "version": "3.9.16"
    },
    "vscode": {
      "interpreter": {
        "hash": "397704579725e15f5c7cb49fe5f0341eb7531c82d19f2c29d197e8b64ab5776b"
      }
    }
  },
  "nbformat": 4,
  "nbformat_minor": 0
}
